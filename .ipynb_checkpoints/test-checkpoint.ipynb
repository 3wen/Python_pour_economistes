{
 "cells": [
  {
   "cell_type": "markdown",
   "metadata": {},
   "source": [
    "---\n",
    "title: \"Python pour les économistes\"\n",
    "author: \"Ewen Gallic\"\n",
    "date: \"Octobre 2018\"\n",
    "knit: \"bookdown::render_book\"\n",
    "documentclass: book\n",
    "bibliography: [biblio.bib]\n",
    "biblio-style: apalike\n",
    "link-citations: yes\n",
    "colorlinks: yes\n",
    "lot: yes\n",
    "lof: yes\n",
    "fontsize: 12pt\n",
    "monofont: \"Source Code Pro\"\n",
    "monofontoptions: \"Scale=0.7\"\n",
    "site: bookdown::bookdown_site\n",
    "output:\n",
    "  bookdown::gitbook:\n",
    "    css: styles/style.css\n",
    "    highlight: tango\n",
    "    config:\n",
    "      toc:\n",
    "        collapse: subsection\n",
    "        scroll_highlight: yes\n",
    "        before: null\n",
    "        after: null\n",
    "      search: yes\n",
    "      edit: https://github.com/3wen/Python_pour_economistes/edit/master/%s\n",
    "  bookdown::pdf_book:\n",
    "    highlight: tango\n",
    "    keep_tex: yes\n",
    "    includes:\n",
    "      in_header: styles/mystyle_books.tex\n",
    "  bookdown::epub_book:\n",
    "    stylesheet: styles/style.css\n",
    "---\n",
    "\n",
    "\n",
    "\n",
    "\n",
    "\n",
    "# Propos liminaires {-}\n",
    "\n",
    "<!-- ```{r, echo=F} -->\n",
    "<!-- invisible(py_config()) -->\n",
    "<!-- ``` -->\n",
    "\n",
    "\n",
    "\n",
    "\n",
    "\n",
    "Ces notes de cours ont été réalisées dans le cadre d'un enseignement d'introduction à Python adressé à des étudiants du parcours Économétrie et Big Data de [l'École d'Economie d'Aix-Marseille / Aix-Marseille School of Economics (AMSE)](https://www.amse-aixmarseille.fr/) d'Aix-Marseille Université.\n",
    "\n",
    "\n",
    "## Objectifs\n",
    "\n",
    "Cet ouvrage a pour but l'initiation au langage de programmation Python, afin d'être capable de s'en servir de manière efficace et autonome. Le lecteur peut exécuter tous les exemples fournis (et est vivement encouragé à le faire). Des exercices viennent clore certains chapitres, pour mieux s'approprier les notions couvertes au fur et à mesure de la lecture.\n",
    "\n",
    "\n",
    "Bien évidemment, Python étant un langage très vaste, ces notes ne sauraient et n'ont pas pour vocation à être exhaustives de l'utilisation de ce langage informatique.\n",
    "\n",
    "\n",
    "\n",
    "\n",
    "## À qui s'adressent ces notes ?\n",
    "\n",
    "Dans un premier temps, cet ouvrage s'adresse aux débutants qui souhaientent apprendre les bases en Python. Il est à destination des étudiants de l'AMSE mais pourrait intéresser des individus ayant une approche de la donnée à travers la discipline économique désirant découvrir Python.\n",
    "\n",
    "# Introduction\n",
    "\n",
    "\n",
    "Ce document est construit principalement à l'aide de différentes références, parmi lesquelles :\n",
    "\n",
    "- des livres : @briggs_2013_python, @grus_2015_data, @vanderplas2016python, @mckinney_2017_python ;\n",
    "- des (excellents) notebooks : @navaro_python.\n",
    "\n",
    "\n",
    "\n",
    "## Historique\n",
    "\n",
    "\n",
    "Python est un langage de programmation multi plates-formes, écrit en `C`, placé sous une licence libre. Il s'agit d'un langage interprété, c'est-à-dire qu'il nécessite un interprète pour exécuter les commandes, et n'a pas de phase de compilation. Sa première version publique date de 1991. L'auteur principal, [Guido van Rossum](https://en.wikipedia.org/wiki/Guido_van_Rossum) avait commencé à travailler sur ce langage de programmation durant la fin des années 1980. Le nom accordé au langage Python provient de l'intérêt de son créateur principal pour une série télévisée britannique diffusée sur la BBC intitulée \"*Monty Python's Flying Circus*\".\n",
    "\n",
    "La popularité de Python a connu une croissance forte ces dernières années, comme le confirment les résultats de sondages proposés par [Stack Overflow](https://stackoverflow.com/) depuis 2011. Stack Overflow propose à ses utilisateurs de répondre à une enquête dans laquelle de nombreuses questions leur sont proposées, afin de décrire leur expérience en tant que développeur. [Les résultats de l'enquête de 2018](https://insights.stackoverflow.com/survey/2018#technology) montrent une nouvelle avancée de l'utilisation de Python par les développeurs. En effet, comme le montre la Figure\\ \\@ref(fig:intro-stack-langages), 38.8% des répondants indiquent développer en Python, soit 6.8 points de pourcentage de plus qu'un an auparavant, ce qui fait de ce langage de programmation celui dont la croissance a été la plus importante entre 2017 et 2018.\n",
    "\n",
    "\n",
    "\n",
    "## Versions\n",
    "\n",
    "Ces notes de cours visent à fournir une introduction à Python, dans sa version 3.x. En ce sens, les exemples fournis corresponderont à cette version, non pas aux précédentes.\n",
    "\n",
    "Comparativement à la version 2.7, la version 3.0 a apporté des modofications profondes. Il faut noter que Python 2.7 prendra \"[sa retraite](https://pythonclock.org/)\" le premier janvier 2020. Passée cette date, le support ne sera plus assuré.\n",
    "\n",
    "## Espace de travail\n",
    "\n",
    "Il existe de nombreux environnements dans lesquels programmer en Python. Nous allons en présenter succinctement quelques uns.\n",
    "\n",
    "Il est supposé ici que vous vous avez installé [Anaconda](https://www.anaconda.com/) sur votre poste. Anaconda est une distribution gratuite et open source des langages de programmation Python et R pour les applications en *data science* et apprentissage automatique. Par ailleurs, lorsqu'il est fait mention du terminal dans les notes, il est supposé que le système d'exploitation de votre machine est soit Linux, soit Mac OS.\n",
    "\n",
    "### Python dans un terminal\n",
    "\n",
    "Il est possible d'appeler Python depuis un terminal, en exécutant la commande suivante (sous Windows : dans le menu démarrer, lancer le logiciel \"Python 3.6\") :"
   ]
  },
  {
   "cell_type": "code",
   "execution_count": null,
   "metadata": {
    "attributes": {
     "classes": [
      "shell"
     ],
     "id": ""
    }
   },
   "outputs": [],
   "source": [
    "python"
   ]
  },
  {
   "cell_type": "markdown",
   "metadata": {},
   "source": [
    "Ce qui donne le rendu visible sur la Figure\\ \\@ref(fig:intro-python-terminal) :\n",
    "\n",
    "\n",
    "\n",
    "On note la présence des caractères `>>>` (*prompt*), qui invitent l'utilisateur à inscrie une commande. Les expressions sont évaluées une fois qu'elle sont soumises (à l'aide de la touche `ENTREE`) et le résultat est donné, lorsqu'il n'y a pas d'erreur dans le code.\n",
    "\n",
    "Par exemple, lorsque l'on évalue `2+1` :"
   ]
  },
  {
   "cell_type": "code",
   "execution_count": null,
   "metadata": {
    "attributes": {
     "classes": [
      "shell"
     ],
     "id": ""
    }
   },
   "outputs": [],
   "source": [
    ">>> 2+1\n",
    "3\n",
    ">>>"
   ]
  },
  {
   "cell_type": "markdown",
   "metadata": {},
   "source": [
    "On note la présence du *prompt* à la fin, indiquant que Python est prêt à recevoir de nouvelles instructions.\n",
    "\n",
    "\n",
    "### IPython\n",
    "\n",
    "Il existe un environnement un peu plus chaleureux que Python dans le terminal : IPython. Il s'agit également d'un terminal interactif, mais avec davantages de fonctionnalités, notamment la coloration syntaxique ou l'auto-complétion (en utilisant la touche de tabulation).\n",
    "\n",
    "Pour lancer IPython, on peut ouvrir un terminal et taper (puis valider) :"
   ]
  },
  {
   "cell_type": "code",
   "execution_count": null,
   "metadata": {
    "attributes": {
     "classes": [
      "shell"
     ],
     "id": ""
    }
   },
   "outputs": [],
   "source": [
    "ipython"
   ]
  },
  {
   "cell_type": "markdown",
   "metadata": {},
   "source": [
    "On peut également lancer IPython depuis la fenêtre d'accueil d'Anaconda, en cliquant sur le bouton `Launch` de l'application `qtconsole`, visible sur la Figure\\ \\@ref(fig:intro-anaconda-navigator).\n",
    "\n",
    "\n",
    "\n",
    "\n",
    "\n",
    "La console IPython, une fois lancée, ressemble à ceci :\n",
    "\n",
    "\n",
    "Soumettons une instruction simple pour évaluation à Python :"
   ]
  },
  {
   "cell_type": "code",
   "execution_count": null,
   "metadata": {},
   "outputs": [],
   "source": [
    "print(\"Hello World\")"
   ]
  },
  {
   "cell_type": "markdown",
   "metadata": {},
   "source": [
    "Le résultat donne :"
   ]
  },
  {
   "cell_type": "code",
   "execution_count": null,
   "metadata": {
    "attributes": {
     "classes": [
      "shell"
     ],
     "id": ""
    }
   },
   "outputs": [],
   "source": [
    "In [1]: print(\"Hello World\")\n",
    "Hello World\n",
    "\n",
    "In [2]:"
   ]
  },
  {
   "cell_type": "markdown",
   "metadata": {},
   "source": [
    "Plusieurs choses sont à noter. Premièrement, on note qu'à la fin de l'exécution de l'instruction, IPython nous indique qu'il est prêt à recevoir de nouvelles instruction, par la présence du *prompt* `In [2]:`. Le numéro entre les crochets désigne le numéro de l'instruction. On note qu'il est passé de 1 à 2 après l'exécution. Ensuite, on note que le résultat de l'appel à la fonction `print()`, avec la chaîne de caractères (délimitée par des guillemets), affiche à l'écran ce qui était contenu entre les parenthèses.\n",
    "\n",
    "### Spyder\n",
    "\n",
    "Tandis que lorsqu'on utilise Python via un terminal, il est préférable d'avoir un éditeur de texte ouvert à côté (pour pouvoir sauvegarder les instructions), comme, par exemple, [Sublime Text](https://www.sublimetext.com/) sous Linux ou Mac OS, ou [notepad++](https://notepad-plus-plus.org/) sous Windows.\n",
    "\n",
    "Une autre alternative consiste à utiliser un environnement de développement (IDE, pour *Integrated development environment*) unique proposant notamment, à la fois un éditeur et une console. C'est ce que propose [Spyder](https://www.spyder-ide.org/), avec en outre de nombreuses fonctionnalités supplémentaires, comme la gestion de projet, un explorateur de fichier, un historique des commandes, un débugger, etc.\n",
    "\n",
    "\n",
    "Pour lancer Spyder, on peut passer par un terminal, en évaluant tout simplement `Spyder` (ou en lançant le logiciel depuis le menu démarrer sous Windows). Il est également possible de lancer Spyder depuis Anaconda.\n",
    "\n",
    "L'environnement de développement, comme visible sur la Figure\\ \\@ref(fig:intro-spyder), se décompose en plusieurs fenêtres :\n",
    "\n",
    "- à gauche : l'éditeur de script ;\n",
    "- en haut à droite : une fenêtre permettant d'afficher l'aide de Python, l'arborescence du système ou encore les variables créées ;\n",
    "- en bas à droite : une ou plusieurs consoles.\n",
    "\n",
    "\n",
    "\n",
    "\n",
    "### Jupyter\n",
    "\n",
    "Il existe une interface graphique par navigateur d'IPython, appelée [Jupyter Notebook](http://jupyter.org/). Il s'agit d'une application en open-source permettant de créer et partager des documents qui contiennent du code, des équations, des représentations graphiques et du texte. Il est possible de faire figurer et exécuter des codes de langages différents dans les notebook Jupyter.\n",
    "\n",
    "\n",
    "Pour lancer Jupyter, on peut passer par Anaconda. Après avoir cliqué sur le bouton `Launch`, de Jupyter Notebook, le navigateur web se lance et propose une arborescence, comme montré sur la Figure\\ \\@ref(fig:intro-jupyter). Sans que l'on s'en rendiez compte, un serveur local web a été lancé ainsi qu'un processus Python (un *kernel*).\n",
    "\n",
    "Si le navigateur en se lance pas automatiquement, on peut accéder à la page qui aurait dû s'afficher, en se rendant à l'adresse suivante : http://localhost:8890/tree?.\n",
    "\n",
    "\n",
    "\n",
    "\n",
    "Pour aborder les principales fonctions de Jupyter, nous allons créer un dossier `jupyter` dans un répertoire de notre choix. Une fois ce dossier créé, y naviguer à travers l'arborescence de Jupyter, dans le navigateur web.\n",
    "\n",
    "\n",
    "Une fois dans le dossier, créer un nouveau Notebook `Python 3` (en cliquant sur le bouton `New` en haut à gauche de la fenêtre, puis sur  Python 3`).\n",
    "\n",
    "\n",
    "Un notebook intitulé `Untitled` vient d'être créé, la page affiche un document vide, comme visible sur la Figure\\ \\@ref(fig:intro-jupyter-notebook).\n",
    "\n",
    "\n",
    "\n",
    "\n",
    "\n",
    "Si on regarde dans notre explorateur de fichier, dans le dossier `jupyter` fraîchement créé, un nouveau fichier est apparu : `Untitled.ipynb`.\n",
    "\n",
    "\n",
    "\n",
    "\n",
    "\n",
    "#### Évaluation d'une instruction\n",
    "\n",
    "Retournons dans le navigateur web, sur la page affichant notre *notebook*.\n",
    "\n",
    "En dessous de la barre des menus, on note la présence d'une zone encadrée, **une cellule**, commençant, à l'instar de ce que l'on voyait dans la console sur IPython, par `IN []:`. À droite, la zone grisée nous invite à soumettre des instructions en Python.\n",
    "\n",
    "Inscrivons :"
   ]
  },
  {
   "cell_type": "code",
   "execution_count": null,
   "metadata": {},
   "outputs": [],
   "source": [
    "2+1"
   ]
  },
  {
   "cell_type": "markdown",
   "metadata": {},
   "source": [
    "Pour soumettre l'instruction à évaluation, il existe plusieurs manières (il s'assurer d'avoir cliqué à l'intérieur de la cellule) :\n",
    "\n",
    "- dans la barre des menus : `Cell > Run Cells` ;\n",
    "- dans la barre des raccourcis : bouton `Run` ;\n",
    "- avec le clavier : maintenir la touche `CTRL`et presser sur `Entree`.\n",
    "\n",
    "\n",
    "\n",
    "#### Cellules de texte\n",
    "\n",
    "Un des intérêts des *notebooks* est qu'il est possible d'ajouter des cellules de texte.\n",
    "\n",
    "Ajoutons une cellule en-dessous de la première. Pour ce faire, on peut procéder soit :\n",
    "\n",
    "- par la barre de menu : `Insert > Insert Cell Below` (pour insérer une cellule en-dessous ; si on désire une insertion au-dessus, il suffit de choisir `Insert Cell Above`) ;\n",
    "- en cliquant dans le cadre de la cellule à partir de laquelle on désire faire un ajout (n'importe où, sauf dans la zone grisée de code, de manière à passer en mode `commande`), puis en appuyant sur la touche `B` du clavier (`A` pour une insertion au-dessus).\n",
    "\n",
    "La nouvelle cellule appelle à nouveau à inscrire une instruction en Python. Pour indiquer que le contenu doit être interprété comme du texte, il est nécessaire de le préciser. Encore une fois, plusieurs méthodes permettent de le faire :\n",
    "\n",
    "- par la barre de menu : `Cell > Cell Type > Markdown` ;\n",
    "- par la barre des raccourcis : dans le menu déroulant où est inscrit `Code`, en sélectionnant `Markdown` ;\n",
    "- en mode commande (après avoir cliqué à l'intérieur du cadre de la cellule, mais pas dans la zone de code), en appuyant sur la touche `M` du clavier.\n",
    "\n",
    "La cellule est alors prête à recevoir du texte, rédigé en markdown. Pour plus d'informations sur la rédaction en Markdown, se référer à cette [antisèche](https://github.com/adam-p/markdown-here/wiki/Markdown-Cheatsheet) par exemple.\n",
    "\n",
    "Entrons quelques lignes de texte pour voir très rapidement le fonctionnement des cellules rédigées en Markdown."
   ]
  },
  {
   "cell_type": "code",
   "execution_count": null,
   "metadata": {
    "attributes": {
     "classes": [
      "shell"
     ],
     "id": ""
    }
   },
   "outputs": [],
   "source": [
    "# Un titre de niveau 1\n",
    "\n",
    "Je vais écrire *du texte en italique* et aussi **en gras**.\n",
    "\n",
    "## Un titre de niveau 2\n",
    "\n",
    "Je peux faire des listes :\n",
    "\n",
    "- avec un item ;\n",
    "- un second ;\n",
    "- et un troisième imbriquant une nouvelle liste :\n",
    "    - avec un sous-item,\n",
    "    - et un second ;\n",
    "- un quatrième incluant une liste imbriquée numérotée :\n",
    "    1. avec un sous-item,\n",
    "    1. et un autre.\n",
    "\n",
    "## Un autre titre de niveau 2\n",
    "\n",
    "\n",
    "Je peux même faire figurer des équation $\\LaTeX$.\n",
    "Comme par exemple $X \\sim \\mathcal{N}(0,1)$.\n",
    "\n",
    "Pour en savoir plus sur $\\LaTeX$, on peut se référer à cette :\n",
    "  [page Wikipédia](https://en.wikibooks.org/wiki/LaTeX/Mathematics)."
   ]
  },
  {
   "cell_type": "markdown",
   "metadata": {},
   "source": [
    "Ce qui donne, dans Jupyter :\n",
    "\n",
    "\n",
    "\n",
    "Reste alors à l'évaluer, comme s'il s'agissait d'une cellule contenant une instruction Python, pour basculer vers un affichage Markdown (`CTRL` et `ENTREE`).\n",
    "\n",
    "Pour **éditer le texte** une fois que l'on a basculé en markdown, un simple double-clic dans la zone de texte de la cellule fait l'affaire.\n",
    "\n",
    "Pour **changer le type de la cellule pour qu'elle devienne du code** :\n",
    "\n",
    "- par la barre de menu : `Cell > Cell Type > Code` ;\n",
    "- par la barre des raccourcis : dans le menu déroulant où est inscrit `Code`, en sélectionnant `Code` ;\n",
    "- en mode commande, appuyer sur la touche du clavier `Y`.\n",
    "\n",
    "\n",
    "#### Suppression d'une cellule\n",
    "\n",
    "Pour supprimer une cellule :\n",
    "\n",
    "- par la barre de menu : `Edit > Delete Cells` ;\n",
    "- par la barre des raccourcis : icône en forme de ciseaux ;\n",
    "- en mode commande, appuyer deux fois sur la touche du clavier `D`.\n",
    "\n",
    "\n",
    "## Les variables\n",
    "\n",
    "### Assignation et suppression\n",
    "\n",
    "Lorsque nous avons évalué les instructions `2+1` précédemment, le résultat s'est affiché dans la console, mais il n'a pas été enregistré. Dans de nombreux cas, il est utile de conserver le contenu du résultat dans un objet, pour pouvoir le réutiliser par la suite. Pour ce faire, on utilise des *variables*. Pour créer une variable, on utilise le signe d'égalité (`=`), que l'on fait suivre par ce que l'on veut sauvegarder (du texte, un nombre, plusieurs nombres, etc.) et précéder par le nom que l'on utilisera pour désigner cette variable.\n",
    "\n",
    "Par exemple, si on souhaite stocker le résultat du calcul `2+1` dans une variable que l'on nommera `x`, il faudra écrire :"
   ]
  },
  {
   "cell_type": "code",
   "execution_count": null,
   "metadata": {},
   "outputs": [],
   "source": [
    "x = 2+1"
   ]
  },
  {
   "cell_type": "markdown",
   "metadata": {},
   "source": [
    "Pour afficher la valeur de notre variable `x`, on fait appel à la fonction `print()` :"
   ]
  },
  {
   "cell_type": "code",
   "execution_count": null,
   "metadata": {},
   "outputs": [],
   "source": [
    "print(x)"
   ]
  },
  {
   "cell_type": "code",
   "execution_count": null,
   "metadata": {},
   "outputs": [],
   "source": [
    "## 3"
   ]
  },
  {
   "cell_type": "markdown",
   "metadata": {},
   "source": [
    "Pour changer la valeur de la variable, il suffit de faire une nouvelle assignation :"
   ]
  },
  {
   "cell_type": "code",
   "execution_count": null,
   "metadata": {},
   "outputs": [],
   "source": [
    "x = 4\n",
    "print(x)"
   ]
  },
  {
   "cell_type": "code",
   "execution_count": null,
   "metadata": {},
   "outputs": [],
   "source": [
    "## 4"
   ]
  },
  {
   "cell_type": "markdown",
   "metadata": {},
   "source": [
    "Il est également possible de donner plus d'un nom à un même contenu (on réalise une copie de `x`) :"
   ]
  },
  {
   "cell_type": "code",
   "execution_count": null,
   "metadata": {},
   "outputs": [],
   "source": [
    "x = 4;\n",
    "y = x;\n",
    "print(y)"
   ]
  },
  {
   "cell_type": "code",
   "execution_count": null,
   "metadata": {},
   "outputs": [],
   "source": [
    "## 4"
   ]
  },
  {
   "cell_type": "markdown",
   "metadata": {},
   "source": [
    "Si on modifie la copie, l'original ne sera pas affecté :"
   ]
  },
  {
   "cell_type": "code",
   "execution_count": null,
   "metadata": {},
   "outputs": [],
   "source": [
    "y = 0\n",
    "print(y)"
   ]
  },
  {
   "cell_type": "code",
   "execution_count": null,
   "metadata": {},
   "outputs": [],
   "source": [
    "## 0"
   ]
  },
  {
   "cell_type": "code",
   "execution_count": null,
   "metadata": {},
   "outputs": [],
   "source": [
    "print(x)"
   ]
  },
  {
   "cell_type": "code",
   "execution_count": null,
   "metadata": {},
   "outputs": [],
   "source": [
    "## 4"
   ]
  },
  {
   "cell_type": "markdown",
   "metadata": {},
   "source": [
    "Pour **supprimer** une variable, on utilise l'instruction `del` :"
   ]
  },
  {
   "cell_type": "code",
   "execution_count": null,
   "metadata": {},
   "outputs": [],
   "source": [
    "del y"
   ]
  },
  {
   "cell_type": "markdown",
   "metadata": {},
   "source": [
    "L'affichage du contenu de `y` renvoit une erreur :"
   ]
  },
  {
   "cell_type": "code",
   "execution_count": null,
   "metadata": {},
   "outputs": [],
   "source": [
    "print(y)"
   ]
  },
  {
   "cell_type": "code",
   "execution_count": null,
   "metadata": {},
   "outputs": [],
   "source": [
    "## NameError: name 'y' is not defined\n",
    "## \n",
    "## Detailed traceback: \n",
    "##   File \"<string>\", line 1, in <module>"
   ]
  },
  {
   "cell_type": "markdown",
   "metadata": {},
   "source": [
    "Mais on note que la variable `x` n'a pas été supprimée :"
   ]
  },
  {
   "cell_type": "code",
   "execution_count": null,
   "metadata": {},
   "outputs": [],
   "source": [
    "print(x)"
   ]
  },
  {
   "cell_type": "code",
   "execution_count": null,
   "metadata": {},
   "outputs": [],
   "source": [
    "## 4"
   ]
  },
  {
   "cell_type": "markdown",
   "metadata": {},
   "source": [
    "### Conventions de nommage\n",
    "\n",
    "Le nom d'une variable peut être composé de caractères alphanumériques ainsi que du trait de soulignement (`_`) (il n'y a pas de limite sur la longueur du nom). Il est proscrit de faire commencer le nom de la variable par un nombre. Il est également interdit de faire figurer une espace dans le nom d'une variable.\n",
    "\n",
    "Pour accroitre la lisibilité du nom des variables, plusieurs méthodes existes. Nous adopterons la suivante :\n",
    "\n",
    "- toutes les lettres en minuscule ;\n",
    "- la séparation des termes par un trait de soulignement.\n",
    "\n",
    "Exemple, pour une variable contenant la valeur de l'identifiant d'un utilisateur : `id_utilisateur`.\n",
    "\n",
    "Il faut noter que le nom des variables est **sensible à la casse** :"
   ]
  },
  {
   "cell_type": "code",
   "execution_count": null,
   "metadata": {},
   "outputs": [],
   "source": [
    "x = \"toto\"\n",
    "print(x)"
   ]
  },
  {
   "cell_type": "code",
   "execution_count": null,
   "metadata": {},
   "outputs": [],
   "source": [
    "## toto"
   ]
  },
  {
   "cell_type": "code",
   "execution_count": null,
   "metadata": {},
   "outputs": [],
   "source": [
    "print(X)"
   ]
  },
  {
   "cell_type": "code",
   "execution_count": null,
   "metadata": {},
   "outputs": [],
   "source": [
    "## NameError: name 'X' is not defined\n",
    "## \n",
    "## Detailed traceback: \n",
    "##   File \"<string>\", line 1, in <module>"
   ]
  },
  {
   "cell_type": "markdown",
   "metadata": {},
   "source": [
    "## Les commentaires\n",
    "\n",
    "\n",
    "Pour ajouter des commentaires en python, il existe plusieurs façons.\n",
    "\n",
    "\n",
    "Une des manières de faire est d'utiliser le symbole dièse (`#`) pour effectuer un **commentaire sur une seule ligne**. Tout ce qui suit le dièse jusqu'à la fin de la ligne ne sera pas évalué par Python. En revanche, ce qui vient avant le dièse le sera."
   ]
  },
  {
   "cell_type": "code",
   "execution_count": null,
   "metadata": {},
   "outputs": [],
   "source": [
    "# Un commentaire print(\"Bonjour\")\n",
    "print(\"Hello\") # Un autre commentaire"
   ]
  },
  {
   "cell_type": "code",
   "execution_count": null,
   "metadata": {},
   "outputs": [],
   "source": [
    "## Hello"
   ]
  },
  {
   "cell_type": "markdown",
   "metadata": {},
   "source": [
    "L'introduction d'un **bloc de commentaires** (des commentaires sur plusieurs lignes) s'effectue quant à elle en entourant ce qui est ) commenter d'un délimiteur : trois guillemets simples ou doubles :"
   ]
  },
  {
   "cell_type": "code",
   "execution_count": null,
   "metadata": {},
   "outputs": [],
   "source": [
    "\"\"\"\n",
    "Un commentaire qui commencer sur une ligne\n",
    "et qui continue sur une autre\n",
    "et s'arrête à la troisième\n",
    "\"\"\""
   ]
  },
  {
   "cell_type": "markdown",
   "metadata": {},
   "source": [
    "## Les modules et les packages\n",
    "\n",
    "\n",
    "Certaines fonctions de base en Python sont chargées par défaut. D'autres, nécessitent de charger un **module**. Ces modules sont des fichiers qui contiennent des **définitions** ainsi que des **instructions**.\n",
    "\n",
    "Lorsque plusieurs modules sont réunis pour offrir un ensemble de fonctions, on parle alors de _**package**_.\n",
    "\n",
    "Parmi les *packages* qui seront utilisés dans ces notes, on peut citer :\n",
    "\n",
    "- [NumPy](http://www.numpy.org/), un *package* fondamental pour effectuer des calculs scientifiques ;\n",
    "- [pandas](https://pandas.pydata.org/), un *package* permettant de manipuler facilement les données et de les analyser ;\n",
    "- [Matplotlib](https://matplotlib.org/), un *package* permettant de réaliser des graphiques.\n",
    "\n",
    "Pour charger un module (ou un *package*), on utilise la commande `import`. Par exemple, pour charger le *package* `pandas` :"
   ]
  },
  {
   "cell_type": "code",
   "execution_count": null,
   "metadata": {},
   "outputs": [],
   "source": [
    "import pandas"
   ]
  },
  {
   "cell_type": "markdown",
   "metadata": {},
   "source": [
    "Ce qui permet de faire appel à des fonctions contenues dans le module ou le *package*. Par exemple, ici, on peut faire appel à la fonction `Series()`, contenue dans le *package* `pandas`, permettant de créer un tableau de données indexées à une dimension :"
   ]
  },
  {
   "cell_type": "code",
   "execution_count": null,
   "metadata": {},
   "outputs": [],
   "source": [
    "x = pandas.Series([1, 5, 4])\n",
    "print(x)"
   ]
  },
  {
   "cell_type": "code",
   "execution_count": null,
   "metadata": {},
   "outputs": [],
   "source": [
    "## 0    1\n",
    "## 1    5\n",
    "## 2    4\n",
    "## dtype: int64"
   ]
  },
  {
   "cell_type": "markdown",
   "metadata": {},
   "source": [
    "Il est possible de donner un alias au module ou au *package* que l'on importe, en le précisant à l'aide de la syntaxe suivante :"
   ]
  },
  {
   "cell_type": "code",
   "execution_count": null,
   "metadata": {},
   "outputs": [],
   "source": [
    "import module as alias"
   ]
  },
  {
   "cell_type": "markdown",
   "metadata": {},
   "source": [
    "Cette pratique est courante pour abréger les noms des modules que l'on va être amené à utiliser beaucoup. Par exemple, pour `pandas`, il est coutume d'écourter le nom en `pd` :"
   ]
  },
  {
   "cell_type": "code",
   "execution_count": null,
   "metadata": {},
   "outputs": [],
   "source": [
    "import pandas as pd\n",
    "x = pd.Series([1, 5, 4])\n",
    "print(x)"
   ]
  },
  {
   "cell_type": "code",
   "execution_count": null,
   "metadata": {},
   "outputs": [],
   "source": [
    "## 0    1\n",
    "## 1    5\n",
    "## 2    4\n",
    "## dtype: int64"
   ]
  },
  {
   "cell_type": "markdown",
   "metadata": {},
   "source": [
    "On peut également importer une seule fonction d'un module, et lui attribuer (optionnellement) un alias. Par exemple, avec la fonction `pyplot` du *package* `matplotlib`, il est coutume de faire comme suit :"
   ]
  },
  {
   "cell_type": "code",
   "execution_count": null,
   "metadata": {},
   "outputs": [],
   "source": [
    "import matplotlib\n",
    "import matplotlib.pyplot  as plt\n",
    "import numpy  as np\n",
    "x = np.arange(0, 5, 0.1);\n",
    "y = np.sin(x)\n",
    "plt.plot(x, y)"
   ]
  },
  {
   "cell_type": "code",
   "execution_count": null,
   "metadata": {},
   "outputs": [],
   "source": [
    "## FileNotFoundError: [Errno 2] No such file or directory: 'figs/intro_pyplot.png'\n",
    "## \n",
    "## Detailed traceback: \n",
    "##   File \"<string>\", line 1, in <module>\n",
    "##   File \"/anaconda3/lib/python3.6/site-packages/matplotlib/figure.py\", line 2035, in savefig\n",
    "##     self.canvas.print_figure(fname, **kwargs)\n",
    "##   File \"/anaconda3/lib/python3.6/site-packages/matplotlib/backend_bases.py\", line 2263, in print_figure\n",
    "##     **kwargs)\n",
    "##   File \"/anaconda3/lib/python3.6/site-packages/matplotlib/backends/backend_agg.py\", line 526, in print_png\n",
    "##     with cbook.open_file_cm(filename_or_obj, \"wb\") as fh:\n",
    "##   File \"/anaconda3/lib/python3.6/contextlib.py\", line 81, in __enter__\n",
    "##     return next(self.gen)\n",
    "##   File \"/anaconda3/lib/python3.6/site-packages/matplotlib/cbook/__init__.py\", line 624, in open_file_cm\n",
    "##     fh, opened = to_filehandle(path_or_file, mode, True, encoding)\n",
    "##   File \"/anaconda3/lib/python3.6/site-packages/matplotlib/cbook/__init__.py\", line 609, in to_filehandle\n",
    "##     fh = io.open(fname, flag, encoding=encoding)"
   ]
  },
  {
   "cell_type": "markdown",
   "metadata": {},
   "source": [
    "## L'aide\n",
    "\n",
    "\n",
    "Pour conclure cette introduction, il semble important de mentionner la présence de l'**aide** et de la **documentation** en Python.\n",
    "\n",
    "Pour obtenir des informations sur des fonctions, il est possible de se référer à la [documentation en ligne](https://docs.python.org/3/). Il est également possible d'obtenir de l'aide à l'intérieur de l'environnement que l'on utilise, en utilisant le point d'interrogation (`?`).\n",
    "\n",
    "Par exemple, lorsque l'on utilise IPython (ce qui, rappelons-le, est le cas dans Jupyter), on peut accéder à l'aide à travers différentes syntaxes :\n",
    "\n",
    "- `?` : fournit une introduction et un aperçu des fonctionnalités offertes en Python (on la quitte avec la touche `ESC` par exemple);\n",
    "- `object?` : fournit des détails au sujet de `'object'` (par exemple `x?` ou encore `plt.plot?`) ;\n",
    "- `object??` : plus de détails à propos de `'object'` ;\n",
    "- `%quickref` : référence courte sur les syntaxes en Python ;\n",
    "- `help()` : accès à l'aide de Python.\n",
    "\n",
    "\n",
    "*Note* : la touche de **tabulation** du clavier permet non seulement une **autocomplétion**, mais aussi une **exploration du contenu** d'un objet ou module.\n",
    "\n",
    "Par ailleurs, lorsqu'il s'agit de trouver de l'aide sur un problème plus complèxe, le bon réflèxe à adopter est de ne pas hésiter à chercher sur un moteur de recherche, dans des mailing-lists et bien évidemment sur les nombreuses questions sur [Stack Overflow](https://stackoverflow.com).\n",
    "\n",
    "\n",
    "\n",
    "# Types de données\n",
    "\n",
    "Il existe quelques types de données intégrés dans Python. Nous allons dans cette partie évoquer les chaînes de caractères, les valeurs numériques, les bouléens (`TRUE`/`FALSE`), la valeur `null` et les dates et temps.\n",
    "\n",
    "\n",
    "## Chaînes de caractères\n",
    "\n",
    "\n",
    "Une chaîne de caractères, ou *string* en anglais, est une collection de caractères comme des lettres, des nombres, des espaces, des signes de ponctuation, etc.\n",
    "\n",
    "Les chaînes de caractères sont repérées à l'aide de guillemets simples, doubles, ou triples.\n",
    "\n",
    "Voici un exemple :"
   ]
  },
  {
   "cell_type": "code",
   "execution_count": null,
   "metadata": {},
   "outputs": [],
   "source": [
    "x = \"Hello World\""
   ]
  },
  {
   "cell_type": "markdown",
   "metadata": {},
   "source": [
    "Pour afficher dans la console le contenu de notre variable `x` contenant la chaîne de caractères, on fait appel à la fonction `print()` :"
   ]
  },
  {
   "cell_type": "code",
   "execution_count": null,
   "metadata": {},
   "outputs": [],
   "source": [
    "print(x)"
   ]
  },
  {
   "cell_type": "code",
   "execution_count": null,
   "metadata": {},
   "outputs": [],
   "source": [
    "## Hello World"
   ]
  },
  {
   "cell_type": "markdown",
   "metadata": {},
   "source": [
    "Comme indiqué juste avant, des guillemets simples peuvent être utilisés pour créer une chaîne de caractères :"
   ]
  },
  {
   "cell_type": "code",
   "execution_count": null,
   "metadata": {},
   "outputs": [],
   "source": [
    "y = 'How are you?'\n",
    "print(y)"
   ]
  },
  {
   "cell_type": "code",
   "execution_count": null,
   "metadata": {},
   "outputs": [],
   "source": [
    "## How are you?"
   ]
  },
  {
   "cell_type": "markdown",
   "metadata": {},
   "source": [
    "Pour faire figurer des apostrophes dans une chaîne de caractères créée à l'aide de guillemets simples, il est nécessaire d'utiliser un caracrère d'échappement : une barre oblique inversée (`\\`) :"
   ]
  },
  {
   "cell_type": "code",
   "execution_count": null,
   "metadata": {},
   "outputs": [],
   "source": [
    "z = 'I\\'m fine'\n",
    "print(z)"
   ]
  },
  {
   "cell_type": "code",
   "execution_count": null,
   "metadata": {},
   "outputs": [],
   "source": [
    "## I'm fine"
   ]
  },
  {
   "cell_type": "markdown",
   "metadata": {},
   "source": [
    "On peut noter que si la chaîne de caractères est créée à l'aide de guillemets doubles, il n'est pas nécessaire d'avoir recours au caractère d'échappement :"
   ]
  },
  {
   "cell_type": "code",
   "execution_count": null,
   "metadata": {},
   "outputs": [],
   "source": [
    "z = \"I'm \\\"fine\\\"\"\n",
    "print(z)"
   ]
  },
  {
   "cell_type": "code",
   "execution_count": null,
   "metadata": {},
   "outputs": [],
   "source": [
    "## I'm \"fine\""
   ]
  },
  {
   "cell_type": "markdown",
   "metadata": {},
   "source": [
    "Pour indiquer un retour à la ligne, on utilise la chaîne `\\n` :"
   ]
  },
  {
   "cell_type": "code",
   "execution_count": null,
   "metadata": {},
   "outputs": [],
   "source": [
    "x = \"Hello, \\nWorld\"\n",
    "print(x)"
   ]
  },
  {
   "cell_type": "code",
   "execution_count": null,
   "metadata": {},
   "outputs": [],
   "source": [
    "## Hello, \n",
    "## World"
   ]
  },
  {
   "cell_type": "markdown",
   "metadata": {},
   "source": [
    "Dans le cas de chaînes de caractères sur **plusieurs lignes**, le fait d'utiliser des guillemets simples ou doubles renverra une erreur (*EOL while scanning trial literal*, *i.e.*, détection d'une erreur de syntaxe, Python s'attendait à quelque chose d'autre à la fin de la ligne). Pour écrire une chaîne de caractères sur plusieurs lignes, Python propose d'utiliser trois fois des guillemets (simples ou doubles) en début et fin de chaîne :"
   ]
  },
  {
   "cell_type": "code",
   "execution_count": null,
   "metadata": {},
   "outputs": [],
   "source": [
    "x = \"\"\"Hello,\n",
    "World\"\"\"\n",
    "print(x)"
   ]
  },
  {
   "cell_type": "code",
   "execution_count": null,
   "metadata": {},
   "outputs": [],
   "source": [
    "## Hello,\n",
    "## World"
   ]
  }
 ],
 "metadata": {
  "kernelspec": {
   "display_name": "Python 3",
   "language": "python",
   "name": "python3"
  },
  "language_info": {
   "codemirror_mode": {
    "name": "ipython",
    "version": 3
   },
   "file_extension": ".py",
   "mimetype": "text/x-python",
   "name": "python",
   "nbconvert_exporter": "python",
   "pygments_lexer": "ipython3",
   "version": "3.6.5"
  }
 },
 "nbformat": 4,
 "nbformat_minor": 2
}
