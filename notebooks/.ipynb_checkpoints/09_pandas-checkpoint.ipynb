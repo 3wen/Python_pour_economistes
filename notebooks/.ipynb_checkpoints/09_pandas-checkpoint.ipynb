{
 "cells": [
  {
   "cell_type": "markdown",
   "metadata": {},
   "source": [
    "# Manipulation de données avec `pandas` {#pandas}\n",
    "\n",
    "`pandas` est une librairie open-source basée sur `NumPy` fournissant des structures de données facile à manipuler, et des outils d'analyse de données. Le lecteur familier avec les fonctions de base du langage `R` retrouvera de nombreuses fonctionnalités similaires avec `pandas`.\n",
    "\n",
    "\n",
    "\n",
    "Pour avoir accès aux fonctionnalités de `pandas`, il est coutume de charger la librairie en lui accordant l'alias `pd` :"
   ]
  },
  {
   "cell_type": "code",
   "execution_count": null,
   "metadata": {},
   "outputs": [],
   "source": [
    "import pandas as pd"
   ]
  },
  {
   "cell_type": "markdown",
   "metadata": {},
   "source": [
    "Nous allons également utiliser des fonctions de `numpy` (c.f. Section\\ \\@ref(numpy)). Assurons-nous de charger cette librairie, si ce n'est pas déjà fait :"
   ]
  },
  {
   "cell_type": "code",
   "execution_count": null,
   "metadata": {},
   "outputs": [],
   "source": [
    "import numpy as np"
   ]
  },
  {
   "cell_type": "markdown",
   "metadata": {},
   "source": [
    "## Structures\n",
    "\n",
    "Nous allons nous pencher sur deux types de structures, les séries (`serie`) et les dataframes (`DataFrame`).\n",
    "\n",
    "\n",
    "### Séries\n",
    "\n",
    "Les séries sont des tableaux à une dimension de données indexées.\n",
    "\n",
    "#### Création de séries à partir d'un dictionnaire\n",
    "\n",
    "Pour en créer,on peut définir une liste, puis appliquer la fonction `Series` de `pandas` :"
   ]
  },
  {
   "cell_type": "code",
   "execution_count": null,
   "metadata": {},
   "outputs": [],
   "source": [
    "s = pd.Series([1, 4, -1, np.nan, .5, 1])\n",
    "print(s)"
   ]
  },
  {
   "cell_type": "code",
   "execution_count": null,
   "metadata": {},
   "outputs": [],
   "source": [
    "## 0    1.0\n",
    "## 1    4.0\n",
    "## 2   -1.0\n",
    "## 3    NaN\n",
    "## 4    0.5\n",
    "## 5    1.0\n",
    "## dtype: float64"
   ]
  },
  {
   "cell_type": "markdown",
   "metadata": {},
   "source": [
    "L'affichage précédent montre que la série `s` créée contient à la fois les données et un index associé. L'attribut `values` permet d'afficher les valeurs qui sont stockées dans un tableau `numpy` :"
   ]
  },
  {
   "cell_type": "code",
   "execution_count": null,
   "metadata": {},
   "outputs": [],
   "source": [
    "print(\"valeur de s : \", s.values)"
   ]
  },
  {
   "cell_type": "code",
   "execution_count": null,
   "metadata": {},
   "outputs": [],
   "source": [
    "## valeur de s :  [ 1.   4.  -1.   nan  0.5  1. ]"
   ]
  },
  {
   "cell_type": "code",
   "execution_count": null,
   "metadata": {},
   "outputs": [],
   "source": [
    "print(\"type des valeurs de s : \", type(s.values))"
   ]
  },
  {
   "cell_type": "code",
   "execution_count": null,
   "metadata": {},
   "outputs": [],
   "source": [
    "## type des valeurs de s :  <class 'numpy.ndarray'>"
   ]
  },
  {
   "cell_type": "markdown",
   "metadata": {},
   "source": [
    "L'indice est quand à lui stocké dans une structure spécifique de `pandas` :"
   ]
  },
  {
   "cell_type": "code",
   "execution_count": null,
   "metadata": {},
   "outputs": [],
   "source": [
    "print(\"index de s : \", s.index)"
   ]
  },
  {
   "cell_type": "code",
   "execution_count": null,
   "metadata": {},
   "outputs": [],
   "source": [
    "## index de s :  RangeIndex(start=0, stop=6, step=1)"
   ]
  },
  {
   "cell_type": "code",
   "execution_count": null,
   "metadata": {},
   "outputs": [],
   "source": [
    "print(\"type de l'index de s : \", type(s.index))"
   ]
  },
  {
   "cell_type": "code",
   "execution_count": null,
   "metadata": {},
   "outputs": [],
   "source": [
    "## type de l'index de s :  <class 'pandas.core.indexes.range.RangeIndex'>"
   ]
  },
  {
   "cell_type": "markdown",
   "metadata": {},
   "source": [
    "Il est possible d'attribuer un nom à la série ainsi qu'à l'index :"
   ]
  },
  {
   "cell_type": "code",
   "execution_count": null,
   "metadata": {},
   "outputs": [],
   "source": [
    "s.name = \"ma_serie\"\n",
    "s.name = \"nom_index\"\n",
    "print(\"nom de la série : {} , nom de l'index : {}\".format(s.name, s.index.name))"
   ]
  },
  {
   "cell_type": "code",
   "execution_count": null,
   "metadata": {},
   "outputs": [],
   "source": [
    "## nom de la série : nom_index , nom de l'index : None"
   ]
  },
  {
   "cell_type": "code",
   "execution_count": null,
   "metadata": {},
   "outputs": [],
   "source": [
    "print(\"série s : \\n\", s)"
   ]
  },
  {
   "cell_type": "code",
   "execution_count": null,
   "metadata": {},
   "outputs": [],
   "source": [
    "## série s : \n",
    "##  0    1.0\n",
    "## 1    4.0\n",
    "## 2   -1.0\n",
    "## 3    NaN\n",
    "## 4    0.5\n",
    "## 5    1.0\n",
    "## Name: nom_index, dtype: float64"
   ]
  },
  {
   "cell_type": "markdown",
   "metadata": {},
   "source": [
    "#### Définition de l'index\n",
    "\n",
    "L'index peut être défini par l'utilisateur, au moment de la création de la série :"
   ]
  },
  {
   "cell_type": "code",
   "execution_count": null,
   "metadata": {},
   "outputs": [],
   "source": [
    "s = pd.Series([1, 4, -1, np.nan],\n",
    "             index = [\"o\", \"d\", \"i\", \"l\"])\n",
    "print(s)"
   ]
  },
  {
   "cell_type": "code",
   "execution_count": null,
   "metadata": {},
   "outputs": [],
   "source": [
    "## o    1.0\n",
    "## d    4.0\n",
    "## i   -1.0\n",
    "## l    NaN\n",
    "## dtype: float64"
   ]
  },
  {
   "cell_type": "markdown",
   "metadata": {},
   "source": [
    "On peut définir l'indice avec des valeurs numériques également, sans être forcé de respecter un ordre précis :"
   ]
  },
  {
   "cell_type": "code",
   "execution_count": null,
   "metadata": {},
   "outputs": [],
   "source": [
    "s = pd.Series([1, 4, -1, np.nan],\n",
    "             index = [4, 40, 2, 3])\n",
    "print(s)"
   ]
  },
  {
   "cell_type": "code",
   "execution_count": null,
   "metadata": {},
   "outputs": [],
   "source": [
    "## 4     1.0\n",
    "## 40    4.0\n",
    "## 2    -1.0\n",
    "## 3     NaN\n",
    "## dtype: float64"
   ]
  },
  {
   "cell_type": "markdown",
   "metadata": {},
   "source": [
    "L'index peut être modifié par la suite, en venant écraser l'attribut `index` :"
   ]
  },
  {
   "cell_type": "code",
   "execution_count": null,
   "metadata": {},
   "outputs": [],
   "source": [
    "s.index = [\"o\", \"d\", \"i\", \"l\"]\n",
    "print(\"Série s : \\n\", s)"
   ]
  },
  {
   "cell_type": "code",
   "execution_count": null,
   "metadata": {},
   "outputs": [],
   "source": [
    "## Série s : \n",
    "##  o    1.0\n",
    "## d    4.0\n",
    "## i   -1.0\n",
    "## l    NaN\n",
    "## dtype: float64"
   ]
  },
  {
   "cell_type": "markdown",
   "metadata": {},
   "source": [
    "#### Création de séries particulières\n",
    "\n",
    "Il existe une petite astuce pour créer des séries avec une valeur répétée, qui consiste à fournir un scalaire à la fonction `Series` de `NumPy` et un index dont la longueur correspondra au nombre de fois où le scalaire sera répété :"
   ]
  },
  {
   "cell_type": "code",
   "execution_count": null,
   "metadata": {},
   "outputs": [],
   "source": [
    "s = pd.Series(5, index = [np.arange(4)])\n",
    "print(s)"
   ]
  },
  {
   "cell_type": "code",
   "execution_count": null,
   "metadata": {},
   "outputs": [],
   "source": [
    "## 0    5\n",
    "## 1    5\n",
    "## 2    5\n",
    "## 3    5\n",
    "## dtype: int64"
   ]
  },
  {
   "cell_type": "markdown",
   "metadata": {},
   "source": [
    "On peut créer une série à partir d'un dictionnaire :"
   ]
  },
  {
   "cell_type": "code",
   "execution_count": null,
   "metadata": {},
   "outputs": [],
   "source": [
    "dictionnaire = {\"Roi\": \"Arthur\",\n",
    "                \"Chevalier_pays_galles\": \"Perceval\",\n",
    "                \"Druide\": \"Merlin\"}\n",
    "s = pd.Series(dictionnaire)\n",
    "print(s)"
   ]
  },
  {
   "cell_type": "code",
   "execution_count": null,
   "metadata": {},
   "outputs": [],
   "source": [
    "## Roi                        Arthur\n",
    "## Chevalier_pays_galles    Perceval\n",
    "## Druide                     Merlin\n",
    "## dtype: object"
   ]
  },
  {
   "cell_type": "markdown",
   "metadata": {},
   "source": [
    "Comme on le note dans la sortie précédente, les clés du dictionnaire ont été utilisées pour l'index. Lors de la création de la série, on peut préciser au paramètre clé des valeurs spécifiques : cela aura pour conséquence de ne récupérer que les observations correspondant à ces clés :"
   ]
  },
  {
   "cell_type": "code",
   "execution_count": null,
   "metadata": {},
   "outputs": [],
   "source": [
    "dictionnaire = {\"Roi\": \"Arthur\",\n",
    "                \"Chevalier_pays_galles\": \"Perceval\",\n",
    "                \"Druide\": \"Merlin\"}\n",
    "s = pd.Series(dictionnaire, index = [\"Roi\", \"Druide\"])\n",
    "print(s)"
   ]
  },
  {
   "cell_type": "code",
   "execution_count": null,
   "metadata": {},
   "outputs": [],
   "source": [
    "## Roi       Arthur\n",
    "## Druide    Merlin\n",
    "## dtype: object"
   ]
  },
  {
   "cell_type": "markdown",
   "metadata": {},
   "source": [
    "### Dataframes\n",
    "\n",
    "\n",
    "Les Dataframes correspondent au format de données que l'on rencontre classiquement en économie, des tableaux à deux dimensions, avec des variables en colonnes et des observations en ligne. Les colonnes et lignes des dataframes sont indexées.\n",
    "\n",
    "#### Création de dataframes à partir d'un dictionnaire\n",
    "\n",
    "Pour créer un dataframe, on peut fournir à la fonction `DataFrame()` de `pandas` un dictionnaire pouvant être transformé en `serie`. C'est le cas d'un dictionnaire dont les valeurs associées aux clés ont toutes la même longueur :"
   ]
  },
  {
   "cell_type": "code",
   "execution_count": null,
   "metadata": {},
   "outputs": [],
   "source": [
    "dico = {\"height\" :\n",
    "               [58, 59, 60, 61, 62,\n",
    "                63, 64, 65, 66, 67,\n",
    "                68, 69, 70, 71, 72],\n",
    "        \"weight\":\n",
    "               [115, 117, 120, 123, 126,\n",
    "                129, 132, 135, 139, 142,\n",
    "                146, 150, 154, 159, 164]\n",
    "       }\n",
    "df = pd.DataFrame(dico)\n",
    "print(df)"
   ]
  },
  {
   "cell_type": "code",
   "execution_count": null,
   "metadata": {},
   "outputs": [],
   "source": [
    "##     height  weight\n",
    "## 0       58     115\n",
    "## 1       59     117\n",
    "## 2       60     120\n",
    "## 3       61     123\n",
    "## 4       62     126\n",
    "## 5       63     129\n",
    "## 6       64     132\n",
    "## 7       65     135\n",
    "## 8       66     139\n",
    "## 9       67     142\n",
    "## 10      68     146\n",
    "## 11      69     150\n",
    "## 12      70     154\n",
    "## 13      71     159\n",
    "## 14      72     164"
   ]
  },
  {
   "cell_type": "markdown",
   "metadata": {},
   "source": [
    "La position des éléments dans le dataframe sert d'index. Comme pour les séries, les valeur sont accessibles dans l'attribut `values` et l'index dans l'attribut `index`. Les colonnes sont également indexées :"
   ]
  },
  {
   "cell_type": "code",
   "execution_count": null,
   "metadata": {},
   "outputs": [],
   "source": [
    "print(df.columns)"
   ]
  },
  {
   "cell_type": "code",
   "execution_count": null,
   "metadata": {},
   "outputs": [],
   "source": [
    "## Index(['height', 'weight'], dtype='object')"
   ]
  },
  {
   "cell_type": "markdown",
   "metadata": {},
   "source": [
    "La méthode `head()` permet d'afficher les premières lignes (les 5 premières, par défaut). On peut modifier son paramètre `n` pour indiquer le nombre de lignes à retourner :"
   ]
  },
  {
   "cell_type": "code",
   "execution_count": null,
   "metadata": {},
   "outputs": [],
   "source": [
    "df.head(2)"
   ]
  },
  {
   "cell_type": "markdown",
   "metadata": {},
   "source": [
    "Lors de la création d'un dataframe à partir d'un dictionnaire, si on précise le nom des colonnes à importer par une liste de chaînes de caractères fournie au paramètree `columns` de la fonction `DataFrame`, on peut non seulement définir les colonnes à remplir mais également leur ordre d'apparition.\n",
    "\n",
    "Par exemple, pour n'importer que la colonne `weight` :"
   ]
  },
  {
   "cell_type": "code",
   "execution_count": null,
   "metadata": {},
   "outputs": [],
   "source": [
    "df = pd.DataFrame(dico, columns = [\"weight\"])\n",
    "print(df.head(2))"
   ]
  },
  {
   "cell_type": "code",
   "execution_count": null,
   "metadata": {},
   "outputs": [],
   "source": [
    "##    weight\n",
    "## 0     115\n",
    "## 1     117"
   ]
  },
  {
   "cell_type": "markdown",
   "metadata": {},
   "source": [
    "Et pour définir l'ordre dans lequel les colonnes apparaîtront :"
   ]
  },
  {
   "cell_type": "code",
   "execution_count": null,
   "metadata": {},
   "outputs": [],
   "source": [
    "df = pd.DataFrame(dico, columns = [\"weight\", \"height\"])\n",
    "print(df.head(2))"
   ]
  },
  {
   "cell_type": "code",
   "execution_count": null,
   "metadata": {},
   "outputs": [],
   "source": [
    "##    weight  height\n",
    "## 0     115      58\n",
    "## 1     117      59"
   ]
  },
  {
   "cell_type": "markdown",
   "metadata": {},
   "source": [
    "Si on indique un nom de colonne absent parmi les clés du dictionnaires, le dataframe résultant contiendra une colonne portant ce nom mais remplie de valeurs `NaN` :"
   ]
  },
  {
   "cell_type": "code",
   "execution_count": null,
   "metadata": {},
   "outputs": [],
   "source": [
    "df = pd.DataFrame(dico, columns = [\"weight\", \"height\", \"age\"])\n",
    "print(df.head(2))"
   ]
  },
  {
   "cell_type": "code",
   "execution_count": null,
   "metadata": {},
   "outputs": [],
   "source": [
    "##    weight  height  age\n",
    "## 0     115      58  NaN\n",
    "## 1     117      59  NaN"
   ]
  },
  {
   "cell_type": "markdown",
   "metadata": {},
   "source": [
    "#### Création de dataframes à partir d'une série\n",
    "\n",
    "Un dataframe peut être créé à partir d'une série :"
   ]
  },
  {
   "cell_type": "code",
   "execution_count": null,
   "metadata": {},
   "outputs": [],
   "source": [
    "s = pd.Series([1, 4, -1, np.nan], index = [\"o\", \"d\", \"i\", \"l\"])\n",
    "s.name = \"nom_variable\"\n",
    "df = pd.DataFrame(s, columns = [\"nom_variable\"])\n",
    "print(df)"
   ]
  },
  {
   "cell_type": "code",
   "execution_count": null,
   "metadata": {},
   "outputs": [],
   "source": [
    "##    nom_variable\n",
    "## o           1.0\n",
    "## d           4.0\n",
    "## i          -1.0\n",
    "## l           NaN"
   ]
  },
  {
   "cell_type": "markdown",
   "metadata": {},
   "source": [
    "Si on n'attribue pas de nom à la série, il suffit de ne pas renseigner le paramètre `columns` de la fonction `DataFrame`. Mais dans ce cas, la colonne n'aura pas de non, juste un index numérique."
   ]
  },
  {
   "cell_type": "code",
   "execution_count": null,
   "metadata": {},
   "outputs": [],
   "source": [
    "s = pd.Series([1, 4, -1, np.nan], index = [\"o\", \"d\", \"i\", \"l\"])\n",
    "df = pd.DataFrame(s)\n",
    "print(df)"
   ]
  },
  {
   "cell_type": "code",
   "execution_count": null,
   "metadata": {},
   "outputs": [],
   "source": [
    "##      0\n",
    "## o  1.0\n",
    "## d  4.0\n",
    "## i -1.0\n",
    "## l  NaN"
   ]
  },
  {
   "cell_type": "code",
   "execution_count": null,
   "metadata": {},
   "outputs": [],
   "source": [
    "print(df.columns.name)"
   ]
  },
  {
   "cell_type": "code",
   "execution_count": null,
   "metadata": {},
   "outputs": [],
   "source": [
    "## None"
   ]
  },
  {
   "cell_type": "markdown",
   "metadata": {},
   "source": [
    "#### Création de dataframes à partir d'une liste de dictionnaire\n",
    "\n",
    "\n",
    "Un dataframe peut être créé à partir d'une liste de dictionnaires :"
   ]
  },
  {
   "cell_type": "code",
   "execution_count": null,
   "metadata": {},
   "outputs": [],
   "source": [
    "dico_1 = {\n",
    "    \"Nom\": \"Pendragon\",\n",
    "    \"Prenom\": \"Arthur\",\n",
    "    \"Role\": \"Roi de Bretagne\"\n",
    "}\n",
    "dico_2 = {\n",
    "    \"Nom\": \"de Galles\",\n",
    "    \"Prenom\": \"Perceval\",\n",
    "    \"Role\": \"Chevalier du Pays de Galles\"\n",
    "}\n",
    "df = pd.DataFrame([dico_1, dico_2])\n",
    "print(df)"
   ]
  },
  {
   "cell_type": "code",
   "execution_count": null,
   "metadata": {},
   "outputs": [],
   "source": [
    "##          Nom    Prenom                         Role\n",
    "## 0  Pendragon    Arthur              Roi de Bretagne\n",
    "## 1  de Galles  Perceval  Chevalier du Pays de Galles"
   ]
  },
  {
   "cell_type": "markdown",
   "metadata": {},
   "source": [
    "Si certaines clés sont absentes dans un ou plusieurs des dictionnaires de la liste, les valeurs correspondantes dans le dataframe seront `NaN` :"
   ]
  },
  {
   "cell_type": "code",
   "execution_count": null,
   "metadata": {},
   "outputs": [],
   "source": [
    "dico_3 = {\n",
    "    \"Prenom\": \"Guenièvre\",\n",
    "    \"Role\": \"Reine de Bretagne\"\n",
    "}\n",
    "df = pd.DataFrame([dico_1, dico_2, dico_3])\n",
    "print(df)"
   ]
  },
  {
   "cell_type": "code",
   "execution_count": null,
   "metadata": {},
   "outputs": [],
   "source": [
    "##          Nom             ...                                      Role\n",
    "## 0  Pendragon             ...                           Roi de Bretagne\n",
    "## 1  de Galles             ...               Chevalier du Pays de Galles\n",
    "## 2        NaN             ...                         Reine de Bretagne\n",
    "## \n",
    "## [3 rows x 3 columns]"
   ]
  },
  {
   "cell_type": "markdown",
   "metadata": {},
   "source": [
    "#### Création de dataframes à partir d'un dictionnaire de séries\n",
    "\n",
    "\n",
    "On peut aussi créer un dataframe à partir d'un dictionnaire de séries. Pour illustrer la méthode, créons deux dictionnaires :"
   ]
  },
  {
   "cell_type": "code",
   "execution_count": null,
   "metadata": {},
   "outputs": [],
   "source": [
    "# PIB annuel 2017\n",
    "# En millions de dollars courants\n",
    "dico_gdp_current = {\n",
    "    \"France\": 2582501.31,\n",
    "    \"USA\": 19390604.00,\n",
    "    \"UK\": 2622433.96\n",
    "}\n",
    "# Indice annuel des prix à la consommation\n",
    "dico_cpi = {\n",
    "    \"France\": 0.2,\n",
    "    \"UK\": 0.6,\n",
    "    \"USA\": 1.3,\n",
    "    \"Germany\": 0.5\n",
    "}"
   ]
  },
  {
   "cell_type": "markdown",
   "metadata": {},
   "source": [
    "À partir de ces deux dictionnaires, créons deux séries correspondantes :"
   ]
  },
  {
   "cell_type": "code",
   "execution_count": null,
   "metadata": {},
   "outputs": [],
   "source": [
    "s_gdp_current = pd.Series(dico_gdp_current)\n",
    "s_cpi = pd.Series(dico_cpi)\n",
    "print(\"s_gdp_current : \\n\", s_gdp_current)"
   ]
  },
  {
   "cell_type": "code",
   "execution_count": null,
   "metadata": {},
   "outputs": [],
   "source": [
    "## s_gdp_current : \n",
    "##  France     2582501.31\n",
    "## USA       19390604.00\n",
    "## UK         2622433.96\n",
    "## dtype: float64"
   ]
  },
  {
   "cell_type": "code",
   "execution_count": null,
   "metadata": {},
   "outputs": [],
   "source": [
    "print(\"\\ns_cpi : \\n\", s_cpi)"
   ]
  },
  {
   "cell_type": "code",
   "execution_count": null,
   "metadata": {},
   "outputs": [],
   "source": [
    "## \n",
    "## s_cpi : \n",
    "##  France     0.2\n",
    "## UK         0.6\n",
    "## USA        1.3\n",
    "## Germany    0.5\n",
    "## dtype: float64"
   ]
  },
  {
   "cell_type": "markdown",
   "metadata": {},
   "source": [
    "Puis, créons un dictionnaire de séries :"
   ]
  },
  {
   "cell_type": "code",
   "execution_count": null,
   "metadata": {},
   "outputs": [],
   "source": [
    "dico_de_series = {\n",
    "    \"gdp\": s_gdp_current,\n",
    "    \"cpi\": s_cpi\n",
    "}\n",
    "print(dico_de_series)"
   ]
  },
  {
   "cell_type": "code",
   "execution_count": null,
   "metadata": {},
   "outputs": [],
   "source": [
    "## {'gdp': France     2582501.31\n",
    "## USA       19390604.00\n",
    "## UK         2622433.96\n",
    "## dtype: float64, 'cpi': France     0.2\n",
    "## UK         0.6\n",
    "## USA        1.3\n",
    "## Germany    0.5\n",
    "## dtype: float64}"
   ]
  },
  {
   "cell_type": "markdown",
   "metadata": {},
   "source": [
    "Enfin, créons notre dataframe :"
   ]
  },
  {
   "cell_type": "code",
   "execution_count": null,
   "metadata": {},
   "outputs": [],
   "source": [
    "s = pd.DataFrame(dico_de_series)\n",
    "print(s)"
   ]
  },
  {
   "cell_type": "code",
   "execution_count": null,
   "metadata": {},
   "outputs": [],
   "source": [
    "##                  gdp  cpi\n",
    "## France    2582501.31  0.2\n",
    "## Germany          NaN  0.5\n",
    "## UK        2622433.96  0.6\n",
    "## USA      19390604.00  1.3"
   ]
  },
  {
   "cell_type": "markdown",
   "metadata": {},
   "source": [
    "Remarque\n",
    "\n",
    "Le dictionnaire `dico_gdp_current` ne contient pas de clé `Germany`, contrairement au dictionnaire `dico_cpi`. Lors de la création du dataframe, la valeur du PIB pour l'Allemagne a dont été assignée comme `NaN`.\n",
    "\n",
    "\n",
    "\n",
    "\n",
    "#### Création de dataframes à partir d'un tableau `NumPy` à deux dimensions\n",
    "\n",
    "On peut aussi créer un dataframe à partir d'un tableau `Numpy`. Lors de la création, avec la fonction `DataFrame()` de `NumPy`, il est possible de préciser le nom des colonnes (à défaut, l'indiçage des colonnes sera numérique) :"
   ]
  },
  {
   "cell_type": "code",
   "execution_count": null,
   "metadata": {},
   "outputs": [],
   "source": [
    "liste = [\n",
    "    [1, 2, 3],\n",
    "    [11, 22, 33],\n",
    "    [111, 222, 333],\n",
    "    [1111, 2222, 3333]\n",
    "]\n",
    "tableau_np = np.array(tableau)"
   ]
  },
  {
   "cell_type": "code",
   "execution_count": null,
   "metadata": {},
   "outputs": [],
   "source": [
    "## NameError: name 'tableau' is not defined\n",
    "## \n",
    "## Detailed traceback: \n",
    "##   File \"<string>\", line 1, in <module>"
   ]
  },
  {
   "cell_type": "code",
   "execution_count": null,
   "metadata": {},
   "outputs": [],
   "source": [
    "print(df = pd.DataFrame(tableau_np,\n",
    "                  columns = [\"a\", \"b\", \"c\"]))"
   ]
  },
  {
   "cell_type": "code",
   "execution_count": null,
   "metadata": {},
   "outputs": [],
   "source": [
    "## NameError: name 'tableau_np' is not defined\n",
    "## \n",
    "## Detailed traceback: \n",
    "##   File \"<string>\", line 1, in <module>"
   ]
  },
  {
   "cell_type": "markdown",
   "metadata": {},
   "source": [
    "#### Dimensions\n",
    "\n",
    "On accède aux dimensions d'un dataframe avec l'attribut `shape`."
   ]
  },
  {
   "cell_type": "code",
   "execution_count": null,
   "metadata": {},
   "outputs": [],
   "source": [
    "print(\"shape : \", df.shape)"
   ]
  },
  {
   "cell_type": "code",
   "execution_count": null,
   "metadata": {},
   "outputs": [],
   "source": [
    "## shape :  (3, 3)"
   ]
  },
  {
   "cell_type": "markdown",
   "metadata": {},
   "source": [
    "On peut aussi afficher le nombre de lignes comme suit :"
   ]
  },
  {
   "cell_type": "code",
   "execution_count": null,
   "metadata": {},
   "outputs": [],
   "source": [
    "print(\"shape : \", len(df))"
   ]
  },
  {
   "cell_type": "code",
   "execution_count": null,
   "metadata": {},
   "outputs": [],
   "source": [
    "## shape :  3"
   ]
  },
  {
   "cell_type": "markdown",
   "metadata": {},
   "source": [
    "Et le nombre de colonnes :"
   ]
  },
  {
   "cell_type": "code",
   "execution_count": null,
   "metadata": {},
   "outputs": [],
   "source": [
    "print(\"shape : \", len(df.columns))"
   ]
  },
  {
   "cell_type": "code",
   "execution_count": null,
   "metadata": {},
   "outputs": [],
   "source": [
    "## shape :  3"
   ]
  },
  {
   "cell_type": "markdown",
   "metadata": {},
   "source": [
    "#### Modification de l'index\n",
    "\n",
    "Comme pour les séries, on peut modifier l'index une fois que le dataframe a été créé, en venant écraser les valeurs des attributs `index` et `columns`, pour l'index des lignes et colonnes, respectivement :"
   ]
  },
  {
   "cell_type": "code",
   "execution_count": null,
   "metadata": {},
   "outputs": [],
   "source": [
    "df.index = [\"o\", \"d\", \"i\", \"l\"]"
   ]
  },
  {
   "cell_type": "code",
   "execution_count": null,
   "metadata": {},
   "outputs": [],
   "source": [
    "## ValueError: Length mismatch: Expected axis has 3 elements, new values have 4 elements\n",
    "## \n",
    "## Detailed traceback: \n",
    "##   File \"<string>\", line 1, in <module>\n",
    "##   File \"/anaconda3/lib/python3.6/site-packages/pandas/core/generic.py\", line 4385, in __setattr__\n",
    "##     return object.__setattr__(self, name, value)\n",
    "##   File \"pandas/_libs/properties.pyx\", line 69, in pandas._libs.properties.AxisProperty.__set__\n",
    "##   File \"/anaconda3/lib/python3.6/site-packages/pandas/core/generic.py\", line 645, in _set_axis\n",
    "##     self._data.set_axis(axis, labels)\n",
    "##   File \"/anaconda3/lib/python3.6/site-packages/pandas/core/internals.py\", line 3323, in set_axis\n",
    "##     'values have {new} elements'.format(old=old_len, new=new_len))"
   ]
  },
  {
   "cell_type": "code",
   "execution_count": null,
   "metadata": {},
   "outputs": [],
   "source": [
    "df.columns = [\"aa\", \"bb\", \"cc\"]\n",
    "print(df)"
   ]
  },
  {
   "cell_type": "code",
   "execution_count": null,
   "metadata": {},
   "outputs": [],
   "source": [
    "##           aa             ...                                        cc\n",
    "## 0  Pendragon             ...                           Roi de Bretagne\n",
    "## 1  de Galles             ...               Chevalier du Pays de Galles\n",
    "## 2        NaN             ...                         Reine de Bretagne\n",
    "## \n",
    "## [3 rows x 3 columns]"
   ]
  },
  {
   "cell_type": "markdown",
   "metadata": {},
   "source": [
    "## Sélection {#pandas-selection}\n",
    "\n",
    "Dans cette section, nous regardons différentes manières de sélectionner des données dans des séries et dataframes. On note deux manières bien distinctes :\n",
    "\n",
    "- une première basée sur l'utiliation de crochets directement sur l'objet pour lequel on souhaite sélectionner certaines parties ;\n",
    "- seconde s'appuyant sur des indexeurs, accessibles en tant qu'attributs d'objets `NumPy` (`loc`, `at`, `iat`, etc.)\n",
    "\n",
    "La seconde méthode permet d'éviter certaines confusions qui peuvent apparaître dans le cas d'index numériques.\n",
    "\n",
    "### Pour les séries\n",
    "\n",
    "Dans un premier temps, regardons les manières d'extraire des valeurs contenues dans des séries.\n",
    "\n",
    "\n",
    "#### Avec les crochets\n",
    "\n",
    "On peut utiliser l'index pour extraire les données :"
   ]
  },
  {
   "cell_type": "code",
   "execution_count": null,
   "metadata": {},
   "outputs": [],
   "source": [
    "s = pd.Series([1, 4, -1, np.nan, .5, 1])\n",
    "s[0] # 1er élément de s\n",
    "s[1:3] # du 2e élément (inclus) au 4e (non inclus)\n",
    "s[[0,4]] # 1er et 5e éléments"
   ]
  },
  {
   "cell_type": "markdown",
   "metadata": {},
   "source": [
    "On note que contrairement aux tableaux `numpy` ou aux listes, on ne peut pas utiliser des valeurs négatives pour l'index afin de récupérer les données en comptant leur position par rapport à la fin :"
   ]
  },
  {
   "cell_type": "code",
   "execution_count": null,
   "metadata": {},
   "outputs": [],
   "source": [
    "s[-2]"
   ]
  },
  {
   "cell_type": "code",
   "execution_count": null,
   "metadata": {},
   "outputs": [],
   "source": [
    "## KeyError: -2\n",
    "## \n",
    "## Detailed traceback: \n",
    "##   File \"<string>\", line 1, in <module>\n",
    "##   File \"/anaconda3/lib/python3.6/site-packages/pandas/core/series.py\", line 766, in __getitem__\n",
    "##     result = self.index.get_value(self, key)\n",
    "##   File \"/anaconda3/lib/python3.6/site-packages/pandas/core/indexes/base.py\", line 3103, in get_value\n",
    "##     tz=getattr(series.dtype, 'tz', None))\n",
    "##   File \"pandas/_libs/index.pyx\", line 106, in pandas._libs.index.IndexEngine.get_value\n",
    "##   File \"pandas/_libs/index.pyx\", line 114, in pandas._libs.index.IndexEngine.get_value\n",
    "##   File \"pandas/_libs/index.pyx\", line 162, in pandas._libs.index.IndexEngine.get_loc\n",
    "##   File \"pandas/_libs/hashtable_class_helper.pxi\", line 958, in pandas._libs.hashtable.Int64HashTable.get_item\n",
    "##   File \"pandas/_libs/hashtable_class_helper.pxi\", line 964, in pandas._libs.hashtable.Int64HashTable.get_item"
   ]
  },
  {
   "cell_type": "markdown",
   "metadata": {},
   "source": [
    "Dans le cas d'un indice composé de chaînes de caractères, il est alors possible, pour extraire les données de la série, de faire référence soit au contenu de l'indice (pour faire simple, son nom), soit à sa position :"
   ]
  },
  {
   "cell_type": "code",
   "execution_count": null,
   "metadata": {},
   "outputs": [],
   "source": [
    "s = pd.Series([1, 4, -1, np.nan],\n",
    "             index = [\"o\", \"d\", \"i\", \"l\"])\n",
    "print(\"La série s : \\n\", s)"
   ]
  },
  {
   "cell_type": "code",
   "execution_count": null,
   "metadata": {},
   "outputs": [],
   "source": [
    "## La série s : \n",
    "##  o    1.0\n",
    "## d    4.0\n",
    "## i   -1.0\n",
    "## l    NaN\n",
    "## dtype: float64"
   ]
  },
  {
   "cell_type": "code",
   "execution_count": null,
   "metadata": {},
   "outputs": [],
   "source": [
    "print('s[\"d\"] : \\n', s[\"d\"])"
   ]
  },
  {
   "cell_type": "code",
   "execution_count": null,
   "metadata": {},
   "outputs": [],
   "source": [
    "## s[\"d\"] : \n",
    "##  4.0"
   ]
  },
  {
   "cell_type": "code",
   "execution_count": null,
   "metadata": {},
   "outputs": [],
   "source": [
    "print('s[1] : \\n', s[1])"
   ]
  },
  {
   "cell_type": "code",
   "execution_count": null,
   "metadata": {},
   "outputs": [],
   "source": [
    "## s[1] : \n",
    "##  4.0"
   ]
  },
  {
   "cell_type": "code",
   "execution_count": null,
   "metadata": {},
   "outputs": [],
   "source": [
    "print(\"éléments o et i : \\n\", s[[\"o\", \"i\"]])"
   ]
  },
  {
   "cell_type": "code",
   "execution_count": null,
   "metadata": {},
   "outputs": [],
   "source": [
    "## éléments o et i : \n",
    "##  o    1.0\n",
    "## i   -1.0\n",
    "## dtype: float64"
   ]
  },
  {
   "cell_type": "markdown",
   "metadata": {},
   "source": [
    "Par contre, dans le cas où l'indice est défini avec des valeurs numériques, pour extraire les valeurs à l'aide des crochets, ce sera par la valeur de l'indice et pas en s'appuyant sur la position :"
   ]
  },
  {
   "cell_type": "code",
   "execution_count": null,
   "metadata": {},
   "outputs": [],
   "source": [
    "s = pd.Series([1, 4, -1, np.nan],\n",
    "             index = [4, 40, 2, 3])\n",
    "print(s[40])"
   ]
  },
  {
   "cell_type": "code",
   "execution_count": null,
   "metadata": {},
   "outputs": [],
   "source": [
    "## 4.0"
   ]
  },
  {
   "cell_type": "markdown",
   "metadata": {},
   "source": [
    "#### Avec les indexeurs\n",
    "\n",
    "Pandas propose deux types d'indiçage multi-axes : `loc`, `iloc`.  Le premier est principalement basé sur l'utilisation des labels des axes, tandis que le second s'appuie principalement sur les positions à l'aide d'entiers.\n",
    "\n",
    "Pour les besoins de cette partie, créons deux séries ; une première avec un index textuel, une deuxième avec un index numérique :"
   ]
  },
  {
   "cell_type": "code",
   "execution_count": null,
   "metadata": {},
   "outputs": [],
   "source": [
    "s_num = pd.Series([1, 4, -1, np.nan],\n",
    "             index = [5, 0, 4, 1])\n",
    "s_texte = pd.Series([1, 4, -1, np.nan],\n",
    "             index = [\"c\", \"a\", \"b\", \"d\"])"
   ]
  },
  {
   "cell_type": "markdown",
   "metadata": {},
   "source": [
    "##### Extraction d'un seul élément\n",
    "\n",
    "Pour extraire un objet avec `loc`, on utilise le nom de l'indice :"
   ]
  },
  {
   "cell_type": "code",
   "execution_count": null,
   "metadata": {},
   "outputs": [],
   "source": [
    "print(s_num.loc[5], s_texte.loc[\"c\"])"
   ]
  },
  {
   "cell_type": "code",
   "execution_count": null,
   "metadata": {},
   "outputs": [],
   "source": [
    "## 1.0 1.0"
   ]
  },
  {
   "cell_type": "markdown",
   "metadata": {},
   "source": [
    "Pour extraire un élément unique avec `iloc`, il suffit d'indiquer sa position :"
   ]
  },
  {
   "cell_type": "code",
   "execution_count": null,
   "metadata": {},
   "outputs": [],
   "source": [
    "(s_num.iloc[1], s_texte.iloc[1])"
   ]
  },
  {
   "cell_type": "markdown",
   "metadata": {},
   "source": [
    "##### Extraction de plusieurs éléments\n",
    "\n",
    "\n",
    "Pour extraire plusieurs éléments avec `loc`, on utilise les noms (labels) des indices, que l'on fournit dans une liste :"
   ]
  },
  {
   "cell_type": "code",
   "execution_count": null,
   "metadata": {},
   "outputs": [],
   "source": [
    "print(\"éléments aux labels 5 et 4 :\\n\", s_num.loc[[5,4]])"
   ]
  },
  {
   "cell_type": "code",
   "execution_count": null,
   "metadata": {},
   "outputs": [],
   "source": [
    "## éléments aux labels 5 et 4 :\n",
    "##  5    1.0\n",
    "## 4   -1.0\n",
    "## dtype: float64"
   ]
  },
  {
   "cell_type": "code",
   "execution_count": null,
   "metadata": {},
   "outputs": [],
   "source": [
    "print(\"éléments aux labels c et b : \\n\", s_texte.loc[[\"c\", \"b\"]])"
   ]
  },
  {
   "cell_type": "code",
   "execution_count": null,
   "metadata": {},
   "outputs": [],
   "source": [
    "## éléments aux labels c et b : \n",
    "##  c    1.0\n",
    "## b   -1.0\n",
    "## dtype: float64"
   ]
  },
  {
   "cell_type": "markdown",
   "metadata": {},
   "source": [
    "Pour extraire plusieurs éléments avec `iloc` :"
   ]
  },
  {
   "cell_type": "code",
   "execution_count": null,
   "metadata": {},
   "outputs": [],
   "source": [
    "print(\"éléments aux positions 0 et 2 :\\n\", s_num.iloc[[0,2]])"
   ]
  },
  {
   "cell_type": "code",
   "execution_count": null,
   "metadata": {},
   "outputs": [],
   "source": [
    "## éléments aux positions 0 et 2 :\n",
    "##  5    1.0\n",
    "## 4   -1.0\n",
    "## dtype: float64"
   ]
  },
  {
   "cell_type": "code",
   "execution_count": null,
   "metadata": {},
   "outputs": [],
   "source": [
    "print(\"éléments aux positions 0 et 2 : \\n\", s_texte.iloc[[0,2]])"
   ]
  },
  {
   "cell_type": "code",
   "execution_count": null,
   "metadata": {},
   "outputs": [],
   "source": [
    "## éléments aux positions 0 et 2 : \n",
    "##  c    1.0\n",
    "## b   -1.0\n",
    "## dtype: float64"
   ]
  },
  {
   "cell_type": "markdown",
   "metadata": {},
   "source": [
    "##### Découpage {#decoupage-series}\n",
    "\n",
    "\n",
    "On peut effectuer des découpages de séries, pour récupérer des éléments consécutifs :"
   ]
  },
  {
   "cell_type": "code",
   "execution_count": null,
   "metadata": {},
   "outputs": [],
   "source": [
    "print(\"éléments des labels 5 jusqu'à 4 :\\n\", s_num.loc[5:4])"
   ]
  },
  {
   "cell_type": "code",
   "execution_count": null,
   "metadata": {},
   "outputs": [],
   "source": [
    "## éléments des labels 5 jusqu'à 4 :\n",
    "##  5    1.0\n",
    "## 0    4.0\n",
    "## 4   -1.0\n",
    "## dtype: float64"
   ]
  },
  {
   "cell_type": "code",
   "execution_count": null,
   "metadata": {},
   "outputs": [],
   "source": [
    "print(\"éléments des labels c à b : \\n\", s_texte.loc[\"c\":\"b\"])"
   ]
  },
  {
   "cell_type": "code",
   "execution_count": null,
   "metadata": {},
   "outputs": [],
   "source": [
    "## éléments des labels c à b : \n",
    "##  c    1.0\n",
    "## a    4.0\n",
    "## b   -1.0\n",
    "## dtype: float64"
   ]
  },
  {
   "cell_type": "markdown",
   "metadata": {},
   "source": [
    "Pour extraire plusieurs éléments avec `iloc` :"
   ]
  },
  {
   "cell_type": "code",
   "execution_count": null,
   "metadata": {},
   "outputs": [],
   "source": [
    "print(\"éléments aux positions de 0 à 2 :\\n\", s_num.iloc[0:2])"
   ]
  },
  {
   "cell_type": "code",
   "execution_count": null,
   "metadata": {},
   "outputs": [],
   "source": [
    "## éléments aux positions de 0 à 2 :\n",
    "##  5    1.0\n",
    "## 0    4.0\n",
    "## dtype: float64"
   ]
  },
  {
   "cell_type": "code",
   "execution_count": null,
   "metadata": {},
   "outputs": [],
   "source": [
    "print(\"éléments aux positions de 0 à 2 : \\n\", s_texte.iloc[0:2])"
   ]
  },
  {
   "cell_type": "code",
   "execution_count": null,
   "metadata": {},
   "outputs": [],
   "source": [
    "## éléments aux positions de 0 à 2 : \n",
    "##  c    1.0\n",
    "## a    4.0\n",
    "## dtype: float64"
   ]
  },
  {
   "cell_type": "markdown",
   "metadata": {},
   "source": [
    "Comme ce que l'on a vu jusqu'à présent, la valeur supérieur de la limite n'est pas incluse dans le découpage.\n",
    "\n",
    "\n",
    "##### Masque\n",
    "\n",
    "On peut aussi utiliser un masque pour extraire des éléments, indifféremment en utilisant `loc` ou `iloc` :"
   ]
  },
  {
   "cell_type": "code",
   "execution_count": null,
   "metadata": {},
   "outputs": [],
   "source": [
    "print(\"\\n\",s_num.loc[[True, False, False, True]])"
   ]
  },
  {
   "cell_type": "code",
   "execution_count": null,
   "metadata": {},
   "outputs": [],
   "source": [
    "## \n",
    "##  5    1.0\n",
    "## 1    NaN\n",
    "## dtype: float64"
   ]
  },
  {
   "cell_type": "code",
   "execution_count": null,
   "metadata": {},
   "outputs": [],
   "source": [
    "print(\"\\n\", s_texte.loc[[True, False, False, True]])"
   ]
  },
  {
   "cell_type": "code",
   "execution_count": null,
   "metadata": {},
   "outputs": [],
   "source": [
    "## \n",
    "##  c    1.0\n",
    "## d    NaN\n",
    "## dtype: float64"
   ]
  },
  {
   "cell_type": "code",
   "execution_count": null,
   "metadata": {},
   "outputs": [],
   "source": [
    "print(\"\\n\", s_num.iloc[[True, False, False, True]])"
   ]
  },
  {
   "cell_type": "code",
   "execution_count": null,
   "metadata": {},
   "outputs": [],
   "source": [
    "## \n",
    "##  5    1.0\n",
    "## 1    NaN\n",
    "## dtype: float64"
   ]
  },
  {
   "cell_type": "code",
   "execution_count": null,
   "metadata": {},
   "outputs": [],
   "source": [
    "print(\"\\n\", s_texte.iloc[[True, False, False, True]])"
   ]
  },
  {
   "cell_type": "code",
   "execution_count": null,
   "metadata": {},
   "outputs": [],
   "source": [
    "## \n",
    "##  c    1.0\n",
    "## d    NaN\n",
    "## dtype: float64"
   ]
  },
  {
   "cell_type": "markdown",
   "metadata": {},
   "source": [
    "##### Quel est l'intérêt ?\n",
    "\n",
    "\n",
    "Pourquoi introduir de telles manières d'extraire les données et ne pas se contenter de l'extraction à l'aide des crochers sur les objets ? Regardons un exemple simple. Admettons que nous disposons de la série `s_num`, avec un indice composé d'entiers n'étant pas une séquence allant de 0 au nombre d'éléments. Dans ce cas, si nous souhaitons récupérer récupérer le 2e élément, du fait de l'indice composé de valeurs numériques, nous ne pouvons pas l'obtenir en demandant `s[1]`. Pour extraire le 2e de la série, on doit savoir que son indice vaut `0` et ainsi demander :"
   ]
  },
  {
   "cell_type": "code",
   "execution_count": null,
   "metadata": {},
   "outputs": [],
   "source": [
    "print(\"L'élément dont l'index vaut 0 : \", s_num[0])"
   ]
  },
  {
   "cell_type": "code",
   "execution_count": null,
   "metadata": {},
   "outputs": [],
   "source": [
    "## L'élément dont l'index vaut 0 :  4.0"
   ]
  },
  {
   "cell_type": "markdown",
   "metadata": {},
   "source": [
    "Pour pouvoir effectuer l'extraction en fonction de la position, il est bien pratique d'avoir cet attribut `iloc` :"
   ]
  },
  {
   "cell_type": "code",
   "execution_count": null,
   "metadata": {},
   "outputs": [],
   "source": [
    "print(\"L'élément en 2e position :\", s_num.iloc[1])"
   ]
  },
  {
   "cell_type": "code",
   "execution_count": null,
   "metadata": {},
   "outputs": [],
   "source": [
    "## L'élément en 2e position : 4.0"
   ]
  },
  {
   "cell_type": "markdown",
   "metadata": {},
   "source": [
    "### Pour les dataframes\n",
    "\n",
    "À présent, regardons différentes manières d'extraire des données depuis un dataframe. Créons deux dataframes en exemple, l'une avec un index numérique ; une autre avec un index textuel :"
   ]
  },
  {
   "cell_type": "code",
   "execution_count": null,
   "metadata": {},
   "outputs": [],
   "source": [
    "dico = {\"height\" : [58, 59, 60, 61, 62],\n",
    "        \"weight\": [115, 117, 120, 123, 126],\n",
    "        \"age\": [28, 33, 31, 31, 29],\n",
    "        \"taille\": [162, 156, 172, 160, 158],\n",
    "       }\n",
    "df_num = pd.DataFrame(dico)\n",
    "df_texte = pd.DataFrame(dico, index=[\"a\", \"e\", \"c\", \"b\", \"d\"])\n",
    "print(\"df_num : \\n\", df_num)"
   ]
  },
  {
   "cell_type": "code",
   "execution_count": null,
   "metadata": {},
   "outputs": [],
   "source": [
    "## df_num : \n",
    "##     height  weight  age  taille\n",
    "## 0      58     115   28     162\n",
    "## 1      59     117   33     156\n",
    "## 2      60     120   31     172\n",
    "## 3      61     123   31     160\n",
    "## 4      62     126   29     158"
   ]
  },
  {
   "cell_type": "code",
   "execution_count": null,
   "metadata": {},
   "outputs": [],
   "source": [
    "print(\"df_texte : \\n\", df_texte)"
   ]
  },
  {
   "cell_type": "code",
   "execution_count": null,
   "metadata": {},
   "outputs": [],
   "source": [
    "## df_texte : \n",
    "##     height  weight  age  taille\n",
    "## a      58     115   28     162\n",
    "## e      59     117   33     156\n",
    "## c      60     120   31     172\n",
    "## b      61     123   31     160\n",
    "## d      62     126   29     158"
   ]
  },
  {
   "cell_type": "markdown",
   "metadata": {},
   "source": [
    "Pour faire simple, lorsqu'on veut effectuer une extraction avec les attributs  `iloc`, la syntaxe est la suivante :"
   ]
  },
  {
   "cell_type": "code",
   "execution_count": null,
   "metadata": {},
   "outputs": [],
   "source": [
    "df.iloc[selection_lignes, selection_colonnes]"
   ]
  },
  {
   "cell_type": "markdown",
   "metadata": {},
   "source": [
    "avec `selection_lignes` :\n",
    "\n",
    "- une valeur unique : `1` (seconde ligne) ;\n",
    "- une liste de valeurs : `[2, 1, 3]` (3e ligne, 2e ligne et 4e ligne) ;\n",
    "- un découpage : `[2:4]` (de la 3e ligne à la 4e ligne (non incluse)).\n",
    "\n",
    "pour `selection_colonnes` :\n",
    "\n",
    "- une valeur unique : `1` (seconde colonne) ;\n",
    "- une liste de valeurs : `[2, 1, 3]` (3e colonne, 2e colonne et 4e colonne) ;\n",
    "- un découpage : `[2:4]` (de la 3e colonne à la 4e colonne (non incluse)).\n",
    "\n",
    "\n",
    "Avec `loc`, la syntaxe est la suivante :"
   ]
  },
  {
   "cell_type": "code",
   "execution_count": null,
   "metadata": {},
   "outputs": [],
   "source": [
    "df.loc[selection_lignes, selection_colonnes]"
   ]
  },
  {
   "cell_type": "markdown",
   "metadata": {},
   "source": [
    "avec `selection_lignes` :\n",
    "\n",
    "- une valeur unique : `\"a\"` (ligne nommée `a`) ;\n",
    "- une liste de noms : `[\"a\", \"c\", \"b\"]` (lignes nommées \"a\", \"c\" et \"b\") ;\n",
    "- un masque : `df.['a']<10` (lignes pour lesquelles les valeurs du masque valent `True`).\n",
    "\n",
    "pour `selection_colonnes` :\n",
    "\n",
    "- une valeur unique : `a` (colonne nommée `a`) ;\n",
    "- une liste de valeurs : `[\"a\", \"c\", \"b\"]` (colonnes nommées \"a\", \"c\" et \"b\") ;\n",
    "- un découpage : `[\"a\":\"c\"]` (de la colonne nommée \"a\" à la colonne nommée \"c\").\n",
    "\n",
    "#### Extraction d'une ligne\n",
    "\n",
    "Pour extraire une ligne d'un dataframe, on peut utiliser le nom de la ligne avec `loc` :"
   ]
  },
  {
   "cell_type": "code",
   "execution_count": null,
   "metadata": {},
   "outputs": [],
   "source": [
    "print(\"Ligne nommée 'e':\\n\", df_texte.loc[\"e\"])"
   ]
  },
  {
   "cell_type": "code",
   "execution_count": null,
   "metadata": {},
   "outputs": [],
   "source": [
    "## Ligne nommée 'e':\n",
    "##  height     59\n",
    "## weight    117\n",
    "## age        33\n",
    "## taille    156\n",
    "## Name: e, dtype: int64"
   ]
  },
  {
   "cell_type": "code",
   "execution_count": null,
   "metadata": {},
   "outputs": [],
   "source": [
    "print(\"\\nLigne nommée 'e':\\n\", df_num.loc[1])"
   ]
  },
  {
   "cell_type": "code",
   "execution_count": null,
   "metadata": {},
   "outputs": [],
   "source": [
    "## \n",
    "## Ligne nommée 'e':\n",
    "##  height     59\n",
    "## weight    117\n",
    "## age        33\n",
    "## taille    156\n",
    "## Name: 1, dtype: int64"
   ]
  },
  {
   "cell_type": "markdown",
   "metadata": {},
   "source": [
    "Ou bien, sa position avec `iloc` :"
   ]
  },
  {
   "cell_type": "code",
   "execution_count": null,
   "metadata": {},
   "outputs": [],
   "source": [
    "print(\"Ligne en position 0:\\n\", df_texte.iloc[0])"
   ]
  },
  {
   "cell_type": "code",
   "execution_count": null,
   "metadata": {},
   "outputs": [],
   "source": [
    "## Ligne en position 0:\n",
    "##  height     58\n",
    "## weight    115\n",
    "## age        28\n",
    "## taille    162\n",
    "## Name: a, dtype: int64"
   ]
  },
  {
   "cell_type": "code",
   "execution_count": null,
   "metadata": {},
   "outputs": [],
   "source": [
    "print(\"\\nLigne en position 0:\\n\", df_num.iloc[0])"
   ]
  },
  {
   "cell_type": "code",
   "execution_count": null,
   "metadata": {},
   "outputs": [],
   "source": [
    "## \n",
    "## Ligne en position 0:\n",
    "##  height     58\n",
    "## weight    115\n",
    "## age        28\n",
    "## taille    162\n",
    "## Name: 0, dtype: int64"
   ]
  },
  {
   "cell_type": "markdown",
   "metadata": {},
   "source": [
    "#### Extraction de plusieurs lignes\n",
    "\n",
    "Pour extraire plusieurs lignes d'un dataframe, on peut utiliser leur noms avec `loc` (dans un tableau) :"
   ]
  },
  {
   "cell_type": "code",
   "execution_count": null,
   "metadata": {},
   "outputs": [],
   "source": [
    "print(\"Lignes nommées a et c :\\n\", df_texte.loc[[\"a\", \"c\"]])"
   ]
  },
  {
   "cell_type": "code",
   "execution_count": null,
   "metadata": {},
   "outputs": [],
   "source": [
    "## Lignes nommées a et c :\n",
    "##     height  weight  age  taille\n",
    "## a      58     115   28     162\n",
    "## c      60     120   31     172"
   ]
  },
  {
   "cell_type": "code",
   "execution_count": null,
   "metadata": {},
   "outputs": [],
   "source": [
    "print(\"\\nLignes nommées 0 et 2:\\n\", df_num.loc[[0, 2]])"
   ]
  },
  {
   "cell_type": "code",
   "execution_count": null,
   "metadata": {},
   "outputs": [],
   "source": [
    "## \n",
    "## Lignes nommées 0 et 2:\n",
    "##     height  weight  age  taille\n",
    "## 0      58     115   28     162\n",
    "## 2      60     120   31     172"
   ]
  },
  {
   "cell_type": "markdown",
   "metadata": {},
   "source": [
    "Ou bien, leur position avec `iloc` :"
   ]
  },
  {
   "cell_type": "code",
   "execution_count": null,
   "metadata": {},
   "outputs": [],
   "source": [
    "print(\"Lignes aux positions 0 et 3:\\n\", df_texte.iloc[[0, 3]])"
   ]
  },
  {
   "cell_type": "code",
   "execution_count": null,
   "metadata": {},
   "outputs": [],
   "source": [
    "## Lignes aux positions 0 et 3:\n",
    "##     height  weight  age  taille\n",
    "## a      58     115   28     162\n",
    "## b      61     123   31     160"
   ]
  },
  {
   "cell_type": "code",
   "execution_count": null,
   "metadata": {},
   "outputs": [],
   "source": [
    "print(\"\\nLignes aux positions 0 et 3:\\n\", df_num.iloc[[0, 3]])"
   ]
  },
  {
   "cell_type": "code",
   "execution_count": null,
   "metadata": {},
   "outputs": [],
   "source": [
    "## \n",
    "## Lignes aux positions 0 et 3:\n",
    "##     height  weight  age  taille\n",
    "## 0      58     115   28     162\n",
    "## 3      61     123   31     160"
   ]
  },
  {
   "cell_type": "markdown",
   "metadata": {},
   "source": [
    "#### Découpage de plusieurs lignes {#decoupage-df-lignes}\n",
    "\n",
    "On peut récupérer une suite de ligne en délimitant la première et la dernière à extraire en fonction de leur nom et en utilisant `loc` :"
   ]
  },
  {
   "cell_type": "code",
   "execution_count": null,
   "metadata": {},
   "outputs": [],
   "source": [
    "print(\"Lignes du label a à c:\\n\", df_texte.loc[\"a\":\"c\"])"
   ]
  },
  {
   "cell_type": "code",
   "execution_count": null,
   "metadata": {},
   "outputs": [],
   "source": [
    "## Lignes du label a à c:\n",
    "##     height  weight  age  taille\n",
    "## a      58     115   28     162\n",
    "## e      59     117   33     156\n",
    "## c      60     120   31     172"
   ]
  },
  {
   "cell_type": "code",
   "execution_count": null,
   "metadata": {},
   "outputs": [],
   "source": [
    "print(\"\\Lignes du label 0 à 2:\\n\", df_num.loc[0:2])"
   ]
  },
  {
   "cell_type": "code",
   "execution_count": null,
   "metadata": {},
   "outputs": [],
   "source": [
    "## \\Lignes du label 0 à 2:\n",
    "##     height  weight  age  taille\n",
    "## 0      58     115   28     162\n",
    "## 1      59     117   33     156\n",
    "## 2      60     120   31     172"
   ]
  },
  {
   "cell_type": "markdown",
   "metadata": {},
   "source": [
    "Avec l'attribut `iloc`, c'est également possible (encore une fois, la borne supérieure n'est pas incluse) :"
   ]
  },
  {
   "cell_type": "code",
   "execution_count": null,
   "metadata": {},
   "outputs": [],
   "source": [
    "print(\"Lignes des positions 0 à 3 (non incluse):\\n\", df_texte.iloc[0:3])"
   ]
  },
  {
   "cell_type": "code",
   "execution_count": null,
   "metadata": {},
   "outputs": [],
   "source": [
    "## Lignes des positions 0 à 3 (non incluse):\n",
    "##     height  weight  age  taille\n",
    "## a      58     115   28     162\n",
    "## e      59     117   33     156\n",
    "## c      60     120   31     172"
   ]
  },
  {
   "cell_type": "code",
   "execution_count": null,
   "metadata": {},
   "outputs": [],
   "source": [
    "print(\"\\nLignes des positions 0 à 3 (non incluse):\\n\", df_num.iloc[0:3])"
   ]
  },
  {
   "cell_type": "code",
   "execution_count": null,
   "metadata": {},
   "outputs": [],
   "source": [
    "## \n",
    "## Lignes des positions 0 à 3 (non incluse):\n",
    "##     height  weight  age  taille\n",
    "## 0      58     115   28     162\n",
    "## 1      59     117   33     156\n",
    "## 2      60     120   31     172"
   ]
  },
  {
   "cell_type": "markdown",
   "metadata": {},
   "source": [
    "#### Masque {#masque-extraction-ligne}\n",
    "\n",
    "On peut aussi utiliser un masque pour sélectionner certaines lignes. Par exemple, si on souhaite récupérer les lignes pour lesquelles la variable `height` a une valeur supérieure à 60, on utilise le masque suivante :"
   ]
  },
  {
   "cell_type": "code",
   "execution_count": null,
   "metadata": {},
   "outputs": [],
   "source": [
    "masque = df_texte[\"height\"]> 60\n",
    "print(masque)"
   ]
  },
  {
   "cell_type": "code",
   "execution_count": null,
   "metadata": {},
   "outputs": [],
   "source": [
    "## a    False\n",
    "## e    False\n",
    "## c    False\n",
    "## b     True\n",
    "## d     True\n",
    "## Name: height, dtype: bool"
   ]
  },
  {
   "cell_type": "markdown",
   "metadata": {},
   "source": [
    "Pour filtrer :"
   ]
  },
  {
   "cell_type": "code",
   "execution_count": null,
   "metadata": {},
   "outputs": [],
   "source": [
    "print(df_texte.loc[masque])"
   ]
  },
  {
   "cell_type": "code",
   "execution_count": null,
   "metadata": {},
   "outputs": [],
   "source": [
    "##    height  weight  age  taille\n",
    "## b      61     123   31     160\n",
    "## d      62     126   29     158"
   ]
  },
  {
   "cell_type": "markdown",
   "metadata": {},
   "source": [
    "#### Extraction d'une seule colonne\n",
    "\n",
    "Pour extraire une colonne d'un dataframe, on peut utiliser des crochets et faire référence au nom de la colonne (qui est indexée par les noms) :"
   ]
  },
  {
   "cell_type": "code",
   "execution_count": null,
   "metadata": {},
   "outputs": [],
   "source": [
    "print(df_texte['weight'].head(2))"
   ]
  },
  {
   "cell_type": "code",
   "execution_count": null,
   "metadata": {},
   "outputs": [],
   "source": [
    "## a    115\n",
    "## e    117\n",
    "## Name: weight, dtype: int64"
   ]
  },
  {
   "cell_type": "markdown",
   "metadata": {},
   "source": [
    "En ayant sélectionné une seule colonne, on obtient une série (l'index du dataframe est conservé pour la série) :"
   ]
  },
  {
   "cell_type": "code",
   "execution_count": null,
   "metadata": {},
   "outputs": [],
   "source": [
    "print(type(df_texte['weight']))"
   ]
  },
  {
   "cell_type": "code",
   "execution_count": null,
   "metadata": {},
   "outputs": [],
   "source": [
    "## <class 'pandas.core.series.Series'>"
   ]
  },
  {
   "cell_type": "markdown",
   "metadata": {},
   "source": [
    "On peut également extraire une colonne en faisant référence à l'attribut du dataframe portant le nom de cette colonne :"
   ]
  },
  {
   "cell_type": "code",
   "execution_count": null,
   "metadata": {},
   "outputs": [],
   "source": [
    "print(df_texte.weight.head(2))"
   ]
  },
  {
   "cell_type": "code",
   "execution_count": null,
   "metadata": {},
   "outputs": [],
   "source": [
    "## a    115\n",
    "## e    117\n",
    "## Name: weight, dtype: int64"
   ]
  },
  {
   "cell_type": "markdown",
   "metadata": {},
   "source": [
    "Comme pour les séries, on peut s'appuyer sur les attributs `loc` et `iloc` :"
   ]
  },
  {
   "cell_type": "code",
   "execution_count": null,
   "metadata": {},
   "outputs": [],
   "source": [
    "print(\"Colone 2 (loc):\\n\", df_texte.loc[:,\"weight\"])"
   ]
  },
  {
   "cell_type": "code",
   "execution_count": null,
   "metadata": {},
   "outputs": [],
   "source": [
    "## Colone 2 (loc):\n",
    "##  a    115\n",
    "## e    117\n",
    "## c    120\n",
    "## b    123\n",
    "## d    126\n",
    "## Name: weight, dtype: int64"
   ]
  },
  {
   "cell_type": "code",
   "execution_count": null,
   "metadata": {},
   "outputs": [],
   "source": [
    "print(\"Colonne 2 (iloc):\\n\", df_texte.iloc[:,1])"
   ]
  },
  {
   "cell_type": "code",
   "execution_count": null,
   "metadata": {},
   "outputs": [],
   "source": [
    "## Colonne 2 (iloc):\n",
    "##  a    115\n",
    "## e    117\n",
    "## c    120\n",
    "## b    123\n",
    "## d    126\n",
    "## Name: weight, dtype: int64"
   ]
  },
  {
   "cell_type": "markdown",
   "metadata": {},
   "source": [
    "#### Extraction de plusieurs colonnes\n",
    "\n",
    "\n",
    "Pour extraire plusieurs colonnes, il suffit de placer les noms des colonnes dans un tableau :"
   ]
  },
  {
   "cell_type": "code",
   "execution_count": null,
   "metadata": {},
   "outputs": [],
   "source": [
    "print(df_texte[[\"weight\", \"height\"]])"
   ]
  },
  {
   "cell_type": "code",
   "execution_count": null,
   "metadata": {},
   "outputs": [],
   "source": [
    "##    weight  height\n",
    "## a     115      58\n",
    "## e     117      59\n",
    "## c     120      60\n",
    "## b     123      61\n",
    "## d     126      62"
   ]
  },
  {
   "cell_type": "markdown",
   "metadata": {},
   "source": [
    "L'ordre dans lequel on appelle ces colonnes correspond à l'ordre dans lequel elles seront retournées.\n",
    "\n",
    "À nouveau, on peut utuliser l'attribut `loc` (on utilise les deux points ici pour dire que l'on veut toutes les lignes) :"
   ]
  },
  {
   "cell_type": "code",
   "execution_count": null,
   "metadata": {},
   "outputs": [],
   "source": [
    "print(\"Colonnes de weight à height:\\n\", df_texte.loc[:,[\"weight\", \"height\"]])"
   ]
  },
  {
   "cell_type": "code",
   "execution_count": null,
   "metadata": {},
   "outputs": [],
   "source": [
    "## Colonnes de weight à height:\n",
    "##     weight  height\n",
    "## a     115      58\n",
    "## e     117      59\n",
    "## c     120      60\n",
    "## b     123      61\n",
    "## d     126      62"
   ]
  },
  {
   "cell_type": "markdown",
   "metadata": {},
   "source": [
    "Et l'attribut `iloc` :"
   ]
  },
  {
   "cell_type": "code",
   "execution_count": null,
   "metadata": {},
   "outputs": [],
   "source": [
    "print(\"Colonnes 2 et 1 :\\n\", df_num.iloc[:,[1,0]])"
   ]
  },
  {
   "cell_type": "code",
   "execution_count": null,
   "metadata": {},
   "outputs": [],
   "source": [
    "## Colonnes 2 et 1 :\n",
    "##     weight  height\n",
    "## 0     115      58\n",
    "## 1     117      59\n",
    "## 2     120      60\n",
    "## 3     123      61\n",
    "## 4     126      62"
   ]
  },
  {
   "cell_type": "markdown",
   "metadata": {},
   "source": [
    "#### Découpage de plusieurs colonnes {#decoupage-df-colonnes}\n",
    "\n",
    "Pour effectuer un découpage, on peut utiliser les attributs `loc` et `iloc`. Attention, on ne place pas le nom des colonnes servant pour le découpage dans un tableau ici :\n",
    "\n",
    "Avec `loc` :"
   ]
  },
  {
   "cell_type": "code",
   "execution_count": null,
   "metadata": {},
   "outputs": [],
   "source": [
    "print(\"Colones 2 et 2:\\n\", df_texte.loc[:, \"height\":\"age\"])"
   ]
  },
  {
   "cell_type": "code",
   "execution_count": null,
   "metadata": {},
   "outputs": [],
   "source": [
    "## Colones 2 et 2:\n",
    "##     height  weight  age\n",
    "## a      58     115   28\n",
    "## e      59     117   33\n",
    "## c      60     120   31\n",
    "## b      61     123   31\n",
    "## d      62     126   29"
   ]
  },
  {
   "cell_type": "markdown",
   "metadata": {},
   "source": [
    "Et avec l'attribut `iloc` :"
   ]
  },
  {
   "cell_type": "code",
   "execution_count": null,
   "metadata": {},
   "outputs": [],
   "source": [
    "print(\"Colonnes de la position 0 à 2 (non incluse) :\\n\",\n",
    "      df_texte.iloc[:, 0:2])"
   ]
  },
  {
   "cell_type": "code",
   "execution_count": null,
   "metadata": {},
   "outputs": [],
   "source": [
    "## Colonnes de la position 0 à 2 (non incluse) :\n",
    "##     height  weight\n",
    "## a      58     115\n",
    "## e      59     117\n",
    "## c      60     120\n",
    "## b      61     123\n",
    "## d      62     126"
   ]
  },
  {
   "cell_type": "markdown",
   "metadata": {},
   "source": [
    "#### Extraction de lignes et colonnes\n",
    "\n",
    "À présent que nous avons passé en revue de nombreuses manières de sélectionner une ou plusieurs lignes ou colonnes, nous pouvons également mentionner qu'il est possible de faire des sélections de colonnes et de lignes dans une même instruction.\n",
    "\n",
    "\n",
    "Par exemple, avec `iloc`, sélectionnons les lignes de la position 0 à la position 2 (non incluse) et les colonnes de la position 1 à 3 (non incluse) :"
   ]
  },
  {
   "cell_type": "code",
   "execution_count": null,
   "metadata": {},
   "outputs": [],
   "source": [
    "print(df_texte.iloc[0:2, 1:3])"
   ]
  },
  {
   "cell_type": "code",
   "execution_count": null,
   "metadata": {},
   "outputs": [],
   "source": [
    "##    weight  age\n",
    "## a     115   28\n",
    "## e     117   33"
   ]
  },
  {
   "cell_type": "markdown",
   "metadata": {},
   "source": [
    "Avec `loc`, sélectionnons les lignes nommées `a` et `c` et les colonnes de celle nommée `weight` jusqu'à `age`."
   ]
  },
  {
   "cell_type": "code",
   "execution_count": null,
   "metadata": {},
   "outputs": [],
   "source": [
    "df_texte.loc[[\"a\", \"c\"], \"weight\":\"age\"]"
   ]
  },
  {
   "cell_type": "markdown",
   "metadata": {},
   "source": [
    "## Renommage des colonnes dans un dataframe\n",
    "\n",
    "Pour renommer une colonne dans un dataframe, `pandas` propose la méthode `rename()`. Prenons un exemple avec notre dataframe `df` :"
   ]
  },
  {
   "cell_type": "code",
   "execution_count": null,
   "metadata": {},
   "outputs": [],
   "source": [
    "dico = {\"height\" : [58, 59, 60, 61, 62],\n",
    "        \"weight\": [115, 117, 120, 123, 126],\n",
    "        \"age\": [28, 33, 31, 31, 29],\n",
    "        \"taille\": [162, 156, 172, 160, 158],\n",
    "       }\n",
    "df = pd.DataFrame(dico)\n",
    "print(df)"
   ]
  },
  {
   "cell_type": "code",
   "execution_count": null,
   "metadata": {},
   "outputs": [],
   "source": [
    "##    height  weight  age  taille\n",
    "## 0      58     115   28     162\n",
    "## 1      59     117   33     156\n",
    "## 2      60     120   31     172\n",
    "## 3      61     123   31     160\n",
    "## 4      62     126   29     158"
   ]
  },
  {
   "cell_type": "markdown",
   "metadata": {},
   "source": [
    "Renommons la colonne `height` en `taille`, à l'aide d'un dicionnaire précisé au paramètre `columns`, avec comme clé le nom actuel de la colonne, et en valeur le nouveau nom :"
   ]
  },
  {
   "cell_type": "code",
   "execution_count": null,
   "metadata": {},
   "outputs": [],
   "source": [
    "df.rename(index=str, columns={\"height\": \"taille\"}, inplace=True)\n",
    "print(df)"
   ]
  },
  {
   "cell_type": "code",
   "execution_count": null,
   "metadata": {},
   "outputs": [],
   "source": [
    "##    taille  weight  age  taille\n",
    "## 0      58     115   28     162\n",
    "## 1      59     117   33     156\n",
    "## 2      60     120   31     172\n",
    "## 3      61     123   31     160\n",
    "## 4      62     126   29     158"
   ]
  },
  {
   "cell_type": "markdown",
   "metadata": {},
   "source": [
    "Pour que le changement soit effectif, on indique `inplace=True`, sinon, la modification n'est pas apportée au dataframe.\n",
    "\n",
    "Pour renommer plusieurs colonnes en même temps, il suffit de fournir plusieurs couples de clés valeurs dans le dictionnaire :"
   ]
  },
  {
   "cell_type": "code",
   "execution_count": null,
   "metadata": {},
   "outputs": [],
   "source": [
    "df.rename(index=str,\n",
    "          columns={\"weight\": \"masse\", \"age\" : \"annees\"},\n",
    "          inplace=True)\n",
    "print(df)"
   ]
  },
  {
   "cell_type": "code",
   "execution_count": null,
   "metadata": {},
   "outputs": [],
   "source": [
    "##    taille  masse  annees  taille\n",
    "## 0      58    115      28     162\n",
    "## 1      59    117      33     156\n",
    "## 2      60    120      31     172\n",
    "## 3      61    123      31     160\n",
    "## 4      62    126      29     158"
   ]
  },
  {
   "cell_type": "markdown",
   "metadata": {},
   "source": [
    "## Filtrage\n",
    "\n",
    "\n",
    "Pour effectuer une filtration des données dans un tableau, en fonction des valeurs rencontrées pour certaines variables, on utilise des masques, comme indiqué dans la Section\\ \\@ref(masque-extraction-ligne).\n",
    "\n",
    "\n",
    "Redennons quelques exemples ici, en redéfinissant notre dataframe :"
   ]
  },
  {
   "cell_type": "code",
   "execution_count": null,
   "metadata": {},
   "outputs": [],
   "source": [
    "dico = {\"height\" : [58, 59, 60, 61, 62],\n",
    "        \"weight\": [115, 117, 120, 123, 126],\n",
    "        \"age\": [28, 33, 31, 31, 29],\n",
    "        \"taille\": [162, 156, 172, 160, 158],\n",
    "       }\n",
    "df = pd.DataFrame(dico)\n",
    "print(df)"
   ]
  },
  {
   "cell_type": "code",
   "execution_count": null,
   "metadata": {},
   "outputs": [],
   "source": [
    "##    height  weight  age  taille\n",
    "## 0      58     115   28     162\n",
    "## 1      59     117   33     156\n",
    "## 2      60     120   31     172\n",
    "## 3      61     123   31     160\n",
    "## 4      62     126   29     158"
   ]
  },
  {
   "cell_type": "markdown",
   "metadata": {},
   "source": [
    "L'idée consiste à créer un masque retournant une série contenant des valeurs booléennes, une par ligne. Lorsque la valeur de la ligne du masque vaut `True`, la ligne du dataframe sur lequel sera appliqué le masque sera retenue, tandis qu'elle ne le sera pas quand la valeur de la ligne du masque vaut `False`.\n",
    "\n",
    "\n",
    "Regardons un exemple simple, dans lequel nous souhaitons conserver les observations uniquement pour lesquelles la valeur de la variable `age` est inférieure à 30 :"
   ]
  },
  {
   "cell_type": "code",
   "execution_count": null,
   "metadata": {},
   "outputs": [],
   "source": [
    "masque = df[\"age\"] < 30\n",
    "print(masque)"
   ]
  },
  {
   "cell_type": "code",
   "execution_count": null,
   "metadata": {},
   "outputs": [],
   "source": [
    "## 0     True\n",
    "## 1    False\n",
    "## 2    False\n",
    "## 3    False\n",
    "## 4     True\n",
    "## Name: age, dtype: bool"
   ]
  },
  {
   "cell_type": "markdown",
   "metadata": {},
   "source": [
    "Il reste alors à appliquer ce masque, avec `loc`. On souhaite l'ensemble des colonnes, mais seulement quelques lignes :"
   ]
  },
  {
   "cell_type": "code",
   "execution_count": null,
   "metadata": {},
   "outputs": [],
   "source": [
    "print(df.loc[masque])"
   ]
  },
  {
   "cell_type": "code",
   "execution_count": null,
   "metadata": {},
   "outputs": [],
   "source": [
    "##    height  weight  age  taille\n",
    "## 0      58     115   28     162\n",
    "## 4      62     126   29     158"
   ]
  },
  {
   "cell_type": "markdown",
   "metadata": {},
   "source": [
    "Note : cela fonctionne aussi sans `loc` :"
   ]
  },
  {
   "cell_type": "code",
   "execution_count": null,
   "metadata": {},
   "outputs": [],
   "source": [
    "print(df[masque])"
   ]
  },
  {
   "cell_type": "code",
   "execution_count": null,
   "metadata": {},
   "outputs": [],
   "source": [
    "##    height  weight  age  taille\n",
    "## 0      58     115   28     162\n",
    "## 4      62     126   29     158"
   ]
  },
  {
   "cell_type": "markdown",
   "metadata": {},
   "source": [
    "Plus simplement, on peut utiliser la méthode `query()` de `pandas`. On fournit une expression booléenne à évaluer à cette méthode pour filtrer les données :"
   ]
  },
  {
   "cell_type": "code",
   "execution_count": null,
   "metadata": {},
   "outputs": [],
   "source": [
    "print(df.query(age<30))"
   ]
  },
  {
   "cell_type": "code",
   "execution_count": null,
   "metadata": {},
   "outputs": [],
   "source": [
    "## NameError: name 'age' is not defined\n",
    "## \n",
    "## Detailed traceback: \n",
    "##   File \"<string>\", line 1, in <module>"
   ]
  },
  {
   "cell_type": "markdown",
   "metadata": {},
   "source": [
    "La requête peut être un peu plus complexe, en combinant opérateurs de comparaison (c.f. Section\\ \\@ref(operateurs-comparaison)) et opérateurs logiques (c.f. Section\\ \\@ref(operateurs-logiques)). Par exemple, admettons que nous voulons filtrer les valeurs du dataframe pour ne retenir que les observations pour lesquelles la taille est inférieure ou égale à 62 et la masse strictement supérieure à 120. La requête serait alors :"
   ]
  },
  {
   "cell_type": "code",
   "execution_count": null,
   "metadata": {},
   "outputs": [],
   "source": [
    "print(df.query(\"weight > 120 and height < 62\"))"
   ]
  },
  {
   "cell_type": "code",
   "execution_count": null,
   "metadata": {},
   "outputs": [],
   "source": [
    "##    height  weight  age  taille\n",
    "## 3      61     123   31     160"
   ]
  },
  {
   "cell_type": "markdown",
   "metadata": {},
   "source": [
    "On peut noter que l'instruction suivante donne le même résultat :"
   ]
  },
  {
   "cell_type": "code",
   "execution_count": null,
   "metadata": {},
   "outputs": [],
   "source": [
    "print(df.query(\"weight > 120\").query(\"height < 62\"))"
   ]
  },
  {
   "cell_type": "code",
   "execution_count": null,
   "metadata": {},
   "outputs": [],
   "source": [
    "##    height  weight  age  taille\n",
    "## 3      61     123   31     160"
   ]
  },
  {
   "cell_type": "markdown",
   "metadata": {},
   "source": [
    "### Test d'appartenance\n",
    "\n",
    "Pour créer un masque indiquant si les valeurs d'une série ou d'un dataframe appartiennent à un ensemble, on peut utiliser la méthode `isin()`. Par exemple, retournons un masque indiquant si les valeurs de la colonne `height` de `df` sont dans l'intervalle $[59,60]$ :"
   ]
  },
  {
   "cell_type": "code",
   "execution_count": null,
   "metadata": {},
   "outputs": [],
   "source": [
    "df.height.isin(np.arange(59,61))"
   ]
  },
  {
   "cell_type": "markdown",
   "metadata": {},
   "source": [
    "## Valeurs manquantes\n",
    "\n",
    "En économie, il est assez fréquent de récupérer des données incomplètes. La manière dont les données manquantes sont gérées par `pandas` est le recours aux deux valeurs spéciales : `None` et `NaN`.\n",
    "\n",
    "La valeur `None` peut être utilisée dans les tableaux `NumPy` uniquement quand le type de ces derniers est `object`."
   ]
  },
  {
   "cell_type": "code",
   "execution_count": null,
   "metadata": {},
   "outputs": [],
   "source": [
    "tableau_none = np.array([1, 4, -1, None])\n",
    "print(tableau_none)"
   ]
  },
  {
   "cell_type": "code",
   "execution_count": null,
   "metadata": {},
   "outputs": [],
   "source": [
    "## [1 4 -1 None]"
   ]
  },
  {
   "cell_type": "code",
   "execution_count": null,
   "metadata": {},
   "outputs": [],
   "source": [
    "print(type(tableau_none))"
   ]
  },
  {
   "cell_type": "code",
   "execution_count": null,
   "metadata": {},
   "outputs": [],
   "source": [
    "## <class 'numpy.ndarray'>"
   ]
  },
  {
   "cell_type": "markdown",
   "metadata": {},
   "source": [
    "Avec un tableau de type `object`, les opérations effectuées sur les données seront moins efficaces qu'avec un tableau d'un type numérique [@vanderplas2016python, p 121].\n",
    "\n",
    "La valeur `NaN` est une valeur de nombre à virgule flottante (c.f. Section\\ \\@ref(numpy-constantes)). `NumPy` la gère différemment de `NaN`, et n'assigne passe type `object` d'emblée en présence de `NaN` :"
   ]
  },
  {
   "cell_type": "code",
   "execution_count": null,
   "metadata": {},
   "outputs": [],
   "source": [
    "tableau_nan = np.array([1, 4, -1, np.nan])\n",
    "print(tableau_nan)"
   ]
  },
  {
   "cell_type": "code",
   "execution_count": null,
   "metadata": {},
   "outputs": [],
   "source": [
    "## [ 1.  4. -1. nan]"
   ]
  },
  {
   "cell_type": "code",
   "execution_count": null,
   "metadata": {},
   "outputs": [],
   "source": [
    "print(type(tableau_nan))"
   ]
  },
  {
   "cell_type": "code",
   "execution_count": null,
   "metadata": {},
   "outputs": [],
   "source": [
    "## <class 'numpy.ndarray'>"
   ]
  },
  {
   "cell_type": "markdown",
   "metadata": {},
   "source": [
    "Avec `pandas`, ces deux valeurs, `None` et `NaN` peuvent être présentes :"
   ]
  },
  {
   "cell_type": "code",
   "execution_count": null,
   "metadata": {},
   "outputs": [],
   "source": [
    "s = pd.Series([1, None, -1, np.nan])\n",
    "print(s)"
   ]
  },
  {
   "cell_type": "code",
   "execution_count": null,
   "metadata": {},
   "outputs": [],
   "source": [
    "## 0    1.0\n",
    "## 1    NaN\n",
    "## 2   -1.0\n",
    "## 3    NaN\n",
    "## dtype: float64"
   ]
  },
  {
   "cell_type": "code",
   "execution_count": null,
   "metadata": {},
   "outputs": [],
   "source": [
    "print(type(s))"
   ]
  },
  {
   "cell_type": "code",
   "execution_count": null,
   "metadata": {},
   "outputs": [],
   "source": [
    "## <class 'pandas.core.series.Series'>"
   ]
  },
  {
   "cell_type": "markdown",
   "metadata": {},
   "source": [
    "Cela tient aussi pour les tableaux :"
   ]
  },
  {
   "cell_type": "code",
   "execution_count": null,
   "metadata": {},
   "outputs": [],
   "source": [
    "dico = {\"height\" : [58, 59, 60, 61, np.nan],\n",
    "        \"weight\": [115, 117, 120, 123, 126],\n",
    "        \"age\": [28, 33, 31, np.nan, 29],\n",
    "        \"taille\": [162, 156, 172, 160, 158],\n",
    "       }\n",
    "df = pd.DataFrame(dico)\n",
    "print(df)"
   ]
  },
  {
   "cell_type": "code",
   "execution_count": null,
   "metadata": {},
   "outputs": [],
   "source": [
    "##    height  weight   age  taille\n",
    "## 0    58.0     115  28.0     162\n",
    "## 1    59.0     117  33.0     156\n",
    "## 2    60.0     120  31.0     172\n",
    "## 3    61.0     123   NaN     160\n",
    "## 4     NaN     126  29.0     158"
   ]
  },
  {
   "cell_type": "markdown",
   "metadata": {},
   "source": [
    "On note toutefois que seule le type des variables pour lesquelles existent des valeurs manquantes sont passées en `float64` :"
   ]
  },
  {
   "cell_type": "code",
   "execution_count": null,
   "metadata": {},
   "outputs": [],
   "source": [
    "print(df.dtypes)"
   ]
  },
  {
   "cell_type": "code",
   "execution_count": null,
   "metadata": {},
   "outputs": [],
   "source": [
    "## height    float64\n",
    "## weight      int64\n",
    "## age       float64\n",
    "## taille      int64\n",
    "## dtype: object"
   ]
  },
  {
   "cell_type": "markdown",
   "metadata": {},
   "source": [
    "Remarque\n",
    "\n",
    "On note que les données sont enregistrées sur un type `float64`. Lorsqu'on travaille sur un tableau ne comportant pas de valeurs manquantes, dont le type est `int` ou `bool`, si on introduit une valeur manquante, `pandas` changera le type des données en `float64` et `object`, respectivement.\n",
    "\n",
    "\n",
    "\n",
    "`pandas` propose différentes pour manipuler les valeurs manquantes.\n",
    "\n",
    "\n",
    "### Repérer les valeurs manquantes\n",
    "\n",
    "Avec la méthode `isnull()`, un masque de booléens est retournée, indiquant `True` pour les observations dont la valeur est `NaN` ou `None` :"
   ]
  },
  {
   "cell_type": "code",
   "execution_count": null,
   "metadata": {},
   "outputs": [],
   "source": [
    "print(s.isnull())"
   ]
  },
  {
   "cell_type": "code",
   "execution_count": null,
   "metadata": {},
   "outputs": [],
   "source": [
    "## 0    False\n",
    "## 1     True\n",
    "## 2    False\n",
    "## 3     True\n",
    "## dtype: bool"
   ]
  },
  {
   "cell_type": "markdown",
   "metadata": {},
   "source": [
    "Pour savoir si une valeur n'est pas nulle, on dispose de la méthode `notnull()` :"
   ]
  },
  {
   "cell_type": "code",
   "execution_count": null,
   "metadata": {},
   "outputs": [],
   "source": [
    "print(s.notnull())"
   ]
  },
  {
   "cell_type": "code",
   "execution_count": null,
   "metadata": {},
   "outputs": [],
   "source": [
    "## 0     True\n",
    "## 1    False\n",
    "## 2     True\n",
    "## 3    False\n",
    "## dtype: bool"
   ]
  },
  {
   "cell_type": "markdown",
   "metadata": {},
   "source": [
    "### Retirer les observations avec valeurs manquantes\n",
    "\n",
    "La méthode `dropna()` permet quant à elle de retirer les observations disposant de valeurs nulles :"
   ]
  },
  {
   "cell_type": "code",
   "execution_count": null,
   "metadata": {},
   "outputs": [],
   "source": [
    "print(df.dropna())"
   ]
  },
  {
   "cell_type": "code",
   "execution_count": null,
   "metadata": {},
   "outputs": [],
   "source": [
    "##    height  weight   age  taille\n",
    "## 0    58.0     115  28.0     162\n",
    "## 1    59.0     117  33.0     156\n",
    "## 2    60.0     120  31.0     172"
   ]
  },
  {
   "cell_type": "markdown",
   "metadata": {},
   "source": [
    "### Retirer les valeurs manquantes par d'autres valeurs\n",
    "\n",
    "Pour remplacer les valeurs manquantes par d'autres valeurs, `pandas` propose d'utiliser la méthode `fillna()` :"
   ]
  },
  {
   "cell_type": "code",
   "execution_count": null,
   "metadata": {},
   "outputs": [],
   "source": [
    "print(df.fillna(-9999))"
   ]
  },
  {
   "cell_type": "code",
   "execution_count": null,
   "metadata": {},
   "outputs": [],
   "source": [
    "##    height  weight     age  taille\n",
    "## 0    58.0     115    28.0     162\n",
    "## 1    59.0     117    33.0     156\n",
    "## 2    60.0     120    31.0     172\n",
    "## 3    61.0     123 -9999.0     160\n",
    "## 4 -9999.0     126    29.0     158"
   ]
  },
  {
   "cell_type": "markdown",
   "metadata": {},
   "source": [
    "## Suppressions\n",
    "\n",
    "Pour supprimer une valeur sur un des axes d'une série ou d'un dataframe, `NumPy` propose la méthode `drop()`.\n",
    "\n",
    "\n",
    "### Suppression d'éléments dans une série\n",
    "\n",
    "Pour illustrer le fonctionnement de la méthode `drop()`, créons une série avec un index numérique, une autre avec un index textuel :"
   ]
  },
  {
   "cell_type": "code",
   "execution_count": null,
   "metadata": {},
   "outputs": [],
   "source": [
    "s_num = pd.Series([1, 4, -1, np.nan],\n",
    "             index = [5, 0, 4, 1])\n",
    "s_texte = pd.Series([1, 4, -1, np.nan],\n",
    "             index = [\"c\", \"a\", \"b\", \"d\"])"
   ]
  },
  {
   "cell_type": "markdown",
   "metadata": {},
   "source": [
    "On peut supprimer un élément d'une série en utilisant son nom :"
   ]
  },
  {
   "cell_type": "code",
   "execution_count": null,
   "metadata": {},
   "outputs": [],
   "source": [
    "print(\"pour s_num : \\n\", s_num.drop(5))"
   ]
  },
  {
   "cell_type": "code",
   "execution_count": null,
   "metadata": {},
   "outputs": [],
   "source": [
    "## pour s_num : \n",
    "##  0    4.0\n",
    "## 4   -1.0\n",
    "## 1    NaN\n",
    "## dtype: float64"
   ]
  },
  {
   "cell_type": "code",
   "execution_count": null,
   "metadata": {},
   "outputs": [],
   "source": [
    "print(\"\\npour s_texte : \\n\", s_texte.drop(\"c\"))"
   ]
  },
  {
   "cell_type": "code",
   "execution_count": null,
   "metadata": {},
   "outputs": [],
   "source": [
    "## \n",
    "## pour s_texte : \n",
    "##  a    4.0\n",
    "## b   -1.0\n",
    "## d    NaN\n",
    "## dtype: float64"
   ]
  },
  {
   "cell_type": "markdown",
   "metadata": {},
   "source": [
    "On peut aussi aller récupérer le nom en fonction de la position, en passant par un détour en utilisant la méthode `index()` :"
   ]
  },
  {
   "cell_type": "code",
   "execution_count": null,
   "metadata": {},
   "outputs": [],
   "source": [
    "pritn(s.drop(s_num.index[0]))"
   ]
  },
  {
   "cell_type": "code",
   "execution_count": null,
   "metadata": {},
   "outputs": [],
   "source": [
    "## NameError: name 'pritn' is not defined\n",
    "## \n",
    "## Detailed traceback: \n",
    "##   File \"<string>\", line 1, in <module>"
   ]
  },
  {
   "cell_type": "code",
   "execution_count": null,
   "metadata": {},
   "outputs": [],
   "source": [
    "print(\"s_num.index[0] : \", s_num.index[0])"
   ]
  },
  {
   "cell_type": "code",
   "execution_count": null,
   "metadata": {},
   "outputs": [],
   "source": [
    "## s_num.index[0] :  5"
   ]
  },
  {
   "cell_type": "code",
   "execution_count": null,
   "metadata": {},
   "outputs": [],
   "source": [
    "print(\"s_texte.index[0] : \", s_texte.index[0])"
   ]
  },
  {
   "cell_type": "code",
   "execution_count": null,
   "metadata": {},
   "outputs": [],
   "source": [
    "## s_texte.index[0] :  c"
   ]
  },
  {
   "cell_type": "code",
   "execution_count": null,
   "metadata": {},
   "outputs": [],
   "source": [
    "print(\"pour s_num : \\n\", s_num.drop(s_num.index[0]))"
   ]
  },
  {
   "cell_type": "code",
   "execution_count": null,
   "metadata": {},
   "outputs": [],
   "source": [
    "## pour s_num : \n",
    "##  0    4.0\n",
    "## 4   -1.0\n",
    "## 1    NaN\n",
    "## dtype: float64"
   ]
  },
  {
   "cell_type": "code",
   "execution_count": null,
   "metadata": {},
   "outputs": [],
   "source": [
    "print(\"\\npour s_texte : \\n\", s_texte.drop(s_texte.index[0]))"
   ]
  },
  {
   "cell_type": "code",
   "execution_count": null,
   "metadata": {},
   "outputs": [],
   "source": [
    "## \n",
    "## pour s_texte : \n",
    "##  a    4.0\n",
    "## b   -1.0\n",
    "## d    NaN\n",
    "## dtype: float64"
   ]
  },
  {
   "cell_type": "markdown",
   "metadata": {},
   "source": [
    "Pour supprimer plusieurs éléments, il suffit de fournir plusieurs noms d'indice dans une liste à la méthode `drop()` :"
   ]
  },
  {
   "cell_type": "code",
   "execution_count": null,
   "metadata": {},
   "outputs": [],
   "source": [
    "print(\"pour s_num : \\n\", s_num.drop([5, 4]))"
   ]
  },
  {
   "cell_type": "code",
   "execution_count": null,
   "metadata": {},
   "outputs": [],
   "source": [
    "## pour s_num : \n",
    "##  0    4.0\n",
    "## 1    NaN\n",
    "## dtype: float64"
   ]
  },
  {
   "cell_type": "code",
   "execution_count": null,
   "metadata": {},
   "outputs": [],
   "source": [
    "print(\"\\npour s_texte : \\n\", s_texte.drop([\"c\", \"b\"]))"
   ]
  },
  {
   "cell_type": "code",
   "execution_count": null,
   "metadata": {},
   "outputs": [],
   "source": [
    "## \n",
    "## pour s_texte : \n",
    "##  a    4.0\n",
    "## d    NaN\n",
    "## dtype: float64"
   ]
  },
  {
   "cell_type": "markdown",
   "metadata": {},
   "source": [
    "À nouveau, on peut aller récupérer le nom en fonction de la position, en passant par un détour en utilisant la méthode `index()` :"
   ]
  },
  {
   "cell_type": "code",
   "execution_count": null,
   "metadata": {},
   "outputs": [],
   "source": [
    "pritn(s.drop(s_num.index[0]))"
   ]
  },
  {
   "cell_type": "code",
   "execution_count": null,
   "metadata": {},
   "outputs": [],
   "source": [
    "## NameError: name 'pritn' is not defined\n",
    "## \n",
    "## Detailed traceback: \n",
    "##   File \"<string>\", line 1, in <module>"
   ]
  },
  {
   "cell_type": "code",
   "execution_count": null,
   "metadata": {},
   "outputs": [],
   "source": [
    "print(\"s_num.index[[0,2]] : \", s_num.index[[0,2]])"
   ]
  },
  {
   "cell_type": "code",
   "execution_count": null,
   "metadata": {},
   "outputs": [],
   "source": [
    "## s_num.index[[0,2]] :  Int64Index([5, 4], dtype='int64')"
   ]
  },
  {
   "cell_type": "code",
   "execution_count": null,
   "metadata": {},
   "outputs": [],
   "source": [
    "print(\"s_texte.index[[0,2]] : \", s_texte.index[[0,2]])"
   ]
  },
  {
   "cell_type": "code",
   "execution_count": null,
   "metadata": {},
   "outputs": [],
   "source": [
    "## s_texte.index[[0,2]] :  Index(['c', 'b'], dtype='object')"
   ]
  },
  {
   "cell_type": "code",
   "execution_count": null,
   "metadata": {},
   "outputs": [],
   "source": [
    "print(\"pour s_num : \\n\", s_num.drop(s_num.index[[0,2]]))"
   ]
  },
  {
   "cell_type": "code",
   "execution_count": null,
   "metadata": {},
   "outputs": [],
   "source": [
    "## pour s_num : \n",
    "##  0    4.0\n",
    "## 1    NaN\n",
    "## dtype: float64"
   ]
  },
  {
   "cell_type": "code",
   "execution_count": null,
   "metadata": {},
   "outputs": [],
   "source": [
    "print(\"\\npour s_texte : \\n\", s_texte.drop(s_texte.index[[0,2]]))"
   ]
  },
  {
   "cell_type": "code",
   "execution_count": null,
   "metadata": {},
   "outputs": [],
   "source": [
    "## \n",
    "## pour s_texte : \n",
    "##  a    4.0\n",
    "## d    NaN\n",
    "## dtype: float64"
   ]
  },
  {
   "cell_type": "markdown",
   "metadata": {},
   "source": [
    "Il est possible d'utiliser un découpage également pour obtenir la série sans le ou les éléments (c.f. Section\\ \\@ref(decoupage-series))\n",
    "\n",
    "\n",
    "### Suppression d'éléments dans un dataframe\n",
    "\n",
    "\n",
    "Pour illustrer le fonctionnement de la méthode `drop()` sur un dataframe, créons-en un :"
   ]
  },
  {
   "cell_type": "code",
   "execution_count": null,
   "metadata": {},
   "outputs": [],
   "source": [
    "s_num = pd.Series([1, 4, -1, np.nan],\n",
    "             index = [5, 0, 4, 1])\n",
    "s_texte = pd.Series([1, 4, -1, np.nan],\n",
    "             index = [\"c\", \"a\", \"b\", \"d\"])\n",
    "dico = {\"height\" : [58, 59, 60, 61, np.nan],\n",
    "        \"weight\": [115, 117, 120, 123, 126],\n",
    "        \"age\": [28, 33, 31, np.nan, 29],\n",
    "        \"taille\": [162, 156, 172, 160, 158],\n",
    "       }\n",
    "df = pd.DataFrame(dico)"
   ]
  },
  {
   "cell_type": "markdown",
   "metadata": {},
   "source": [
    "#### Suppressions de lignes\n",
    "\n",
    "Pour supprimer une ligne d'un dataframe, on peut faire référence à son nom (ici, les noms sont des numéros, mais ce sont bien des labels) :"
   ]
  },
  {
   "cell_type": "code",
   "execution_count": null,
   "metadata": {},
   "outputs": [],
   "source": [
    "print(\"Supprimer la première ligne :  \\n\", df.drop(0))"
   ]
  },
  {
   "cell_type": "code",
   "execution_count": null,
   "metadata": {},
   "outputs": [],
   "source": [
    "## Supprimer la première ligne :  \n",
    "##     height  weight   age  taille\n",
    "## 1    59.0     117  33.0     156\n",
    "## 2    60.0     120  31.0     172\n",
    "## 3    61.0     123   NaN     160\n",
    "## 4     NaN     126  29.0     158"
   ]
  },
  {
   "cell_type": "markdown",
   "metadata": {},
   "source": [
    "Si les lignes ont des labels textuels, on peut au préalable aller les récupérer à l'aide de la méthode `index()` :"
   ]
  },
  {
   "cell_type": "code",
   "execution_count": null,
   "metadata": {},
   "outputs": [],
   "source": [
    "label_pos_0 = df.index[0]\n",
    "print(\"Supprimer la première ligne :  \\n\", df.drop(label_pos_0))"
   ]
  },
  {
   "cell_type": "code",
   "execution_count": null,
   "metadata": {},
   "outputs": [],
   "source": [
    "## Supprimer la première ligne :  \n",
    "##     height  weight   age  taille\n",
    "## 1    59.0     117  33.0     156\n",
    "## 2    60.0     120  31.0     172\n",
    "## 3    61.0     123   NaN     160\n",
    "## 4     NaN     126  29.0     158"
   ]
  },
  {
   "cell_type": "markdown",
   "metadata": {},
   "source": [
    "Pour supprimer plusieurs lignes, on donne le nom de ces lignes dans une liste à la méthode `drop()` :"
   ]
  },
  {
   "cell_type": "code",
   "execution_count": null,
   "metadata": {},
   "outputs": [],
   "source": [
    "print(\"Supprimer les 1ère et 4e lignes :  \\n\", df.drop([0,3]))"
   ]
  },
  {
   "cell_type": "code",
   "execution_count": null,
   "metadata": {},
   "outputs": [],
   "source": [
    "## Supprimer les 1ère et 4e lignes :  \n",
    "##     height  weight   age  taille\n",
    "## 1    59.0     117  33.0     156\n",
    "## 2    60.0     120  31.0     172\n",
    "## 4     NaN     126  29.0     158"
   ]
  },
  {
   "cell_type": "markdown",
   "metadata": {},
   "source": [
    "Ou encore, en indiquant les positions des lignes :"
   ]
  },
  {
   "cell_type": "code",
   "execution_count": null,
   "metadata": {},
   "outputs": [],
   "source": [
    "label_pos = df.index[[0, 3]]\n",
    "print(\"Supprimer les 1ère et 4e lignes :  \\n\", df.drop(label_pos))"
   ]
  },
  {
   "cell_type": "code",
   "execution_count": null,
   "metadata": {},
   "outputs": [],
   "source": [
    "## Supprimer les 1ère et 4e lignes :  \n",
    "##     height  weight   age  taille\n",
    "## 1    59.0     117  33.0     156\n",
    "## 2    60.0     120  31.0     172\n",
    "## 4     NaN     126  29.0     158"
   ]
  },
  {
   "cell_type": "markdown",
   "metadata": {},
   "source": [
    "Il est possible d'utiliser un découpage également pour obtenir la série sans le ou les éléments (c.f. Sections\\ \\@ref(decoupage-df-lignes) et \\@ref(decoupage-df-colonnes))\n",
    "\n",
    "\n",
    "#### Suppressions de colonnes\n",
    "\n",
    "\n",
    "Pour supprimer une colonne d'un dataframe, on procède de la même manière que pour les lignes, mais en ajoutant le paramètre `axis=1` à la méthode `drop()` pour préciser que l'on s'intéresse aux colonnes :"
   ]
  },
  {
   "cell_type": "code",
   "execution_count": null,
   "metadata": {},
   "outputs": [],
   "source": [
    "print(\"Supprimer la première colonne :  \\n\", df.drop(\"height\", axis=1))"
   ]
  },
  {
   "cell_type": "code",
   "execution_count": null,
   "metadata": {},
   "outputs": [],
   "source": [
    "## Supprimer la première colonne :  \n",
    "##     weight   age  taille\n",
    "## 0     115  28.0     162\n",
    "## 1     117  33.0     156\n",
    "## 2     120  31.0     172\n",
    "## 3     123   NaN     160\n",
    "## 4     126  29.0     158"
   ]
  },
  {
   "cell_type": "markdown",
   "metadata": {},
   "source": [
    "On peut au préalable aller récupérer les labels des colonnes en fonction de leur position à l'aide de la méthode `columns()` :"
   ]
  },
  {
   "cell_type": "code",
   "execution_count": null,
   "metadata": {},
   "outputs": [],
   "source": [
    "label_pos = df.columns[0]\n",
    "print(\"label_pos : \", label_pos)"
   ]
  },
  {
   "cell_type": "code",
   "execution_count": null,
   "metadata": {},
   "outputs": [],
   "source": [
    "## label_pos :  height"
   ]
  },
  {
   "cell_type": "code",
   "execution_count": null,
   "metadata": {},
   "outputs": [],
   "source": [
    "print(\"Supprimer la première colonne :  \\n\", df.drop(label_pos, axis=1))"
   ]
  },
  {
   "cell_type": "code",
   "execution_count": null,
   "metadata": {},
   "outputs": [],
   "source": [
    "## Supprimer la première colonne :  \n",
    "##     weight   age  taille\n",
    "## 0     115  28.0     162\n",
    "## 1     117  33.0     156\n",
    "## 2     120  31.0     172\n",
    "## 3     123   NaN     160\n",
    "## 4     126  29.0     158"
   ]
  },
  {
   "cell_type": "markdown",
   "metadata": {},
   "source": [
    "Pour supprimer plusieurs colonnes, on donne le nom de ces colonnes dans une liste à la méthode `drop()` :"
   ]
  },
  {
   "cell_type": "code",
   "execution_count": null,
   "metadata": {},
   "outputs": [],
   "source": [
    "print(\"Supprimer les 1ère et 4e colonnes :  \\n\", df.drop([\"height\", \"taille\"], axis = 1))"
   ]
  },
  {
   "cell_type": "code",
   "execution_count": null,
   "metadata": {},
   "outputs": [],
   "source": [
    "## Supprimer les 1ère et 4e colonnes :  \n",
    "##     weight   age\n",
    "## 0     115  28.0\n",
    "## 1     117  33.0\n",
    "## 2     120  31.0\n",
    "## 3     123   NaN\n",
    "## 4     126  29.0"
   ]
  },
  {
   "cell_type": "markdown",
   "metadata": {},
   "source": [
    "Ou encore, en indiquant les positions des colonnes :"
   ]
  },
  {
   "cell_type": "code",
   "execution_count": null,
   "metadata": {},
   "outputs": [],
   "source": [
    "label_pos = df.columns[[0, 3]]\n",
    "print(\"Supprimer les 1ère et 4e colonnes :  \\n\", df.drop(label_pos, axis=1))"
   ]
  },
  {
   "cell_type": "code",
   "execution_count": null,
   "metadata": {},
   "outputs": [],
   "source": [
    "## Supprimer les 1ère et 4e colonnes :  \n",
    "##     weight   age\n",
    "## 0     115  28.0\n",
    "## 1     117  33.0\n",
    "## 2     120  31.0\n",
    "## 3     123   NaN\n",
    "## 4     126  29.0"
   ]
  },
  {
   "cell_type": "markdown",
   "metadata": {},
   "source": [
    "Il est possible d'utiliser un découpage également pour obtenir la série sans le ou les éléments (c.f. Sections\\ \\@ref(decoupage-df-lignes) et \\@ref(decoupage-df-colonnes))\n",
    "\n",
    "\n",
    "## Remplacement de valeurs\n",
    "\n",
    "Nous allons à présent regarder comment modifier une ou plusieurs valeurs, dans le cas d'une série puis d'un dataframe.\n",
    "\n",
    "### Pour une série\n",
    "\n",
    "Pour modifier une valeur particulière dans une série ou dans un dataframe, on peut utiliser le symbole égale (`=`) en ayant au préalable ciblé l'emplacement de la valeur à modifier, à l'aide des techniques d'extraction expliquées dans la Section\\ \\@ref(pandas-selection).\n",
    "\n",
    "Par exemple, considérons la série suivante :"
   ]
  },
  {
   "cell_type": "code",
   "execution_count": null,
   "metadata": {},
   "outputs": [],
   "source": [
    "s_num = pd.Series([1, 4, -1, np.nan],\n",
    "             index = [5, 0, 4, 1])\n",
    "print(\"s_num : \", s_num)"
   ]
  },
  {
   "cell_type": "code",
   "execution_count": null,
   "metadata": {},
   "outputs": [],
   "source": [
    "## s_num :  5    1.0\n",
    "## 0    4.0\n",
    "## 4   -1.0\n",
    "## 1    NaN\n",
    "## dtype: float64"
   ]
  },
  {
   "cell_type": "markdown",
   "metadata": {},
   "source": [
    "Modifions le deuxième élément élément de `s_num`, pour lui donner la valeur -3 :"
   ]
  },
  {
   "cell_type": "code",
   "execution_count": null,
   "metadata": {},
   "outputs": [],
   "source": [
    "s_num.iloc[1] = -3\n",
    "print(\"s_num : \", s_num)"
   ]
  },
  {
   "cell_type": "code",
   "execution_count": null,
   "metadata": {},
   "outputs": [],
   "source": [
    "## s_num :  5    1.0\n",
    "## 0   -3.0\n",
    "## 4   -1.0\n",
    "## 1    NaN\n",
    "## dtype: float64"
   ]
  },
  {
   "cell_type": "markdown",
   "metadata": {},
   "source": [
    "Il est évidemment possible de modifier plusieurs valeurs à la fois.\n",
    "\n",
    "Il suffit à nouveau de cibler les positions (on peu utiliser de nombreuses manières de le faire) et de fournir un objet de dimensions équivalentes pour venir remplacer les valeurs ciblées. Par exemple, dans notre série `s_num`, allons remplacer les valeurs en position 1 et 3 (2e et 4e valeurs) par -10 et -9 :"
   ]
  },
  {
   "cell_type": "code",
   "execution_count": null,
   "metadata": {},
   "outputs": [],
   "source": [
    "s_num.iloc[[1,3]] = [-10, -9]\n",
    "print(s_num)"
   ]
  },
  {
   "cell_type": "code",
   "execution_count": null,
   "metadata": {},
   "outputs": [],
   "source": [
    "## 5     1.0\n",
    "## 0   -10.0\n",
    "## 4    -1.0\n",
    "## 1    -9.0\n",
    "## dtype: float64"
   ]
  },
  {
   "cell_type": "markdown",
   "metadata": {},
   "source": [
    "### Pour un dataframe\n",
    "\n",
    "Considérons le dataframe suivant :"
   ]
  },
  {
   "cell_type": "code",
   "execution_count": null,
   "metadata": {},
   "outputs": [],
   "source": [
    "dico = {\"ville\" : [\"Marseille\", \"Aix\",\n",
    "                   \"Marseille\", \"Aix\", \"Paris\", \"Paris\"],\n",
    "        \"annee\": [2019, 2019, 2018, 2018,2019, 2019],\n",
    "        \"x\": [1, 2, 2, 2, 0, 0],\n",
    "        \"y\": [3, 3, 2, 1, 4, 4],\n",
    "       }\n",
    "df = pd.DataFrame(dico)\n",
    "print(\"df : \\n\", df)"
   ]
  },
  {
   "cell_type": "code",
   "execution_count": null,
   "metadata": {},
   "outputs": [],
   "source": [
    "## df : \n",
    "##         ville  annee  x  y\n",
    "## 0  Marseille   2019  1  3\n",
    "## 1        Aix   2019  2  3\n",
    "## 2  Marseille   2018  2  2\n",
    "## 3        Aix   2018  2  1\n",
    "## 4      Paris   2019  0  4\n",
    "## 5      Paris   2019  0  4"
   ]
  },
  {
   "cell_type": "markdown",
   "metadata": {},
   "source": [
    "#### Modifications d'une valeur particulière\n",
    "\n",
    "Modifions la valeur de la première ligne de `df` pour la colonne `annee`, pour que celle-ci vaille 2020. Dans un premier temps, récupérons la position de la colonne `annee` dans le dataframe, à l'aide de la méthode `get_loc()` appliquée à l'attribut `colnames` du dataframe :"
   ]
  },
  {
   "cell_type": "code",
   "execution_count": null,
   "metadata": {},
   "outputs": [],
   "source": [
    "pos_annee = df.columns.get_loc(\"annee\")\n",
    "print(\"pos_annee : \", pos_annee)"
   ]
  },
  {
   "cell_type": "code",
   "execution_count": null,
   "metadata": {},
   "outputs": [],
   "source": [
    "## pos_annee :  1"
   ]
  },
  {
   "cell_type": "markdown",
   "metadata": {},
   "source": [
    "Ensuite, effectuons la modification :"
   ]
  },
  {
   "cell_type": "code",
   "execution_count": null,
   "metadata": {},
   "outputs": [],
   "source": [
    "df.iloc[0,pos_annee] = 2020\n",
    "print(\"df : \\n\", df)"
   ]
  },
  {
   "cell_type": "code",
   "execution_count": null,
   "metadata": {},
   "outputs": [],
   "source": [
    "## df : \n",
    "##         ville  annee  x  y\n",
    "## 0  Marseille   2020  1  3\n",
    "## 1        Aix   2019  2  3\n",
    "## 2  Marseille   2018  2  2\n",
    "## 3        Aix   2018  2  1\n",
    "## 4      Paris   2019  0  4\n",
    "## 5      Paris   2019  0  4"
   ]
  },
  {
   "cell_type": "markdown",
   "metadata": {},
   "source": [
    "#### Modifications sur une ou plusieurs colonnes\n",
    "\n",
    "Pour modifier toutes les valeurs d'une colonne pour y placer une valeur particulière, par exemple un 2 dans la colonne `x` de `df` :"
   ]
  },
  {
   "cell_type": "code",
   "execution_count": null,
   "metadata": {},
   "outputs": [],
   "source": [
    "df.x = 2\n",
    "print(\"df : \\n\", df)"
   ]
  },
  {
   "cell_type": "code",
   "execution_count": null,
   "metadata": {},
   "outputs": [],
   "source": [
    "## df : \n",
    "##         ville  annee  x  y\n",
    "## 0  Marseille   2020  2  3\n",
    "## 1        Aix   2019  2  3\n",
    "## 2  Marseille   2018  2  2\n",
    "## 3        Aix   2018  2  1\n",
    "## 4      Paris   2019  2  4\n",
    "## 5      Paris   2019  2  4"
   ]
  },
  {
   "cell_type": "markdown",
   "metadata": {},
   "source": [
    "On peut également modifier les valeurs de la colonne en fournissant une liste de valeurs :"
   ]
  },
  {
   "cell_type": "code",
   "execution_count": null,
   "metadata": {},
   "outputs": [],
   "source": [
    "df.x = [2, 3, 4, 2, 1, 0]\n",
    "print(\"df : \\n\", df)"
   ]
  },
  {
   "cell_type": "code",
   "execution_count": null,
   "metadata": {},
   "outputs": [],
   "source": [
    "## df : \n",
    "##         ville  annee  x  y\n",
    "## 0  Marseille   2020  2  3\n",
    "## 1        Aix   2019  3  3\n",
    "## 2  Marseille   2018  4  2\n",
    "## 3        Aix   2018  2  1\n",
    "## 4      Paris   2019  1  4\n",
    "## 5      Paris   2019  0  4"
   ]
  },
  {
   "cell_type": "markdown",
   "metadata": {},
   "source": [
    "On peut donc  imaginer modifier les valeurs d'une colonne en fonction des valeurs que l'on lit dans une autre colonne. Par exemple, admettons le code suivant : si la valeur de `y` vaut 2, alors celle de x vaut \"a\", si la valeur de `y` vaut 1, lors celle de `x` vaut \"b\", sinon, elle vaut `NaN`. Dans un premier temps, construisons une liste contenant les valeurs à insérer (que nous nommerons `nv_val`), à l'aide d'une boucle. Nous allons parcourir tous les éléments de la colonne `y`, et à chaque itération ajouter à `nv_val` la valeur obtenue en effectuant nos comparaisons :"
   ]
  },
  {
   "cell_type": "code",
   "execution_count": null,
   "metadata": {},
   "outputs": [],
   "source": [
    "nv_val = []\n",
    "for i in np.arange(len(df.index)):\n",
    "        if df.y[i] == 2:\n",
    "            nv_val.append(\"a\")\n",
    "        elif df.y[i] == 1:\n",
    "            nv_val.append(\"b\")\n",
    "        else:\n",
    "            nv_val.append(np.nan)\n",
    "print(\"nv_val : \", nv_val)"
   ]
  },
  {
   "cell_type": "code",
   "execution_count": null,
   "metadata": {},
   "outputs": [],
   "source": [
    "## nv_val :  [nan, nan, 'a', 'b', nan, nan]"
   ]
  },
  {
   "cell_type": "markdown",
   "metadata": {},
   "source": [
    "Nous sommes prêts à modifier le contenu de la colonne `x` de `df` pour le remplacer par `nv_val` :"
   ]
  },
  {
   "cell_type": "code",
   "execution_count": null,
   "metadata": {},
   "outputs": [],
   "source": [
    "df.x = nv_val\n",
    "print(\"df : \\n\", df)"
   ]
  },
  {
   "cell_type": "code",
   "execution_count": null,
   "metadata": {},
   "outputs": [],
   "source": [
    "## df : \n",
    "##         ville  annee    x  y\n",
    "## 0  Marseille   2020  NaN  3\n",
    "## 1        Aix   2019  NaN  3\n",
    "## 2  Marseille   2018    a  2\n",
    "## 3        Aix   2018    b  1\n",
    "## 4      Paris   2019  NaN  4\n",
    "## 5      Paris   2019  NaN  4"
   ]
  },
  {
   "cell_type": "markdown",
   "metadata": {},
   "source": [
    "Pour remplacer plusieurs colonnes en même temps :"
   ]
  },
  {
   "cell_type": "code",
   "execution_count": null,
   "metadata": {},
   "outputs": [],
   "source": [
    "df[[\"x\", \"y\"]] = [[2, 3, 4, 2, 1, 0], 1]\n",
    "print(\"df : \\n\", df)"
   ]
  },
  {
   "cell_type": "code",
   "execution_count": null,
   "metadata": {},
   "outputs": [],
   "source": [
    "## df : \n",
    "##         ville  annee  x  y\n",
    "## 0  Marseille   2020  2  1\n",
    "## 1        Aix   2019  3  1\n",
    "## 2  Marseille   2018  4  1\n",
    "## 3        Aix   2018  2  1\n",
    "## 4      Paris   2019  1  1\n",
    "## 5      Paris   2019  0  1"
   ]
  },
  {
   "cell_type": "markdown",
   "metadata": {},
   "source": [
    "Dans l'instruction précédente, nous avons remplacé le contenu des colonnes `x` et `y` par une vecteur de valeurs écrites à la main pour `x` et par la valeur 1 pour toutes les observations pour `y`.\n",
    "\n",
    "\n",
    "\n",
    "#### Modifications sur une ou plusieurs lignes\n",
    "\n",
    "\n",
    "Pour remplacer une ligne par une valeur constante (peu d'intérêt ici) :"
   ]
  },
  {
   "cell_type": "code",
   "execution_count": null,
   "metadata": {},
   "outputs": [],
   "source": [
    "df.iloc[1,:] = 1\n",
    "print(\"df : \\n\", df)"
   ]
  },
  {
   "cell_type": "code",
   "execution_count": null,
   "metadata": {},
   "outputs": [],
   "source": [
    "## df : \n",
    "##         ville  annee  x  y\n",
    "## 0  Marseille   2020  2  1\n",
    "## 1          1      1  1  1\n",
    "## 2  Marseille   2018  4  1\n",
    "## 3        Aix   2018  2  1\n",
    "## 4      Paris   2019  1  1\n",
    "## 5      Paris   2019  0  1"
   ]
  },
  {
   "cell_type": "markdown",
   "metadata": {},
   "source": [
    "Il peut être plus intéressant de remplacer une observation comme suit :"
   ]
  },
  {
   "cell_type": "code",
   "execution_count": null,
   "metadata": {},
   "outputs": [],
   "source": [
    "df.iloc[1,:] = [\"Aix\", 2018, 1, 2, 3]"
   ]
  },
  {
   "cell_type": "code",
   "execution_count": null,
   "metadata": {},
   "outputs": [],
   "source": [
    "## ValueError: Must have equal len keys and value when setting with an iterable\n",
    "## \n",
    "## Detailed traceback: \n",
    "##   File \"<string>\", line 1, in <module>\n",
    "##   File \"/anaconda3/lib/python3.6/site-packages/pandas/core/indexing.py\", line 189, in __setitem__\n",
    "##     self._setitem_with_indexer(indexer, value)\n",
    "##   File \"/anaconda3/lib/python3.6/site-packages/pandas/core/indexing.py\", line 606, in _setitem_with_indexer\n",
    "##     raise ValueError('Must have equal len keys and value '"
   ]
  },
  {
   "cell_type": "code",
   "execution_count": null,
   "metadata": {},
   "outputs": [],
   "source": [
    "print(\"df : \\n\", df)"
   ]
  },
  {
   "cell_type": "code",
   "execution_count": null,
   "metadata": {},
   "outputs": [],
   "source": [
    "## df : \n",
    "##         ville  annee  x  y\n",
    "## 0  Marseille   2020  2  1\n",
    "## 1          1      1  1  1\n",
    "## 2  Marseille   2018  4  1\n",
    "## 3        Aix   2018  2  1\n",
    "## 4      Paris   2019  1  1\n",
    "## 5      Paris   2019  0  1"
   ]
  },
  {
   "cell_type": "markdown",
   "metadata": {},
   "source": [
    "Pour remplacer plusieurs lignes, la méthode est identique :"
   ]
  },
  {
   "cell_type": "code",
   "execution_count": null,
   "metadata": {},
   "outputs": [],
   "source": [
    "df.iloc[[1,3],:] = [\n",
    "    [\"Aix\", 2018, 1, 2, 3],\n",
    "    [\"Aix\", 2018, -1, -1, -1]\n",
    "]"
   ]
  },
  {
   "cell_type": "code",
   "execution_count": null,
   "metadata": {},
   "outputs": [],
   "source": [
    "## ValueError: Must have equal len keys and value when setting with an ndarray\n",
    "## \n",
    "## Detailed traceback: \n",
    "##   File \"<string>\", line 3, in <module>\n",
    "##   File \"/anaconda3/lib/python3.6/site-packages/pandas/core/indexing.py\", line 189, in __setitem__\n",
    "##     self._setitem_with_indexer(indexer, value)\n",
    "##   File \"/anaconda3/lib/python3.6/site-packages/pandas/core/indexing.py\", line 590, in _setitem_with_indexer\n",
    "##     raise ValueError('Must have equal len keys and value '"
   ]
  },
  {
   "cell_type": "code",
   "execution_count": null,
   "metadata": {},
   "outputs": [],
   "source": [
    "print(\"df : \\n\", df)"
   ]
  },
  {
   "cell_type": "code",
   "execution_count": null,
   "metadata": {},
   "outputs": [],
   "source": [
    "## df : \n",
    "##         ville  annee  x  y\n",
    "## 0  Marseille   2020  2  1\n",
    "## 1          1      1  1  1\n",
    "## 2  Marseille   2018  4  1\n",
    "## 3        Aix   2018  2  1\n",
    "## 4      Paris   2019  1  1\n",
    "## 5      Paris   2019  0  1"
   ]
  },
  {
   "cell_type": "markdown",
   "metadata": {},
   "source": [
    "## Ajout de valeurs {#pandas-ajout-valeurs}\n",
    "\n",
    "Regardons à présent comment ajouter des valeurs, dans une série d'abord, puis dans un dataframe.\n",
    "\n",
    "### Pour une série\n",
    "\n",
    "Considérons la série suivante :"
   ]
  },
  {
   "cell_type": "code",
   "execution_count": null,
   "metadata": {},
   "outputs": [],
   "source": [
    "s_num = pd.Series([1, 4, -1, np.nan],\n",
    "             index = [5, 0, 4, 1])\n",
    "print(\"s_num : \", s_num)"
   ]
  },
  {
   "cell_type": "code",
   "execution_count": null,
   "metadata": {},
   "outputs": [],
   "source": [
    "## s_num :  5    1.0\n",
    "## 0    4.0\n",
    "## 4   -1.0\n",
    "## 1    NaN\n",
    "## dtype: float64"
   ]
  },
  {
   "cell_type": "markdown",
   "metadata": {},
   "source": [
    "#### Ajout d'une seule valeur dans une série\n",
    "\n",
    "\n",
    "Pour ajouter une valeur, on utlise la méthode `append()`. Ici, avec `s_num`, comme l'index est manuel, nous sommes obligé de fournir une série avec une valeur pour l'index également :"
   ]
  },
  {
   "cell_type": "code",
   "execution_count": null,
   "metadata": {},
   "outputs": [],
   "source": [
    "s_num_2 = pd.Series([1], index = [2])\n",
    "print(\"s_num_2 : \\n\", s_num_2)"
   ]
  },
  {
   "cell_type": "code",
   "execution_count": null,
   "metadata": {},
   "outputs": [],
   "source": [
    "## s_num_2 : \n",
    "##  2    1\n",
    "## dtype: int64"
   ]
  },
  {
   "cell_type": "code",
   "execution_count": null,
   "metadata": {},
   "outputs": [],
   "source": [
    "s_num = s_num.append(s_num_2)\n",
    "print(\"s_num : \\n\", s_num)"
   ]
  },
  {
   "cell_type": "code",
   "execution_count": null,
   "metadata": {},
   "outputs": [],
   "source": [
    "## s_num : \n",
    "##  5    1.0\n",
    "## 0    4.0\n",
    "## 4   -1.0\n",
    "## 1    NaN\n",
    "## 2    1.0\n",
    "## dtype: float64"
   ]
  },
  {
   "cell_type": "markdown",
   "metadata": {},
   "source": [
    "On note que la méthode `append()` retourne une vue, et que pour répercuter l'ajout, il est nécessaire d'effectuer une nouvelle assignation.\n",
    "\n",
    "\n",
    "En ayant une série avec un index numérique généré automatiquement, on peut préciser la valeur `True` pour le paramètre `ignore_index` de la méthode `append()` pour indiquer de ne pas tenir compte de la valeur de l'index de l'objet que l'on ajoute :"
   ]
  },
  {
   "cell_type": "code",
   "execution_count": null,
   "metadata": {},
   "outputs": [],
   "source": [
    "s = pd.Series([10, 2, 4])\n",
    "s = s.append(pd.Series([2]), ignore_index=True)\n",
    "print(\"s : \\n\", s)"
   ]
  },
  {
   "cell_type": "code",
   "execution_count": null,
   "metadata": {},
   "outputs": [],
   "source": [
    "## s : \n",
    "##  0    10\n",
    "## 1     2\n",
    "## 2     4\n",
    "## 3     2\n",
    "## dtype: int64"
   ]
  },
  {
   "cell_type": "markdown",
   "metadata": {},
   "source": [
    "#### Ajout de plusieurs valeurs dans une série\n",
    "\n",
    "Pour ajouter plusieurs valeurs, on utlise la méthode `append()`. Ici, avec `s_num`, comme l'index est manuel, nous sommes obligé de fournir une série avec une valeur pour l'index également :"
   ]
  },
  {
   "cell_type": "code",
   "execution_count": null,
   "metadata": {},
   "outputs": [],
   "source": [
    "s_num_2 = pd.Series([1], index = [2])\n",
    "s_num.append(s_num_2)\n",
    "print(\"s_num : \", s_num)"
   ]
  },
  {
   "cell_type": "code",
   "execution_count": null,
   "metadata": {},
   "outputs": [],
   "source": [
    "## s_num :  5    1.0\n",
    "## 0    4.0\n",
    "## 4   -1.0\n",
    "## 1    NaN\n",
    "## 2    1.0\n",
    "## dtype: float64"
   ]
  },
  {
   "cell_type": "markdown",
   "metadata": {},
   "source": [
    "En ayant une série avec un index numérique généré automatiquement :"
   ]
  },
  {
   "cell_type": "code",
   "execution_count": null,
   "metadata": {},
   "outputs": [],
   "source": [
    "s = pd.Series([10, 2, 4])\n",
    "s.append(pd.Series([2]), ignore_index=True)"
   ]
  },
  {
   "cell_type": "markdown",
   "metadata": {},
   "source": [
    "### Pour un dataframe\n",
    "\n",
    "Reprenons notre dataframe :"
   ]
  },
  {
   "cell_type": "code",
   "execution_count": null,
   "metadata": {},
   "outputs": [],
   "source": [
    "dico = {\"ville\" : [\"Marseille\", \"Aix\",\n",
    "                   \"Marseille\", \"Aix\", \"Paris\", \"Paris\"],\n",
    "        \"annee\": [2019, 2019, 2018, 2018,2019, 2019],\n",
    "        \"x\": [1, 2, 2, 2, 0, 0],\n",
    "        \"y\": [3, 3, 2, 1, 4, 4],\n",
    "       }\n",
    "df = pd.DataFrame(dico)\n",
    "print(\"df : \\n\", df)"
   ]
  },
  {
   "cell_type": "code",
   "execution_count": null,
   "metadata": {},
   "outputs": [],
   "source": [
    "## df : \n",
    "##         ville  annee  x  y\n",
    "## 0  Marseille   2019  1  3\n",
    "## 1        Aix   2019  2  3\n",
    "## 2  Marseille   2018  2  2\n",
    "## 3        Aix   2018  2  1\n",
    "## 4      Paris   2019  0  4\n",
    "## 5      Paris   2019  0  4"
   ]
  },
  {
   "cell_type": "markdown",
   "metadata": {},
   "source": [
    "#### Ajout d'une ligne dans un dataframe {#pandas-ajout-ligne-df}\n",
    "\n",
    "Comme pour une série, pour ajouter une ligne, on utlise la méthode `append()`. Dans un premier temps, créons un nouveau dataframe avec la ligne à ajouter :"
   ]
  },
  {
   "cell_type": "code",
   "execution_count": null,
   "metadata": {},
   "outputs": [],
   "source": [
    "nv_ligne = pd.DataFrame([[\"Marseille\", \"2021\", 2, 4]],\n",
    "                       columns = df.columns)\n",
    "print(\"nv_ligne : \\n\", nv_ligne)"
   ]
  },
  {
   "cell_type": "code",
   "execution_count": null,
   "metadata": {},
   "outputs": [],
   "source": [
    "## nv_ligne : \n",
    "##         ville annee  x  y\n",
    "## 0  Marseille  2021  2  4"
   ]
  },
  {
   "cell_type": "markdown",
   "metadata": {},
   "source": [
    "On s'est assuré d'avoir le même nom de colonnes ici, en indiquant au paramètre `columns` de la méthode `pd.DataFrame` le nom des colonnes de `df`, c'est-à-dire `df.columns`.\n",
    "\n",
    "Ajoutons la nouvelle ligne à `df` :"
   ]
  },
  {
   "cell_type": "code",
   "execution_count": null,
   "metadata": {},
   "outputs": [],
   "source": [
    "df = df.append(nv_ligne, ignore_index=True)"
   ]
  },
  {
   "cell_type": "markdown",
   "metadata": {},
   "source": [
    "À nouveau,la méthode `append()` appliquée à un dataframe, retourne une vue et n'affecte pas l'objet.\n",
    "\n",
    "\n",
    "On peut noter que lors de l'ajout d'une ligne, si le nom des colonnes n'est pas indiqué dans le même ordre que dans le dataframe dans lequel est effectué l'ajout, il faut rajouter une indication au paramètre `sort` de la méthode `append()` :\n",
    "\n",
    "- si `sort=True`, l'ordre des colonnes de la ligne ajoutée sera appliqué au dataframe de destination ;\n",
    "- si `sort=False`, l'odre des colonnes du dataframe de destination ne sera pas modifié."
   ]
  },
  {
   "cell_type": "code",
   "execution_count": null,
   "metadata": {},
   "outputs": [],
   "source": [
    "nv_ligne = pd.DataFrame([[\"2021\", \"Marseille\", 2, 4]],\n",
    "                       columns = [\"annee\", \"ville\", \"x\", \"y\"])\n",
    "print(\"nv_ligne : \\n\", nv_ligne)"
   ]
  },
  {
   "cell_type": "code",
   "execution_count": null,
   "metadata": {},
   "outputs": [],
   "source": [
    "## nv_ligne : \n",
    "##    annee      ville  x  y\n",
    "## 0  2021  Marseille  2  4"
   ]
  },
  {
   "cell_type": "code",
   "execution_count": null,
   "metadata": {},
   "outputs": [],
   "source": [
    "print(\"avec sort=True : \\n\",\n",
    "  df.append(nv_ligne, ignore_index=True, sort = True))"
   ]
  },
  {
   "cell_type": "code",
   "execution_count": null,
   "metadata": {},
   "outputs": [],
   "source": [
    "## avec sort=True : \n",
    "##    annee      ville  x  y\n",
    "## 0  2019  Marseille  1  3\n",
    "## 1  2019        Aix  2  3\n",
    "## 2  2018  Marseille  2  2\n",
    "## 3  2018        Aix  2  1\n",
    "## 4  2019      Paris  0  4\n",
    "## 5  2019      Paris  0  4\n",
    "## 6  2021  Marseille  2  4\n",
    "## 7  2021  Marseille  2  4"
   ]
  },
  {
   "cell_type": "markdown",
   "metadata": {},
   "source": [
    "#### Ajout de plusieurs lignes dans un dataframe\n",
    "\n",
    "Pour ajouter plusieurs lignes, c'est exactement le même principe qu'avec une seule, il suffit juste d'ajouter un dataframe de plusieurs lignes, avec encore une fois les mêmes noms.\n",
    "\n",
    "Les lignes à insérer :"
   ]
  },
  {
   "cell_type": "code",
   "execution_count": null,
   "metadata": {},
   "outputs": [],
   "source": [
    "nv_lignes = pd.DataFrame([\n",
    "    [\"Marseille\", \"2022\", 2, 4],\n",
    "    [\"Aix\", \"2022\", 3, 3]],\n",
    "    columns = df.columns)\n",
    "print(\"nv_ligne : \\n\", nv_lignes)"
   ]
  },
  {
   "cell_type": "code",
   "execution_count": null,
   "metadata": {},
   "outputs": [],
   "source": [
    "## nv_ligne : \n",
    "##         ville annee  x  y\n",
    "## 0  Marseille  2022  2  4\n",
    "## 1        Aix  2022  3  3"
   ]
  },
  {
   "cell_type": "markdown",
   "metadata": {},
   "source": [
    "Puis l'insertion :"
   ]
  },
  {
   "cell_type": "code",
   "execution_count": null,
   "metadata": {},
   "outputs": [],
   "source": [
    "df = df.append(nv_lignes, ignore_index=True)"
   ]
  },
  {
   "cell_type": "markdown",
   "metadata": {},
   "source": [
    "#### Ajout d'une colonne dans un dataframe\n",
    "\n",
    "Pour ajouter une colonne dans un dataframe, on utilise la méthode `assign()`, en indiquant le nom et les valeurs."
   ]
  },
  {
   "cell_type": "code",
   "execution_count": null,
   "metadata": {},
   "outputs": [],
   "source": [
    "from numpy import random\n",
    "df = df.assign(z = random.rand(len(df.index)))\n",
    "print(\"df : \\n\", df)"
   ]
  },
  {
   "cell_type": "code",
   "execution_count": null,
   "metadata": {},
   "outputs": [],
   "source": [
    "## df : \n",
    "##         ville annee  x  y         z\n",
    "## 0  Marseille  2019  1  3  0.031246\n",
    "## 1        Aix  2019  2  3  0.850069\n",
    "## 2  Marseille  2018  2  2  0.772513\n",
    "## 3        Aix  2018  2  1  0.772964\n",
    "## 4      Paris  2019  0  4  0.823019\n",
    "## 5      Paris  2019  0  4  0.505914\n",
    "## 6  Marseille  2021  2  4  0.795789\n",
    "## 7  Marseille  2022  2  4  0.965597\n",
    "## 8        Aix  2022  3  3  0.570067"
   ]
  },
  {
   "cell_type": "markdown",
   "metadata": {},
   "source": [
    "#### Ajout de plusieurs colonnes dans un dataframe\n",
    "\n",
    "Pour ajouter plusieurs colonnes, le même principe s'applique :"
   ]
  },
  {
   "cell_type": "code",
   "execution_count": null,
   "metadata": {},
   "outputs": [],
   "source": [
    "df = df.assign(a = random.rand(len(df.index)),\n",
    "          b = random.rand(len(df.index)))\n",
    "print(\"df : \\n\", df)"
   ]
  },
  {
   "cell_type": "code",
   "execution_count": null,
   "metadata": {},
   "outputs": [],
   "source": [
    "## df : \n",
    "##         ville annee  x  y         z         a         b\n",
    "## 0  Marseille  2019  1  3  0.031246  0.483742  0.862877\n",
    "## 1        Aix  2019  2  3  0.850069  0.227201  0.784325\n",
    "## 2  Marseille  2018  2  2  0.772513  0.644586  0.698261\n",
    "## 3        Aix  2018  2  1  0.772964  0.929557  0.548058\n",
    "## 4      Paris  2019  0  4  0.823019  0.981020  0.086862\n",
    "## 5      Paris  2019  0  4  0.505914  0.449373  0.264962\n",
    "## 6  Marseille  2021  2  4  0.795789  0.838224  0.228424\n",
    "## 7  Marseille  2022  2  4  0.965597  0.665365  0.637504\n",
    "## 8        Aix  2022  3  3  0.570067  0.286336  0.130732"
   ]
  },
  {
   "cell_type": "markdown",
   "metadata": {},
   "source": [
    "## Retrait des valeurs dupliquées\n",
    "\n",
    "\n",
    "Pour retirer les valeurs dupliquées dans un dataframe, `NumPy` propose la méthode `drop_duplicates()`, qui prend plusieurs paramètres optionnels :\n",
    "\n",
    "- `subset` : en indiquant un ou plusieurs noms de colonnes, la recherche de doublons se fait uniquement sur ces colonnes ;\n",
    "- `keep` : permet d'indiquer quelle observation garder en cas de doublons identifies :\n",
    "\n",
    "  - si `keep='first'`, tous les doublons sont retirés sauf la première occurrence,\n",
    "  - si `keep='last'`, tous les doublons sont retirés sauf la dernière occurrence,\n",
    "  -si `keep='False'`, tous les doublons sont retirés ;\n",
    "\n",
    "- `inplace` : booléen (défaut : `False`) pour indiquer si le retrait des doublons doit s'effectuer sur le dataframe ou bien si une copie doit être retournée (par défaut).\n",
    "\n",
    "\n",
    "Donnons quelques exemples à l'aide de ce dataframe qui compose deux doublons quand on considère sa totalité. Si on se concentre uniquement sur les années ou les villes, ou les deux, d'autres doublons peuvent être identifiés."
   ]
  },
  {
   "cell_type": "code",
   "execution_count": null,
   "metadata": {},
   "outputs": [],
   "source": [
    "dico = {\"ville\" : [\"Marseille\", \"Aix\",\n",
    "                   \"Marseille\", \"Aix\", \"Paris\", \"Paris\"],\n",
    "        \"annee\": [2019, 2019, 2018, 2018,2019, 2019],\n",
    "        \"x\": [1, 2, 2, 2, 0, 0],\n",
    "        \"y\": [3, 3, 2, 1, 4, 4],\n",
    "       }\n",
    "df = pd.DataFrame(dico)\n",
    "print(df)"
   ]
  },
  {
   "cell_type": "code",
   "execution_count": null,
   "metadata": {},
   "outputs": [],
   "source": [
    "##        ville  annee  x  y\n",
    "## 0  Marseille   2019  1  3\n",
    "## 1        Aix   2019  2  3\n",
    "## 2  Marseille   2018  2  2\n",
    "## 3        Aix   2018  2  1\n",
    "## 4      Paris   2019  0  4\n",
    "## 5      Paris   2019  0  4"
   ]
  },
  {
   "cell_type": "markdown",
   "metadata": {},
   "source": [
    "Pour retirer les doublons :"
   ]
  },
  {
   "cell_type": "code",
   "execution_count": null,
   "metadata": {},
   "outputs": [],
   "source": [
    "print(df.drop_duplicates())"
   ]
  },
  {
   "cell_type": "code",
   "execution_count": null,
   "metadata": {},
   "outputs": [],
   "source": [
    "##        ville  annee  x  y\n",
    "## 0  Marseille   2019  1  3\n",
    "## 1        Aix   2019  2  3\n",
    "## 2  Marseille   2018  2  2\n",
    "## 3        Aix   2018  2  1\n",
    "## 4      Paris   2019  0  4"
   ]
  },
  {
   "cell_type": "markdown",
   "metadata": {},
   "source": [
    "Retirer les doublons en gardant la dernière valeur des doublons identifiés :"
   ]
  },
  {
   "cell_type": "code",
   "execution_count": null,
   "metadata": {},
   "outputs": [],
   "source": [
    "df.drop_duplicates(keep='last')"
   ]
  },
  {
   "cell_type": "markdown",
   "metadata": {},
   "source": [
    "Pour retirer les doublons identifiés quand on se concentre sur le nom des villes, et en conservant uniquement la première valeur :"
   ]
  },
  {
   "cell_type": "code",
   "execution_count": null,
   "metadata": {},
   "outputs": [],
   "source": [
    "print(df.drop_duplicates(subset = [\"ville\"], keep = 'first'))"
   ]
  },
  {
   "cell_type": "code",
   "execution_count": null,
   "metadata": {},
   "outputs": [],
   "source": [
    "##        ville  annee  x  y\n",
    "## 0  Marseille   2019  1  3\n",
    "## 1        Aix   2019  2  3\n",
    "## 4      Paris   2019  0  4"
   ]
  },
  {
   "cell_type": "markdown",
   "metadata": {},
   "source": [
    "Idem mais en se concentrant sur les couples (ville, annee)"
   ]
  },
  {
   "cell_type": "code",
   "execution_count": null,
   "metadata": {},
   "outputs": [],
   "source": [
    "print(df.drop_duplicates(subset = [\"ville\", \"annee\"], keep = 'first'))"
   ]
  },
  {
   "cell_type": "code",
   "execution_count": null,
   "metadata": {},
   "outputs": [],
   "source": [
    "##        ville  annee  x  y\n",
    "## 0  Marseille   2019  1  3\n",
    "## 1        Aix   2019  2  3\n",
    "## 2  Marseille   2018  2  2\n",
    "## 3        Aix   2018  2  1\n",
    "## 4      Paris   2019  0  4"
   ]
  },
  {
   "cell_type": "markdown",
   "metadata": {},
   "source": [
    "On note que le dataframe original n'a pas été impacté, puisque nous n'avons pas touché au paramètre `inplace`. Si à présent, nous demandons à ce que les changement soient opérés sur le dataframe plutôt que de récupérer une copie :"
   ]
  },
  {
   "cell_type": "code",
   "execution_count": null,
   "metadata": {},
   "outputs": [],
   "source": [
    "df.drop_duplicates(subset = [\"ville\", \"annee\"], keep = 'first', inplace = True)\n",
    "print(df)"
   ]
  },
  {
   "cell_type": "code",
   "execution_count": null,
   "metadata": {},
   "outputs": [],
   "source": [
    "##        ville  annee  x  y\n",
    "## 0  Marseille   2019  1  3\n",
    "## 1        Aix   2019  2  3\n",
    "## 2  Marseille   2018  2  2\n",
    "## 3        Aix   2018  2  1\n",
    "## 4      Paris   2019  0  4"
   ]
  },
  {
   "cell_type": "markdown",
   "metadata": {},
   "source": [
    "Pour savoir si une valeur est dupliquée dans un dataframe, `NumPy` propose la méthode `duplicated()`, qui retourne un masque indiquant pour chaque observation, si elle est dupliquée ou non. Son fonctionnement est similaire à `df.drop_duplicates()`, hormis pour le paramètre `inplace` qui n'est pas présent."
   ]
  },
  {
   "cell_type": "code",
   "execution_count": null,
   "metadata": {},
   "outputs": [],
   "source": [
    "print(df.duplicated(subset = [\"ville\"], keep = 'first'))"
   ]
  },
  {
   "cell_type": "code",
   "execution_count": null,
   "metadata": {},
   "outputs": [],
   "source": [
    "## 0    False\n",
    "## 1    False\n",
    "## 2     True\n",
    "## 3     True\n",
    "## 4    False\n",
    "## dtype: bool"
   ]
  },
  {
   "cell_type": "markdown",
   "metadata": {},
   "source": [
    "On peut utiliser la méthode `any()` par la suite pour savoir s'il existe des doublons :"
   ]
  },
  {
   "cell_type": "code",
   "execution_count": null,
   "metadata": {},
   "outputs": [],
   "source": [
    "print(df.duplicated(subset = [\"ville\"], keep = 'first').any())"
   ]
  },
  {
   "cell_type": "code",
   "execution_count": null,
   "metadata": {},
   "outputs": [],
   "source": [
    "## True"
   ]
  },
  {
   "cell_type": "markdown",
   "metadata": {},
   "source": [
    "## Opérations\n",
    "\n",
    "Il est souvent nécessaire de devoir effectuer des opérations sur les colonnes d'un dataframe, notamment lorsqu'il s'agit de créer une nouvelle variable.\n",
    "\n",
    "En reprenant les principes de modification de colonnes (c.f. Section\\ \\@ref(#pandas-ajout-valeurs)), on imagine assez facilement qu'il est possible d'appliquer les fonctions et méthodes de `NumPy` (c.f. Section\\ \\@ref(numpy-tableaux)) sur les valeurs des colonnes.\n",
    "\n",
    "Par exemple, considérons le dataframe suivant :"
   ]
  },
  {
   "cell_type": "code",
   "execution_count": null,
   "metadata": {},
   "outputs": [],
   "source": [
    "dico = {\"height\" :\n",
    "               [58, 59, 60, 61, 62,\n",
    "                63, 64, 65, 66, 67,\n",
    "                68, 69, 70, 71, 72],\n",
    "        \"weight\":\n",
    "               [115, 117, 120, 123, 126,\n",
    "                129, 132, 135, 139, 142,\n",
    "                146, 150, 154, 159, 164]\n",
    "       }\n",
    "df = pd.DataFrame(dico)\n",
    "print(df)"
   ]
  },
  {
   "cell_type": "code",
   "execution_count": null,
   "metadata": {},
   "outputs": [],
   "source": [
    "##     height  weight\n",
    "## 0       58     115\n",
    "## 1       59     117\n",
    "## 2       60     120\n",
    "## 3       61     123\n",
    "## 4       62     126\n",
    "## 5       63     129\n",
    "## 6       64     132\n",
    "## 7       65     135\n",
    "## 8       66     139\n",
    "## 9       67     142\n",
    "## 10      68     146\n",
    "## 11      69     150\n",
    "## 12      70     154\n",
    "## 13      71     159\n",
    "## 14      72     164"
   ]
  },
  {
   "cell_type": "markdown",
   "metadata": {},
   "source": [
    "Ajoutons la colonne `height_2`, élevant les valeurs de la colonne `height` au carré :"
   ]
  },
  {
   "cell_type": "code",
   "execution_count": null,
   "metadata": {},
   "outputs": [],
   "source": [
    "df = df.assign(height_2 = df.height**2)\n",
    "print(df.head(3))"
   ]
  },
  {
   "cell_type": "code",
   "execution_count": null,
   "metadata": {},
   "outputs": [],
   "source": [
    "##    height  weight  height_2\n",
    "## 0      58     115      3364\n",
    "## 1      59     117      3481\n",
    "## 2      60     120      3600"
   ]
  },
  {
   "cell_type": "markdown",
   "metadata": {},
   "source": [
    "À présent, ajoutons la colonne `imc`, fournissant les valeurs de l'indicateur de masse corporelle pour les individus du dataframe ($\\text{IMC} = \\frac{\\text{weight}}{\\text{height}^2}$) :"
   ]
  },
  {
   "cell_type": "code",
   "execution_count": null,
   "metadata": {},
   "outputs": [],
   "source": [
    "df = df.assign(imc = df.weight / df.height_2)\n",
    "print(df.head(3))"
   ]
  },
  {
   "cell_type": "code",
   "execution_count": null,
   "metadata": {},
   "outputs": [],
   "source": [
    "##    height  weight  height_2       imc\n",
    "## 0      58     115      3364  0.034185\n",
    "## 1      59     117      3481  0.033611\n",
    "## 2      60     120      3600  0.033333"
   ]
  },
  {
   "cell_type": "markdown",
   "metadata": {},
   "source": [
    "### Statistiques {pandas-statistiques-df}\n",
    "\n",
    "`pandas` propose quelques méthodes pour effectuer des statistiques descriptives pour chaque colonne ou par ligne. Pour cela, la syntaxe est la suivante (tous les paramètres ont une valeur par défaut, la liste est simplifiée ici) :"
   ]
  },
  {
   "cell_type": "code",
   "execution_count": null,
   "metadata": {},
   "outputs": [],
   "source": [
    "dataframe.fonction_stat(axis, skipna)"
   ]
  },
  {
   "cell_type": "markdown",
   "metadata": {},
   "source": [
    "- `axis` : 0 pour les lignes, 1 pour les colonnes ;\n",
    "- `skipna` : si `True`, exclue les valeurs manquantes pour effectuer les calculs.\n",
    "\n",
    "Parmi les méthodes disponibles :\n",
    "- `mean()` : moyenne ;\n",
    "- `mode()` : mode ;\n",
    "- `median()` : médiane ;\n",
    "- `std()` : écart-type ;\n",
    "- `min()` : minimum ;\n",
    "- `max()` : maximum\n",
    "- `mad()` : écart absolu à la moyenne ;\n",
    "- `sum()` : somme des valeurs ;\n",
    "- `prod()` : produit de tous les éléments ;\n",
    "- `count()` : comptage du nombre d'éléments.\n",
    "\n",
    "\n",
    "Par exemple, pour calculer la moyenne des valeurs pour chaque colonne :"
   ]
  },
  {
   "cell_type": "code",
   "execution_count": null,
   "metadata": {},
   "outputs": [],
   "source": [
    "dico = {\"height\" : [58, 59, 60, 61, 62],\n",
    "        \"weight\": [115, 117, 120, 123, 126],\n",
    "        \"age\": [28, 33, 31, 31, 29],\n",
    "        \"taille\": [162, 156, 172, 160, 158],\n",
    "        \"married\": [True, True, False, False, True],\n",
    "        \"city\": [\"A\", \"B\", \"B\", \"B\", \"A\"]\n",
    "       }\n",
    "df = pd.DataFrame(dico)\n",
    "print(df.mean())"
   ]
  },
  {
   "cell_type": "code",
   "execution_count": null,
   "metadata": {},
   "outputs": [],
   "source": [
    "## height      60.0\n",
    "## weight     120.2\n",
    "## age         30.4\n",
    "## taille     161.6\n",
    "## married      0.6\n",
    "## dtype: float64"
   ]
  },
  {
   "cell_type": "markdown",
   "metadata": {},
   "source": [
    "Si on le souhaite, on peut faire la moyenne des valeurs en colonne (sans aucun sens ici) :"
   ]
  },
  {
   "cell_type": "code",
   "execution_count": null,
   "metadata": {},
   "outputs": [],
   "source": [
    "print(df.mean(axis=1))"
   ]
  },
  {
   "cell_type": "code",
   "execution_count": null,
   "metadata": {},
   "outputs": [],
   "source": [
    "## 0    72.8\n",
    "## 1    73.2\n",
    "## 2    76.6\n",
    "## 3    75.0\n",
    "## 4    75.2\n",
    "## dtype: float64"
   ]
  },
  {
   "cell_type": "markdown",
   "metadata": {},
   "source": [
    "Ces fonctions peuvent s'appliquer sur une seule colonne. Par exemple, pour afficher la valeur minimum :"
   ]
  },
  {
   "cell_type": "code",
   "execution_count": null,
   "metadata": {},
   "outputs": [],
   "source": [
    "print(\"min : \", df.height.min())"
   ]
  },
  {
   "cell_type": "code",
   "execution_count": null,
   "metadata": {},
   "outputs": [],
   "source": [
    "## min :  58"
   ]
  },
  {
   "cell_type": "markdown",
   "metadata": {},
   "source": [
    "Il est aussi utile de pouvoir obtenir la position des valeurs min et max ; ce qu'on peut obtenir avec les méthodes `idxmin()` et `idxmax()`, respectivement."
   ]
  },
  {
   "cell_type": "code",
   "execution_count": null,
   "metadata": {},
   "outputs": [],
   "source": [
    "print(\"pos min : \", df.height.idxmin())"
   ]
  },
  {
   "cell_type": "code",
   "execution_count": null,
   "metadata": {},
   "outputs": [],
   "source": [
    "## pos min :  0"
   ]
  },
  {
   "cell_type": "code",
   "execution_count": null,
   "metadata": {},
   "outputs": [],
   "source": [
    "print(\"pos min : \", df.height.idxmax())"
   ]
  },
  {
   "cell_type": "code",
   "execution_count": null,
   "metadata": {},
   "outputs": [],
   "source": [
    "## pos min :  4"
   ]
  },
  {
   "cell_type": "markdown",
   "metadata": {},
   "source": [
    "Une méthode très pratique est `describe()`, elle permet de retourner des statistiques descriptives sur l'ensemble des colonnes numériques :"
   ]
  },
  {
   "cell_type": "code",
   "execution_count": null,
   "metadata": {},
   "outputs": [],
   "source": [
    "print(df.describe())"
   ]
  },
  {
   "cell_type": "code",
   "execution_count": null,
   "metadata": {},
   "outputs": [],
   "source": [
    "##           height      weight        age      taille\n",
    "## count   5.000000    5.000000   5.000000    5.000000\n",
    "## mean   60.000000  120.200000  30.400000  161.600000\n",
    "## std     1.581139    4.438468   1.949359    6.228965\n",
    "## min    58.000000  115.000000  28.000000  156.000000\n",
    "## 25%    59.000000  117.000000  29.000000  158.000000\n",
    "## 50%    60.000000  120.000000  31.000000  160.000000\n",
    "## 75%    61.000000  123.000000  31.000000  162.000000\n",
    "## max    62.000000  126.000000  33.000000  172.000000"
   ]
  },
  {
   "cell_type": "markdown",
   "metadata": {},
   "source": [
    "## Tri\n",
    "\n",
    "Il est aisé de trier un dataframe par ordre croissant ou décroissant d'une ou plusieurs de ses colonnes. Pour ce faire, on utilise la méthode `sort_values()`. La syntaxe est la suivante :"
   ]
  },
  {
   "cell_type": "code",
   "execution_count": null,
   "metadata": {},
   "outputs": [],
   "source": [
    "DataFrame.sort_values(by, axis=0, ascending=True,\n",
    "                      inplace=False, kind=\"quicksort\",\n",
    "                      na_position=\"last\")"
   ]
  },
  {
   "cell_type": "code",
   "execution_count": null,
   "metadata": {},
   "outputs": [],
   "source": [
    "## NameError: name 'DataFrame' is not defined\n",
    "## \n",
    "## Detailed traceback: \n",
    "##   File \"<string>\", line 1, in <module>"
   ]
  },
  {
   "cell_type": "markdown",
   "metadata": {},
   "source": [
    "- `by` : nom ou liste de nom de la ou les colonnes utilisées pour effectuer le tri ;\n",
    "- `axis` : `0` pour l'index (par défaut), `1` pour les colonnes\n",
    "- `ascending` : booléen ou liste de booléens, quand `True` le tri est fait par valeurs croissantes (par défaut), quand `False` il est effectué par valeurs décroissantes\n",
    "- `inplace` : si `True`, le tri affecte le dataframe, sinon il retourne une vue ;\n",
    "- `kind` : choix de l'algorithme de tri (`quicksort` (par défaut), `mergesort`, `heapsort`) ;\n",
    "- `na_position` : si `first`, les valeurs manquantes sont placées au début ; si `last` (par défaut), à la fin.\n",
    "\n",
    "\n",
    "Donnons quelques exemples :"
   ]
  },
  {
   "cell_type": "code",
   "execution_count": null,
   "metadata": {},
   "outputs": [],
   "source": [
    "dico = {\"height\" : [58, 59, 60, 61, 62],\n",
    "        \"weight\": [115, np.nan, 120, 123, 126],\n",
    "        \"age\": [28, 33, 31, 31, 29],\n",
    "        \"taille\": [162, 156, 172, 160, 158],\n",
    "        \"married\": [True, True, np.nan, False, True],\n",
    "        \"city\": [\"A\", \"B\", \"B\", \"B\", \"A\"]\n",
    "       }\n",
    "df = pd.DataFrame(dico)"
   ]
  },
  {
   "cell_type": "markdown",
   "metadata": {},
   "source": [
    "Si on trie les valeurs par ordre décroissant des valeurs de la colonne `height` :"
   ]
  },
  {
   "cell_type": "code",
   "execution_count": null,
   "metadata": {},
   "outputs": [],
   "source": [
    "df.sort_values(by=\"height\", ascending=False)"
   ]
  },
  {
   "cell_type": "markdown",
   "metadata": {},
   "source": [
    "Pour effectuer un tri par ordre croissant des valeurs de `married` (rappel, `True` est interprété comme 1 et `False` comme 0), puis décoissant de `weight`, en plaçant les valeurs `NaN` en premier :"
   ]
  },
  {
   "cell_type": "code",
   "execution_count": null,
   "metadata": {},
   "outputs": [],
   "source": [
    "df.sort_values(by=[\"married\", \"weight\"],\n",
    "               ascending=[True, False],\n",
    "               na_position=\"first\")"
   ]
  },
  {
   "cell_type": "markdown",
   "metadata": {},
   "source": [
    "On note que les valeurs `NaN` sont remontées en avant pour les sous-groupes composés en fonction des valeurs de `married`.\n",
    "\n",
    "\n",
    "## Concaténation\n",
    "\n",
    "Il est fréquent d'avoir des données en provenance de plusieurs sources lorsque l'on réalise une analyse. Il est alors nécessaire de pouvoir combiner les différentes sources dans une seule. Dans cette section, nous allons nous contenter de concaténer différents dataframes entre-eux, dans des cas simples dans lesquels on sait *a priori* qu'il suffit de coller deux dataframes côte-à-côte ou l'un en-dessous de l'aure. Le cas des jointures un peu plus élaborées avec appariement en fonction d'une ou plusieurs colonnes est abordé dans la Section\\ \\@ref(pandas-jointures).\n",
    "\n",
    "\n",
    "Dans un premier temps, créons deux dataframes avec le même nombre de lignes :"
   ]
  },
  {
   "cell_type": "code",
   "execution_count": null,
   "metadata": {},
   "outputs": [],
   "source": [
    "x_1 = pd.DataFrame(np.random.randn(5, 4),\n",
    "                   columns=[\"a\", \"b\", \"c\", \"d\"])\n",
    "x_2 = pd.DataFrame(np.random.randn(5, 2),\n",
    "                   columns = [\"e\", \"f\"])\n",
    "print(\"x_1 : \\n\", x_1)"
   ]
  },
  {
   "cell_type": "code",
   "execution_count": null,
   "metadata": {},
   "outputs": [],
   "source": [
    "## x_1 : \n",
    "##            a         b         c         d\n",
    "## 0 -0.934151  0.199081  2.228332  1.017562\n",
    "## 1  0.122852 -0.508954 -0.990649 -1.317584\n",
    "## 2 -0.587927  1.143379 -0.727581  0.550802\n",
    "## 3  0.465462 -0.801028 -0.330786 -0.356580\n",
    "## 4  1.984981 -0.298151  1.622325 -1.091701"
   ]
  },
  {
   "cell_type": "code",
   "execution_count": null,
   "metadata": {},
   "outputs": [],
   "source": [
    "print(\"\\nx_2 : \\n\", x_2)"
   ]
  },
  {
   "cell_type": "code",
   "execution_count": null,
   "metadata": {},
   "outputs": [],
   "source": [
    "## \n",
    "## x_2 : \n",
    "##            e         f\n",
    "## 0 -0.399488  0.093400\n",
    "## 1 -0.118235 -0.000539\n",
    "## 2 -1.324270 -1.896939\n",
    "## 3 -1.702150 -0.458594\n",
    "## 4 -1.893025  0.104179"
   ]
  },
  {
   "cell_type": "markdown",
   "metadata": {},
   "source": [
    "Pour \"coller\" le dataframe `x_2` à droite de `x_1`, on peut utiliser la méthode `concat()` de `pandas`. Pour indiquer que la concaténation s'effectue sur les colonnes, on précise la valeur `1` pour le paramètre `axix` comme suit :"
   ]
  },
  {
   "cell_type": "code",
   "execution_count": null,
   "metadata": {},
   "outputs": [],
   "source": [
    "print(pd.concat([x_1, x_2], axis = 1))"
   ]
  },
  {
   "cell_type": "code",
   "execution_count": null,
   "metadata": {},
   "outputs": [],
   "source": [
    "##           a         b         c         d         e         f\n",
    "## 0 -0.934151  0.199081  2.228332  1.017562 -0.399488  0.093400\n",
    "## 1  0.122852 -0.508954 -0.990649 -1.317584 -0.118235 -0.000539\n",
    "## 2 -0.587927  1.143379 -0.727581  0.550802 -1.324270 -1.896939\n",
    "## 3  0.465462 -0.801028 -0.330786 -0.356580 -1.702150 -0.458594\n",
    "## 4  1.984981 -0.298151  1.622325 -1.091701 -1.893025  0.104179"
   ]
  },
  {
   "cell_type": "markdown",
   "metadata": {},
   "source": [
    "Pour coller les dataframes les uns en-dessous des autres, on peut utiliser la méthode `append()`, comme indiqué dans la Section\\ \\@ref(pandas-ajout-ligne-df), ou on peut aussi utiliser la méthode `concat()`."
   ]
  },
  {
   "cell_type": "code",
   "execution_count": null,
   "metadata": {},
   "outputs": [],
   "source": [
    "x_3 = pd.DataFrame(np.random.randn(5, 2),\n",
    "                   columns = [\"e\", \"f\"])\n",
    "print(\"x_3 : \\n\", x_3)"
   ]
  },
  {
   "cell_type": "code",
   "execution_count": null,
   "metadata": {},
   "outputs": [],
   "source": [
    "## x_3 : \n",
    "##            e         f\n",
    "## 0  0.516207 -0.189252\n",
    "## 1  1.600819  1.375482\n",
    "## 2 -0.053003 -0.866226\n",
    "## 3 -0.121132 -0.923849\n",
    "## 4 -1.000382 -0.192948"
   ]
  },
  {
   "cell_type": "markdown",
   "metadata": {},
   "source": [
    "Rajoutons les observations de `x_3` en-dessous de celles de `x_2` :"
   ]
  },
  {
   "cell_type": "code",
   "execution_count": null,
   "metadata": {},
   "outputs": [],
   "source": [
    "print(pd.concat([x_2, x_3], axis = 0))"
   ]
  },
  {
   "cell_type": "code",
   "execution_count": null,
   "metadata": {},
   "outputs": [],
   "source": [
    "##           e         f\n",
    "## 0 -0.399488  0.093400\n",
    "## 1 -0.118235 -0.000539\n",
    "## 2 -1.324270 -1.896939\n",
    "## 3 -1.702150 -0.458594\n",
    "## 4 -1.893025  0.104179\n",
    "## 0  0.516207 -0.189252\n",
    "## 1  1.600819  1.375482\n",
    "## 2 -0.053003 -0.866226\n",
    "## 3 -0.121132 -0.923849\n",
    "## 4 -1.000382 -0.192948"
   ]
  },
  {
   "cell_type": "markdown",
   "metadata": {},
   "source": [
    "Comme on peut le voir, l'indice des lignes de `x_2` n'a pas été modifié. Si on souhaite qu'il le soit, on peut le préciser via le paramètre `ignore_index` :"
   ]
  },
  {
   "cell_type": "code",
   "execution_count": null,
   "metadata": {},
   "outputs": [],
   "source": [
    "print(pd.concat([x_2, x_3], axis = 0, ignore_index=True))"
   ]
  },
  {
   "cell_type": "code",
   "execution_count": null,
   "metadata": {},
   "outputs": [],
   "source": [
    "##           e         f\n",
    "## 0 -0.399488  0.093400\n",
    "## 1 -0.118235 -0.000539\n",
    "## 2 -1.324270 -1.896939\n",
    "## 3 -1.702150 -0.458594\n",
    "## 4 -1.893025  0.104179\n",
    "## 5  0.516207 -0.189252\n",
    "## 6  1.600819  1.375482\n",
    "## 7 -0.053003 -0.866226\n",
    "## 8 -0.121132 -0.923849\n",
    "## 9 -1.000382 -0.192948"
   ]
  },
  {
   "cell_type": "markdown",
   "metadata": {},
   "source": [
    "Si le nom des colonnes n'est pas ientique, des valeurs `NaN` seront introduites :"
   ]
  },
  {
   "cell_type": "code",
   "execution_count": null,
   "metadata": {},
   "outputs": [],
   "source": [
    "x_4 = pd.DataFrame(np.random.randn(5, 2),\n",
    "                   columns = [\"e\", \"g\"])\n",
    "print(\"x_4 : \\n\", x_4)"
   ]
  },
  {
   "cell_type": "code",
   "execution_count": null,
   "metadata": {},
   "outputs": [],
   "source": [
    "## x_4 : \n",
    "##            e         g\n",
    "## 0  0.625343 -1.140830\n",
    "## 1  0.629732  1.321686\n",
    "## 2  0.455775  2.474280\n",
    "## 3  0.125557  1.111580\n",
    "## 4  1.314148  0.989392"
   ]
  },
  {
   "cell_type": "code",
   "execution_count": null,
   "metadata": {},
   "outputs": [],
   "source": [
    "pd.concat([x_2, x_4], axis = 0, sort=False, ignore_index=True)"
   ]
  },
  {
   "cell_type": "markdown",
   "metadata": {},
   "source": [
    "## Jointures {#pandas-jointures}\n",
    "\n",
    "Il est plus fréquent d'avoir recours à des jointures un peu plus élaborées pour rassembler les différentes sources de données en une seule. `pandas` offre un moyen performant pour rassembler les données, la fonction `merge()`.\n",
    "\n",
    "\n",
    "Pour illustrer les différentes jointures de cette section, créons quelques dataframes :"
   ]
  },
  {
   "cell_type": "code",
   "execution_count": null,
   "metadata": {},
   "outputs": [],
   "source": [
    "exportations_fr = pd.DataFrame(\n",
    "    {\"country\" : \"France\",\n",
    "     \"year\" : np.arange(2014, 2017),\n",
    "     \"exportations\" : [816.8192172, 851.6632573, 867.4014253]\n",
    "    })\n",
    "importations_fr = pd.DataFrame(\n",
    "    {\"country\" : \"France\",\n",
    "     \"year\" : np.arange(2015, 2018),\n",
    "     \"importations\" : [898.5242962, 936.3691166, 973.8762149]\n",
    "    })\n",
    "exportations_us = pd.DataFrame(\n",
    "    {\"country\" : \"USA\",\n",
    "     \"year\" : np.arange(2014, 2017),\n",
    "     \"exportations\" : [2208.678084, 2217.733347, 2210.442218]\n",
    "    })\n",
    "importations_us = pd.DataFrame(\n",
    "    {\"country\" : \"USA\",\n",
    "     \"year\" : np.arange(2015, 2018),\n",
    "     \"importations\" : [2827.336251, 2863.264745, np.nan]\n",
    "    })\n",
    "importations_maroc = pd.DataFrame(\n",
    "    {\"pays\" : \"Maroc\",\n",
    "     \"annee\" : np.arange(2015, 2018),\n",
    "     \"importations\" : [46.39884177, 53.52375588, 56.68165748]\n",
    "    })\n",
    "exportations_maroc = pd.DataFrame(\n",
    "    {\"country\" : \"Maroc\",\n",
    "     \"year\" : np.arange(2014, 2017),\n",
    "     \"exportations\" : [35.50207915, 37.45996653, 39.38228396]\n",
    "    })\n",
    "exportations = pd.concat([exportations_fr, exportations_us], ignore_index=True)\n",
    "importations = pd.concat([importations_fr, importations_us], ignore_index=True)\n",
    "print(\"exportations : \\n\", exportations)"
   ]
  },
  {
   "cell_type": "code",
   "execution_count": null,
   "metadata": {},
   "outputs": [],
   "source": [
    "## exportations : \n",
    "##    country  year  exportations\n",
    "## 0  France  2014    816.819217\n",
    "## 1  France  2015    851.663257\n",
    "## 2  France  2016    867.401425\n",
    "## 3     USA  2014   2208.678084\n",
    "## 4     USA  2015   2217.733347\n",
    "## 5     USA  2016   2210.442218"
   ]
  },
  {
   "cell_type": "code",
   "execution_count": null,
   "metadata": {},
   "outputs": [],
   "source": [
    "print(\"\\nimportations : \\n\", importations)"
   ]
  },
  {
   "cell_type": "code",
   "execution_count": null,
   "metadata": {},
   "outputs": [],
   "source": [
    "## \n",
    "## importations : \n",
    "##    country  year  importations\n",
    "## 0  France  2015    898.524296\n",
    "## 1  France  2016    936.369117\n",
    "## 2  France  2017    973.876215\n",
    "## 3     USA  2015   2827.336251\n",
    "## 4     USA  2016   2863.264745\n",
    "## 5     USA  2017           NaN"
   ]
  },
  {
   "cell_type": "markdown",
   "metadata": {},
   "source": [
    "La fonction `merge()` de `pandas` nécessite de préciser la table de gauche (que l'on appellera ici `x`) via le paramètre `left` sur qui viendra s'effectuer la jointure de la table de droite (que l'on appellera ici `y`) via le paramètre `right`.\n",
    "\n",
    "Par défaut, la fonction `merge()` réalise une jointure de type `inner`, c'est-à-dire que toutes les toutes les lignes de `x` qui trouvent une correspondance dans `y`, et toutes les colonnes de `x` et `y` seront dans le résultat de la jointure :"
   ]
  },
  {
   "cell_type": "code",
   "execution_count": null,
   "metadata": {},
   "outputs": [],
   "source": [
    "print(pd.merge(left = importations, right = exportations))"
   ]
  },
  {
   "cell_type": "code",
   "execution_count": null,
   "metadata": {},
   "outputs": [],
   "source": [
    "##   country  year  importations  exportations\n",
    "## 0  France  2015    898.524296    851.663257\n",
    "## 1  France  2016    936.369117    867.401425\n",
    "## 2     USA  2015   2827.336251   2217.733347\n",
    "## 3     USA  2016   2863.264745   2210.442218"
   ]
  },
  {
   "cell_type": "markdown",
   "metadata": {},
   "source": [
    "Si on désire changer le type de jointure, on peut modifier la valeur du paramètre `how` de la fonction `merge()`, pour lui donner une des valeurs suivantes :\n",
    "\n",
    "- `left` : toutes les lignes de `x`, et toutes les colonnes de `x` et `y`. Les lignes dans `x` pour lesquelles il n'y a pas de correspondance dans `y` auront des valeurs `NaN` dans les\n",
    "nouvelles colonnes. S'il y a plusieurs correspondances dans les noms entre `x` et `y`, toutes\n",
    "les combinaisons sont retournées ;\n",
    "- `inner` :  toutes les lignes de `x` pour lesquelles il y a des valeurs correspondantes dans `y`, et toutes les colonnes de `x` et `y`. S'il y a plusieurs correspondances dans les noms\n",
    "entre `x` et `y`, toutes les combinaisons possibles sont retournées ;\n",
    "- `right` : toutes les lignes de `y`, et toutes les colonnes de `y` et `x`. Les lignes dans\n",
    "`y` pour lesquelles il n'y a pas de correspondance dans `x` auront des valeurs `NaN` dans les\n",
    "nouvelles colonnes. S'il y a plusieurs correspondances dans les noms entre `y` et `x`, toutes\n",
    "les combinaisons sont retournées ;\n",
    "- `outer`: toutes les lignes de `x` et de `y`, et toutes les colonnes de `x` et `y`. Les lignes de `x` pour lesquelles il n'y a pas de correspondance dabs `y` et celles de `y` pour lesquelles il n'y a pas de correspondance dans `x` auront des valeurs `NaN`."
   ]
  },
  {
   "cell_type": "code",
   "execution_count": null,
   "metadata": {},
   "outputs": [],
   "source": [
    "print(\"left : \\n\", pd.merge(left = importations, right = exportations, how=\"left\"))"
   ]
  },
  {
   "cell_type": "code",
   "execution_count": null,
   "metadata": {},
   "outputs": [],
   "source": [
    "## left : \n",
    "##    country  year  importations  exportations\n",
    "## 0  France  2015    898.524296    851.663257\n",
    "## 1  France  2016    936.369117    867.401425\n",
    "## 2  France  2017    973.876215           NaN\n",
    "## 3     USA  2015   2827.336251   2217.733347\n",
    "## 4     USA  2016   2863.264745   2210.442218\n",
    "## 5     USA  2017           NaN           NaN"
   ]
  },
  {
   "cell_type": "code",
   "execution_count": null,
   "metadata": {},
   "outputs": [],
   "source": [
    "print(\"\\nright : \\n\", pd.merge(left = importations, right = exportations, how=\"right\"))"
   ]
  },
  {
   "cell_type": "code",
   "execution_count": null,
   "metadata": {},
   "outputs": [],
   "source": [
    "## \n",
    "## right : \n",
    "##    country  year  importations  exportations\n",
    "## 0  France  2015    898.524296    851.663257\n",
    "## 1  France  2016    936.369117    867.401425\n",
    "## 2     USA  2015   2827.336251   2217.733347\n",
    "## 3     USA  2016   2863.264745   2210.442218\n",
    "## 4  France  2014           NaN    816.819217\n",
    "## 5     USA  2014           NaN   2208.678084"
   ]
  },
  {
   "cell_type": "code",
   "execution_count": null,
   "metadata": {},
   "outputs": [],
   "source": [
    "print(\"\\nouter : \\n\", pd.merge(left = importations, right = exportations, how=\"outer\"))"
   ]
  },
  {
   "cell_type": "code",
   "execution_count": null,
   "metadata": {},
   "outputs": [],
   "source": [
    "## \n",
    "## outer : \n",
    "##    country  year  importations  exportations\n",
    "## 0  France  2015    898.524296    851.663257\n",
    "## 1  France  2016    936.369117    867.401425\n",
    "## 2  France  2017    973.876215           NaN\n",
    "## 3     USA  2015   2827.336251   2217.733347\n",
    "## 4     USA  2016   2863.264745   2210.442218\n",
    "## 5     USA  2017           NaN           NaN\n",
    "## 6  France  2014           NaN    816.819217\n",
    "## 7     USA  2014           NaN   2208.678084"
   ]
  },
  {
   "cell_type": "markdown",
   "metadata": {},
   "source": [
    "Le paramètre `on`, qui attend un nom de colonne ou une liste de noms sert à désigner les colonnes permettant de faire la jointure. Les noms de colonnes doivent être identiques dans les deux dataframes."
   ]
  },
  {
   "cell_type": "code",
   "execution_count": null,
   "metadata": {},
   "outputs": [],
   "source": [
    "print(pd.merge(left = importations, right = exportations, on = \"country\"))"
   ]
  },
  {
   "cell_type": "code",
   "execution_count": null,
   "metadata": {},
   "outputs": [],
   "source": [
    "##    country  year_x  importations  year_y  exportations\n",
    "## 0   France    2015    898.524296    2014    816.819217\n",
    "## 1   France    2015    898.524296    2015    851.663257\n",
    "## 2   France    2015    898.524296    2016    867.401425\n",
    "## 3   France    2016    936.369117    2014    816.819217\n",
    "## 4   France    2016    936.369117    2015    851.663257\n",
    "## 5   France    2016    936.369117    2016    867.401425\n",
    "## 6   France    2017    973.876215    2014    816.819217\n",
    "## 7   France    2017    973.876215    2015    851.663257\n",
    "## 8   France    2017    973.876215    2016    867.401425\n",
    "## 9      USA    2015   2827.336251    2014   2208.678084\n",
    "## 10     USA    2015   2827.336251    2015   2217.733347\n",
    "## 11     USA    2015   2827.336251    2016   2210.442218\n",
    "## 12     USA    2016   2863.264745    2014   2208.678084\n",
    "## 13     USA    2016   2863.264745    2015   2217.733347\n",
    "## 14     USA    2016   2863.264745    2016   2210.442218\n",
    "## 15     USA    2017           NaN    2014   2208.678084\n",
    "## 16     USA    2017           NaN    2015   2217.733347\n",
    "## 17     USA    2017           NaN    2016   2210.442218"
   ]
  },
  {
   "cell_type": "markdown",
   "metadata": {},
   "source": [
    "Si le nom des colonnes devant servir à réaliser la jointure sont différents entre le dataframe de gauche et celui de droite, on indique au paramètre `left_on` le ou les noms de colonnes du dataframe de gauche à utiliser pour la jointure ; et au paramètre `right_on`, le ou les noms correspondants dans le dataframe de doite :"
   ]
  },
  {
   "cell_type": "code",
   "execution_count": null,
   "metadata": {},
   "outputs": [],
   "source": [
    "pd.merge(left = importations_maroc, right = exportations_maroc,\n",
    "         left_on= [\"pays\", \"annee\"], right_on = [\"country\", \"year\"] )"
   ]
  },
  {
   "cell_type": "markdown",
   "metadata": {},
   "source": [
    "Avec le paramètre `suffixes`, on peut définir des suffixes à ajouter aux noms des colonnes lorsqu'il existe des colonnes dans `x` et dans `y` portant le même nom mais ne servant pas à la jointure. Par défaut, les suffixes (`_x` et `_y`) sont rajoutés."
   ]
  },
  {
   "cell_type": "code",
   "execution_count": null,
   "metadata": {},
   "outputs": [],
   "source": [
    "print(pd.merge(left = importations, right = exportations,\n",
    "               on = \"country\",\n",
    "               suffixes=(\"_gauche\", \"_droite\")).head(3))"
   ]
  },
  {
   "cell_type": "code",
   "execution_count": null,
   "metadata": {},
   "outputs": [],
   "source": [
    "##   country  year_gauche  importations  year_droite  exportations\n",
    "## 0  France         2015    898.524296         2014    816.819217\n",
    "## 1  France         2015    898.524296         2015    851.663257\n",
    "## 2  France         2015    898.524296         2016    867.401425"
   ]
  },
  {
   "cell_type": "markdown",
   "metadata": {},
   "source": [
    "## Agrégation\n",
    "\n",
    "Il arrive de vouloir agréger les valeurs d'une variable, pour passer par exemple d'une dimension\n",
    "trimestrielle à annuelle. Avec des observations spatiales, cela peut aussi être le cas, comme\n",
    "par exemple lorsque l'on dispose de données à l'échelle des départements et que l'on souhaite\n",
    "connaître les valeurs agrégées à l'échelle des régions.\n",
    "\n",
    "Pour illustrer les différentes opérations d'agrégation, créons un dataframe avec des des données de chômage dans différentes régions, départements et années :"
   ]
  },
  {
   "cell_type": "code",
   "execution_count": null,
   "metadata": {},
   "outputs": [],
   "source": [
    "chomage = pd.DataFrame(\n",
    "    {\"region\" : ([\"Bretagne\"]*4 + [\"Corse\"]*2)*2,\n",
    "     \"departement\" : [\"Cotes-d'Armor\", \"Finistere\",\n",
    "                      \"Ille-et-Vilaine\", \"Morbihan\",\n",
    "                      \"Corse-du-Sud\", \"Haute-Corse\"]*2,\n",
    "     \"annee\" : np.repeat([2011, 2010], 6),\n",
    "     \"ouvriers\" : [8738, 12701, 11390, 10228, 975, 1297,\n",
    "                   8113, 12258, 10897, 9617, 936, 1220],\n",
    "     \"ingenieurs\" : [1420, 2530, 3986, 2025, 259, 254,\n",
    "                     1334, 2401, 3776, 1979, 253, 241]\n",
    "    })\n",
    "print(chomage)"
   ]
  },
  {
   "cell_type": "code",
   "execution_count": null,
   "metadata": {},
   "outputs": [],
   "source": [
    "##       region      departement  annee  ouvriers  ingenieurs\n",
    "## 0   Bretagne    Cotes-d'Armor   2011      8738        1420\n",
    "## 1   Bretagne        Finistere   2011     12701        2530\n",
    "## 2   Bretagne  Ille-et-Vilaine   2011     11390        3986\n",
    "## 3   Bretagne         Morbihan   2011     10228        2025\n",
    "## 4      Corse     Corse-du-Sud   2011       975         259\n",
    "## 5      Corse      Haute-Corse   2011      1297         254\n",
    "## 6   Bretagne    Cotes-d'Armor   2010      8113        1334\n",
    "## 7   Bretagne        Finistere   2010     12258        2401\n",
    "## 8   Bretagne  Ille-et-Vilaine   2010     10897        3776\n",
    "## 9   Bretagne         Morbihan   2010      9617        1979\n",
    "## 10     Corse     Corse-du-Sud   2010       936         253\n",
    "## 11     Corse      Haute-Corse   2010      1220         241"
   ]
  },
  {
   "cell_type": "markdown",
   "metadata": {},
   "source": [
    "Comme nous l'avons vu précédemment (c.f. Section\\ \\@ref(pandas-statistiques-df)), on peut utiliser des méthodes permettant de calculer des statistiques simples sur l'ensemble des données. Par exemple, pour afficher la moyenne de chacune des colonnes numériques :"
   ]
  },
  {
   "cell_type": "code",
   "execution_count": null,
   "metadata": {},
   "outputs": [],
   "source": [
    "print(chomage.mean())"
   ]
  },
  {
   "cell_type": "code",
   "execution_count": null,
   "metadata": {},
   "outputs": [],
   "source": [
    "## annee         2010.500000\n",
    "## ouvriers      7364.166667\n",
    "## ingenieurs    1704.833333\n",
    "## dtype: float64"
   ]
  },
  {
   "cell_type": "markdown",
   "metadata": {},
   "source": [
    "Ce qui nous intéresse dans cette section, est d'effectuer des calculs sur des sous-groupes de données. Le principe est simple : dans un premier temps, on sépare les données en fonction de groupes identifiés (*split*), puis on applique une opération sur chacun des groupes (*apply*), et enfin on rassemble les résultats (*combine*). Pour effectuer le regroupement, en fonction de facteurs avant d'effectuer les calculs d'agrégation, `pandas` propose la méthode `groupby()`. On lui fournit en paramètre le ou les noms de colonnes servant à effectuer les groupes.\n",
    "\n",
    "### Agrégation selon les valeurs d'une seule colonne\n",
    "\n",
    "Par exemple, admettons que nous souhaitons obtenir le nombre total de chomeurs ouvriers par année. Dans un premier temps, on utilise la méthode `groupby()` sur notre dataframe en indiquant que les groupes doivent être créés selon les valeurs de la colonne `annee`"
   ]
  },
  {
   "cell_type": "code",
   "execution_count": null,
   "metadata": {},
   "outputs": [],
   "source": [
    "print(chomage.groupby(\"annee\"))"
   ]
  },
  {
   "cell_type": "code",
   "execution_count": null,
   "metadata": {},
   "outputs": [],
   "source": [
    "## <pandas.core.groupby.groupby.DataFrameGroupBy object at 0x119526860>"
   ]
  },
  {
   "cell_type": "markdown",
   "metadata": {},
   "source": [
    "Ensuite, on récupère la variable `ouvriers` :"
   ]
  },
  {
   "cell_type": "code",
   "execution_count": null,
   "metadata": {},
   "outputs": [],
   "source": [
    "print(chomage.groupby(\"annee\").annee)\n",
    "# Ou bien"
   ]
  },
  {
   "cell_type": "code",
   "execution_count": null,
   "metadata": {},
   "outputs": [],
   "source": [
    "## <pandas.core.groupby.groupby.SeriesGroupBy object at 0x11951d7b8>"
   ]
  },
  {
   "cell_type": "code",
   "execution_count": null,
   "metadata": {},
   "outputs": [],
   "source": [
    "print(chomage.groupby(\"annee\")[\"annee\"])"
   ]
  },
  {
   "cell_type": "code",
   "execution_count": null,
   "metadata": {},
   "outputs": [],
   "source": [
    "## <pandas.core.groupby.groupby.SeriesGroupBy object at 0x11951d748>"
   ]
  },
  {
   "cell_type": "markdown",
   "metadata": {},
   "source": [
    "Et enfin, on peut effectuer le calcul sur chaque sous-groupe et afficher le résultat :"
   ]
  },
  {
   "cell_type": "code",
   "execution_count": null,
   "metadata": {},
   "outputs": [],
   "source": [
    "print(chomage.groupby(\"annee\")[\"ouvriers\"].sum())"
   ]
  },
  {
   "cell_type": "code",
   "execution_count": null,
   "metadata": {},
   "outputs": [],
   "source": [
    "## annee\n",
    "## 2010    43041\n",
    "## 2011    45329\n",
    "## Name: ouvriers, dtype: int64"
   ]
  },
  {
   "cell_type": "markdown",
   "metadata": {},
   "source": [
    "Si on veut effectuer ce calcul pour plusieurs colonnes, par exemple `ouvriers` et `ingenieurs`, il suffit de sélectionner *a priori* la variale de regroupement et les variables pour lesquelles on désire effectuer le calcul :"
   ]
  },
  {
   "cell_type": "code",
   "execution_count": null,
   "metadata": {},
   "outputs": [],
   "source": [
    "chomage.loc[:,[\"annee\", \"ouvriers\", \"ingenieurs\"]].groupby(\"annee\").sum()"
   ]
  },
  {
   "cell_type": "markdown",
   "metadata": {},
   "source": [
    "### Agrégation selon les valeurs de plusieurs colonnes\n",
    "\n",
    "À présent, admettons que l'on souhaite effectuer une agrégation en fonction de l'année et de la région. Il s'agit simplement de donner une liste contenant les noms des colonnes utilisées pour créer les différents groupes :"
   ]
  },
  {
   "cell_type": "code",
   "execution_count": null,
   "metadata": {},
   "outputs": [],
   "source": [
    "chomage.loc[:,[\"annee\", \"region\",\n",
    "               \"ouvriers\", \"ingenieurs\"]].groupby([\"annee\",\n",
    "                                                   \"region\"]).sum()"
   ]
  },
  {
   "cell_type": "markdown",
   "metadata": {},
   "source": [
    "## Stacking et unstacking\n",
    "\n",
    "\n",
    "À compléter\n",
    "\n",
    "\n",
    "## Exportation et importation de données\n",
    "\n",
    "`pandas` offre de nombreuses fonctions pour importer et exporter des données dans différents formats.\n",
    "\n",
    "\n",
    "### Exportation des données\n",
    "\n",
    "\n",
    "#### Exportation de données tabulaires\n",
    "\n",
    "\n",
    "##### Vers un fichier CSV {pandas-export_csv}\n",
    "\n",
    "\n",
    "Pour exporter des données tabulaires, comme celles contenues dans un dataframe, `NumPy` propose la méthode `to_csv()`, qui accepte de nombreuses spécifications. Regardons quelques-unes d'entre-elles qui me semblent les plus courantes :\n",
    "\n",
    "| Paramètre | Description |\n",
    "| ---------------: | -------------------------------------------------: |\n",
    "| `path_or_buf` | chemin vers le fichier |\n",
    "| `sep` | caractère de séparation des champs |\n",
    "| `decimal` | Caractère à utiliser pour le séparateur de décimales |\n",
    "| `na_rep` | représentation à utiliser pour les valeurs manquantes |\n",
    "| `header` | indique si le nom des colonnes doit être exporté (`True` par défaut) |\n",
    "| `index` | indique si le nom des lignes doit être exporté (`True` par défaut) |\n",
    "| `mode` | mode d'écriture python (c.f. Tableau\\ \\@ref(tab:open-mode-ouverture), par défaut `w`) |\n",
    "| `encoding` | encodage des caractères (`utf-8` par défaut) |\n",
    "| `compression` | compression à utiliser pour le fichier de destination (`gzip`, `bz2`, `zip`,  `xz`) |\n",
    "| `line_terminator` | caractère de fin de ligne |\n",
    "| `quotechar` | Caractère utilisé pour mettre les champs entre *quotes* |\n",
    "| `chunksize` | (entier) nombre de lignes à écrire à la fois |\n",
    "| `date_format` | format de dates pour les objets `datetime` |\n",
    "\n",
    "Table: (#tab:pandasto-csv) Paramètres principaux de la fonction `to_csv`\n",
    "\n",
    "Admettons que nous souhaitons exporter le contenu du dataframe `chomage` vers un fichier CSV dont les champs sont séparés par des points-virgules, et en n'exportant pas l'index :"
   ]
  },
  {
   "cell_type": "code",
   "execution_count": null,
   "metadata": {},
   "outputs": [],
   "source": [
    "chomage = pd.DataFrame(\n",
    "    {\"region\" : ([\"Bretagne\"]*4 + [\"Corse\"]*2)*2,\n",
    "     \"departement\" : [\"Cotes-d'Armor\", \"Finistere\",\n",
    "                      \"Ille-et-Vilaine\", \"Morbihan\",\n",
    "                      \"Corse-du-Sud\", \"Haute-Corse\"]*2,\n",
    "     \"annee\" : np.repeat([2011, 2010], 6),\n",
    "     \"ouvriers\" : [8738, 12701, 11390, 10228, 975, 1297,\n",
    "                   8113, 12258, 10897, 9617, 936, 1220],\n",
    "     \"ingenieurs\" : [1420, 2530, 3986, 2025, 259, 254,\n",
    "                     1334, 2401, 3776, 1979, 253, 241]\n",
    "    })\n",
    "print(chomage)"
   ]
  },
  {
   "cell_type": "code",
   "execution_count": null,
   "metadata": {},
   "outputs": [],
   "source": [
    "##       region      departement  annee  ouvriers  ingenieurs\n",
    "## 0   Bretagne    Cotes-d'Armor   2011      8738        1420\n",
    "## 1   Bretagne        Finistere   2011     12701        2530\n",
    "## 2   Bretagne  Ille-et-Vilaine   2011     11390        3986\n",
    "## 3   Bretagne         Morbihan   2011     10228        2025\n",
    "## 4      Corse     Corse-du-Sud   2011       975         259\n",
    "## 5      Corse      Haute-Corse   2011      1297         254\n",
    "## 6   Bretagne    Cotes-d'Armor   2010      8113        1334\n",
    "## 7   Bretagne        Finistere   2010     12258        2401\n",
    "## 8   Bretagne  Ille-et-Vilaine   2010     10897        3776\n",
    "## 9   Bretagne         Morbihan   2010      9617        1979\n",
    "## 10     Corse     Corse-du-Sud   2010       936         253\n",
    "## 11     Corse      Haute-Corse   2010      1220         241"
   ]
  },
  {
   "cell_type": "markdown",
   "metadata": {},
   "source": [
    "Pour l'exportation :"
   ]
  },
  {
   "cell_type": "code",
   "execution_count": null,
   "metadata": {},
   "outputs": [],
   "source": [
    "chemin = \"./fichiers_exemples/chomage.csv\"\n",
    "chomage.to_csv(chemin, decimal=\";\", index=False)"
   ]
  },
  {
   "cell_type": "code",
   "execution_count": null,
   "metadata": {},
   "outputs": [],
   "source": [
    "## FileNotFoundError: [Errno 2] No such file or directory: './fichiers_exemples/chomage.csv'\n",
    "## \n",
    "## Detailed traceback: \n",
    "##   File \"<string>\", line 1, in <module>\n",
    "##   File \"/anaconda3/lib/python3.6/site-packages/pandas/core/frame.py\", line 1745, in to_csv\n",
    "##     formatter.save()\n",
    "##   File \"/anaconda3/lib/python3.6/site-packages/pandas/io/formats/csvs.py\", line 136, in save\n",
    "##     compression=None)\n",
    "##   File \"/anaconda3/lib/python3.6/site-packages/pandas/io/common.py\", line 400, in _get_handle\n",
    "##     f = open(path_or_buf, mode, encoding=encoding)"
   ]
  },
  {
   "cell_type": "markdown",
   "metadata": {},
   "source": [
    "Si on désire que le fichier CSV soit compressé dans un fichier `gzip`, on le nomme avec l'extention `.csv.gz` et on ajoute la valeur `gzip` au paramètre `compression` :"
   ]
  },
  {
   "cell_type": "code",
   "execution_count": null,
   "metadata": {},
   "outputs": [],
   "source": [
    "chemin = \"./Python_pour_economistes/fichiers_exemples/chomage.csv.gz\"\n",
    "chomage.to_csv(chemin, decimal=\";\", index=False, compression=\"gzip\")"
   ]
  },
  {
   "cell_type": "code",
   "execution_count": null,
   "metadata": {},
   "outputs": [],
   "source": [
    "## FileNotFoundError: [Errno 2] No such file or directory: './Python_pour_economistes/fichiers_exemples/chomage.csv.gz'\n",
    "## \n",
    "## Detailed traceback: \n",
    "##   File \"<string>\", line 1, in <module>\n",
    "##   File \"/anaconda3/lib/python3.6/site-packages/pandas/core/frame.py\", line 1745, in to_csv\n",
    "##     formatter.save()\n",
    "##   File \"/anaconda3/lib/python3.6/site-packages/pandas/io/formats/csvs.py\", line 136, in save\n",
    "##     compression=None)\n",
    "##   File \"/anaconda3/lib/python3.6/site-packages/pandas/io/common.py\", line 400, in _get_handle\n",
    "##     f = open(path_or_buf, mode, encoding=encoding)"
   ]
  },
  {
   "cell_type": "markdown",
   "metadata": {},
   "source": [
    "##### Vers un fichier HDF5\n",
    "\n",
    "\n",
    "Pour enregistrer les données d'un dataframe dans un fichier HDF5 utilisant HDFStore, `pandas` propose la méthode `to_hdf()` qui fonctionne de la même manière que la fonction `to_csv()` (cf. Section\\ \\@ref(pandas-export_csv)).\n",
    "\n",
    "Il est nécessaire de spécifier le paramètre `path_or_buf` pour indiquer le chemin et le paramètre `key` pour identifier l'objet à enregistrer dans le fichier.\n",
    "\n",
    "La syntaxe est la suivante :"
   ]
  },
  {
   "cell_type": "code",
   "execution_count": null,
   "metadata": {},
   "outputs": [],
   "source": [
    "chemin = \"./fichiers_exemples/chomage.h5\"\n",
    "chomage.to_hdf(chemin, \"base_chomage\", decimal=\";\", index=False)"
   ]
  },
  {
   "cell_type": "code",
   "execution_count": null,
   "metadata": {},
   "outputs": [],
   "source": [
    "## OSError: ``./fichiers_exemples`` does not exist\n",
    "## \n",
    "## Detailed traceback: \n",
    "##   File \"<string>\", line 1, in <module>\n",
    "##   File \"/anaconda3/lib/python3.6/site-packages/pandas/core/generic.py\", line 1993, in to_hdf\n",
    "##     return pytables.to_hdf(path_or_buf, key, self, **kwargs)\n",
    "##   File \"/anaconda3/lib/python3.6/site-packages/pandas/io/pytables.py\", line 278, in to_hdf\n",
    "##     complib=complib) as store:\n",
    "##   File \"/anaconda3/lib/python3.6/site-packages/pandas/io/pytables.py\", line 491, in __init__\n",
    "##     self.open(mode=mode, **kwargs)\n",
    "##   File \"/anaconda3/lib/python3.6/site-packages/pandas/io/pytables.py\", line 604, in open\n",
    "##     self._handle = tables.open_file(self._path, self._mode, **kwargs)\n",
    "##   File \"/anaconda3/lib/python3.6/site-packages/tables/file.py\", line 320, in open_file\n",
    "##     return File(filename, mode, title, root_uep, filters, **kwargs)\n",
    "##   File \"/anaconda3/lib/python3.6/site-packages/tables/file.py\", line 784, in __init__\n",
    "##     self._g_new(filename, mode, **params)\n",
    "##   File \"tables/hdf5extension.pyx\", line 371, in tables.hdf5extension.File._g_new\n",
    "##   File \"/anaconda3/lib/python3.6/site-packages/tables/utils.py\", line 185, in check_file_access\n",
    "##     check_file_access(filename, 'w')\n",
    "##   File \"/anaconda3/lib/python3.6/site-packages/tables/utils.py\", line 175, in check_file_access\n",
    "##     raise IOError(\"``%s`` does not exist\" % (parentname,))"
   ]
  },
  {
   "cell_type": "markdown",
   "metadata": {},
   "source": [
    "## Importation des données\n",
    "\n",
    "`pandas` propose de nombreuses fonctions pour importer des données. Dans cette version des notes de cours, nous allons en aborder 3 : `read_csv()`, pour lire des fichiers CSV ; `read_excel()`, pour lire des fichiers Excel ; et `read_hdf()` pour lire des fichiers HDF5.\n",
    "\n",
    "Dans la prochaine version, des ajouts sur `read_html()`, `read_fwf()`, `read_stata()`, `read_json()`.\n",
    "\n",
    "\n",
    "\n",
    "### Fichiers CSV {#pandas-importation-csv}\n",
    "\n",
    "\n",
    "Pour importer des données depuis un fichier CSV, `pandas` propose la fonction `read_csv()` :"
   ]
  },
  {
   "cell_type": "code",
   "execution_count": null,
   "metadata": {},
   "outputs": [],
   "source": [
    "chemin = \"./fichiers_exemples/chomage.csv\"\n",
    "chomage = pd.read_csv(chemin, decimal=\";\", index=False)"
   ]
  },
  {
   "cell_type": "code",
   "execution_count": null,
   "metadata": {},
   "outputs": [],
   "source": [
    "## TypeError: parser_f() got an unexpected keyword argument 'index'\n",
    "## \n",
    "## Detailed traceback: \n",
    "##   File \"<string>\", line 1, in <module>"
   ]
  },
  {
   "cell_type": "markdown",
   "metadata": {},
   "source": [
    "Il est possible de fournir une URL pointant vers un fichier CSV comme chemin, la fonction `read_csv()`.\n",
    "\n",
    "Parmi les paramètres que l'on utilise fréquemment :\n",
    "\n",
    "- `sep`, `delimiter` : séparateur de champs ;\n",
    "- `decimal` : séparateur de décimales ;\n",
    "- `header` : numéro(s) de ligne(s) à utiliser comme en-tête des données ;\n",
    "- `skiprows` : numéro(s) de ligne(s) à sauter au début ;\n",
    "- `skipfooter` : numéro(s) de ligne(s) à sauter à la fin ;\n",
    "- `nrows` : nombre de ligne à lire ;\n",
    "- `na_values` : chaînes de caractères supplémentaires à considérer comme valeurs manquantes (en plus de `#N/A`, `#N/A N/A`, `#NA`, `-1.#IND`, `-1.#QNAN`, `-NaN`, `-nan`, `1.#IND`, `1.#QNAN`, `N/A`, `NA`, `NULL`, `NaN`, `n/a`, `nan`, `null`) ;\n",
    "- `quotechar` : caractère de *quote* ;\n",
    "- `encoding` : encodage des caractères (défaut `utf-8`).\n",
    "\n",
    "\n",
    "\n",
    "\n",
    "### Fichiers Excel {#pandas-importation-excel}\n",
    "\n",
    "Pour importer des fichiers Excel, `pandas` propose la fonction `read_excel()`."
   ]
  },
  {
   "cell_type": "code",
   "execution_count": null,
   "metadata": {},
   "outputs": [],
   "source": [
    "chemin = \"./fichiers_exemples/chomage.xlsx\"\n",
    "chomage = pd.read_excel(chemin, skiprows=2, header=1, sheet = 1)"
   ]
  },
  {
   "cell_type": "code",
   "execution_count": null,
   "metadata": {},
   "outputs": [],
   "source": [
    "## FileNotFoundError: [Errno 2] No such file or directory: './fichiers_exemples/chomage.xlsx'\n",
    "## \n",
    "## Detailed traceback: \n",
    "##   File \"<string>\", line 1, in <module>\n",
    "##   File \"/anaconda3/lib/python3.6/site-packages/pandas/util/_decorators.py\", line 177, in wrapper\n",
    "##     return func(*args, **kwargs)\n",
    "##   File \"/anaconda3/lib/python3.6/site-packages/pandas/util/_decorators.py\", line 177, in wrapper\n",
    "##     return func(*args, **kwargs)\n",
    "##   File \"/anaconda3/lib/python3.6/site-packages/pandas/io/excel.py\", line 307, in read_excel\n",
    "##     io = ExcelFile(io, engine=engine)\n",
    "##   File \"/anaconda3/lib/python3.6/site-packages/pandas/io/excel.py\", line 394, in __init__\n",
    "##     self.book = xlrd.open_workbook(self._io)\n",
    "##   File \"/anaconda3/lib/python3.6/site-packages/xlrd/__init__.py\", line 116, in open_workbook\n",
    "##     with open(filename, \"rb\") as f:"
   ]
  },
  {
   "cell_type": "code",
   "execution_count": null,
   "metadata": {},
   "outputs": [],
   "source": [
    "print(chomage)"
   ]
  },
  {
   "cell_type": "code",
   "execution_count": null,
   "metadata": {},
   "outputs": [],
   "source": [
    "##       region      departement  annee  ouvriers  ingenieurs\n",
    "## 0   Bretagne    Cotes-d'Armor   2011      8738        1420\n",
    "## 1   Bretagne        Finistere   2011     12701        2530\n",
    "## 2   Bretagne  Ille-et-Vilaine   2011     11390        3986\n",
    "## 3   Bretagne         Morbihan   2011     10228        2025\n",
    "## 4      Corse     Corse-du-Sud   2011       975         259\n",
    "## 5      Corse      Haute-Corse   2011      1297         254\n",
    "## 6   Bretagne    Cotes-d'Armor   2010      8113        1334\n",
    "## 7   Bretagne        Finistere   2010     12258        2401\n",
    "## 8   Bretagne  Ille-et-Vilaine   2010     10897        3776\n",
    "## 9   Bretagne         Morbihan   2010      9617        1979\n",
    "## 10     Corse     Corse-du-Sud   2010       936         253\n",
    "## 11     Corse      Haute-Corse   2010      1220         241"
   ]
  },
  {
   "cell_type": "markdown",
   "metadata": {},
   "source": [
    "Parmi les paramètres fréquemment utilisés :\n",
    "\n",
    "- `header` : numéro de ligne à utiliser comme en-tête ;\n",
    "- `sheet` : nom ou numéro de feuille ;\n",
    "- `skiprows` : nombre de lignes à sauter au début ;\n",
    "- `thousands` : séparateur de milliers.\n",
    "\n",
    "\n",
    "### Fichiers HDF5 {#pandas-importation-hdf}"
   ]
  },
  {
   "cell_type": "code",
   "execution_count": null,
   "metadata": {},
   "outputs": [],
   "source": [
    "chemin = \"./fichiers_exemples/chomage.h5\"\n",
    "print(pd.read_hdf(chemin, \"base_chomage\"))"
   ]
  },
  {
   "cell_type": "code",
   "execution_count": null,
   "metadata": {},
   "outputs": [],
   "source": [
    "## FileNotFoundError: File ./fichiers_exemples/chomage.h5 does not exist\n",
    "## \n",
    "## Detailed traceback: \n",
    "##   File \"<string>\", line 1, in <module>\n",
    "##   File \"/anaconda3/lib/python3.6/site-packages/pandas/io/pytables.py\", line 371, in read_hdf\n",
    "##     'File %s does not exist' % path_or_buf)"
   ]
  },
  {
   "cell_type": "markdown",
   "metadata": {},
   "source": [
    "## Exercice\n",
    "\n",
    "\n",
    "\n",
    "**Exercice 1 : Importation et exportation**\n",
    "\n",
    "1. Télécharger à la main le fichier csv à l'adresse suivante : http://egallic.fr/Enseignement/Python/Exercices/donnees/notes.csv et le placer dans le répertoire courant. Importer son contenu dans Python.\n",
    "2. Importer à nouveau les données dans Python, mais en fournissant cette fois le l’url directement à la fonction d'importation.\n",
    "3. À présent, importer le contenu du fichier disponible à l’adresse http://egallic.fr/Enseignement/Python/Exercices/donnees/notes_decim.csv. Le séparateur de champs est un point virgule\n",
    "et le séparateur décimal est une virgule.\n",
    "4. Importer le contenu du fichier http://egallic.fr/Enseignement/Python/Exercices/donnees/notes_h.csv. Le nom des colonnes n’est pas présent.\n",
    "5. Importer le contenu du fichier http://egallic.fr/Enseignement/Python/Exercices/donnees/notes_h_s.csv. La première ligne n’est pas à importer.\n",
    "6. Importer le contenu de la première feuille du fichier Excel http://egallic.fr/Enseignement/Python/Exercices/donnees/notes.xlsx.\n",
    "7. Importer le contenu de la seconde feuille (`notes_h_s`) du fichier Excel disponible ici : http://egallic.fr/Enseignement/Python/Exercices/donnees/notes.xlsx. La première ligne est un commentaire à ne pas considérer durant l’importaiton.\n",
    "8. Exporter le contenu de l’objet contenant les notes de la question précédente au format csv (virgule\n",
    "en séparateur de champs, point en séparateur décimal, ne pas conserver le numéro des\n",
    "lignes).\n",
    "\n",
    "\n",
    "**Exercice 2 : Manipulation de tableaux de données**\n",
    "\n",
    "1. À l'aide de la fonction `read_excel()` de la librairie `pandas`, importer le contenu de la feuille intitulée `notes_2012` du fichier Excel disponible à l'adresse suivante : http://egallic.fr/Enseignement/Python/Exercices/donnees/notes_etudiants.xlsx et le stocker dans une variable que l'on nommera notes_2012.\n",
    "2. Afficher les 6 premières lignes du jeu de données, puis les dimensions du tableau.\n",
    "3. Conserver uniquement la colonne `note_stat` du tableau de données `notes_2012` dans un objet que l'on appellera `tmp`.\n",
    "4. Conserver uniquement les colonnes `num_etudiant`, `note_stat` et `note_macro` dans un objet nommé `tmp`.\n",
    "5. Remplacer le contenu de `tmp` par les observations de `notes_2012` pour lesquelles l'individu a obtenu une note de stat supérieure (strictement) à 10.\n",
    "6. Remplacer le contenu de tmp par les observations de `notes_2012` pour lesquelles l'individu a obtenu une note de stats comprise dans l'intervalle (10, 15).\n",
    "7. Regarder s'il y a des doublons dans le tableau de données `notees_2012` ; le cas échéant, les retirer du tableau.\n",
    "8. Afficher le type des données de la colonne `num_etudiant`, puis afficher le type de toutes les colonnes de notes_2012.\n",
    "9. Ajouter au tableau `notes_2012` les colonnes suivantes :\n",
    "\n",
    "  (a) `note_stat_maj` : la note de stat (`note_stat`) majorée d'un point,\n",
    "  (b) `note_macro_maj` : la note de macro (`note_macro`) majorée de trois points (le faire en deux étapes : d'abord deux points en plus, puis un point).\n",
    "10. Renommer la colonne year en annee.\n",
    "11. Depuis le fichier `notes_etudiants.xlsx` (c.f. question 1), importer le contenu des feuilles `notes_2013`, `notes_2014` et `prenoms` et le stocker dans les objets `notes_2013`, `notes_2014` et `prenoms`, respectivement.\n",
    "12. Empiler le contenu des tableaux de données `notes_2012`, `notes_2013` et `notes_2014` dans un objet que l'on nommera `notes`.\n",
    "13. Fusionner les tableaux `notes` et `prenoms` à l'aide d'une jointure gauche, de manière à rajouter les informations contenues dans le tableau prenoms aux observations de notes. La jointure doit se faire par le numéro d'étudiant et l'année, l'objet final viendra remplacer le contenu de notes.\n",
    "14. Trier le tableau notes par années croissantes et notes de macro décroissantes.\n",
    "15. Créer une colonne `apres_2012` qui prend la valeur `True` si l'observation concerne une note attribuée après 2012.\n",
    "16. En effectuant des regroupements sur le dataframe `notes` calculer :\n",
    "\n",
    "  (a) la moyenne et l'écart-type annuels des notes pour chacune des deux matières,\n",
    "  (b) la moyenne et l'écart-type annuels et par sexe des notes pour chacune des deux matières."
   ]
  }
 ],
 "metadata": {
  "kernelspec": {
   "display_name": "Python 3",
   "language": "python",
   "name": "python3"
  },
  "language_info": {
   "codemirror_mode": {
    "name": "ipython",
    "version": 3
   },
   "file_extension": ".py",
   "mimetype": "text/x-python",
   "name": "python",
   "nbconvert_exporter": "python",
   "pygments_lexer": "ipython3",
   "version": "3.6.5"
  }
 },
 "nbformat": 4,
 "nbformat_minor": 2
}
